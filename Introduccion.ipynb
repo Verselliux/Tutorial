{
 "cells": [
  {
   "cell_type": "markdown",
   "id": "9482737c",
   "metadata": {},
   "source": [
    "# Introducción\n",
    "\n",
    "Polars es una biblioteca de análisis de datos de alto rendimiento y fácil de usar en Python. A diferencia de Pandas, Polars cuenta con un diseño y arquitectura optimizada para el procesamiento de grandes conjuntos de datos.\n",
    "\n",
    "Polars se basa en Rust, un lenguaje de programación que se enfoca en la seguridad, la eficiencia y la concurrencia.Polars utiliza la librería Apache Arrow para trabajar con datos en memoria, lo que permite una transferencia de datos más rápida entre diferentes procesos y un mejor acceso a los datos. Arrow también utiliza un formato de datos columnar, que es más eficiente para muchas operaciones de manipulación de datos que el formato de fila utilizado por Pandas.\n",
    "\n",
    "### Características:\n",
    "- Utiliza todos los núcleos disponibles .\n",
    "- Maneja de conjuntos de datos extensos.\n",
    "- Tiene una API que es consistente y predecible.\n",
    "- Tiene un esquema estricto .\n",
    "\n",
    "### Objetivos:\n",
    "- Reduce las copias redundantes. \n",
    "- Atraviese la caché de memoria de manera eficiente. \n",
    "- Minimiza la contención en el paralelismo.\n",
    "- Cumple con un procesamiento de datos de código abierto.\n",
    "- Reutiliza las asignaciones de memoria. \n",
    "- Ofrece herramientas para el análisis y la visualización de datos.\n",
    "\n",
    "\n",
    "<img src= \"https://raw.githubusercontent.com/pola-rs/polars-static/master/logos/polars_github_logo_rect_dark_name.svg\" alt=\"nombre de la imagen\" width=\"680\" height=\"300\">"
   ]
  },
  {
   "cell_type": "code",
   "execution_count": null,
   "id": "32a0245b",
   "metadata": {},
   "outputs": [],
   "source": []
  }
 ],
 "metadata": {
  "kernelspec": {
   "display_name": "Python 3 (ipykernel)",
   "language": "python",
   "name": "python3"
  },
  "language_info": {
   "codemirror_mode": {
    "name": "ipython",
    "version": 3
   },
   "file_extension": ".py",
   "mimetype": "text/x-python",
   "name": "python",
   "nbconvert_exporter": "python",
   "pygments_lexer": "ipython3",
   "version": "3.9.13"
  }
 },
 "nbformat": 4,
 "nbformat_minor": 5
}
