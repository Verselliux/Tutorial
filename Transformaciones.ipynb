{
 "cells": [
  {
   "cell_type": "markdown",
   "id": "2dce49a9",
   "metadata": {},
   "source": [
    "# Transformaciones\n"
   ]
  },
  {
   "cell_type": "markdown",
   "id": "3e7dd841",
   "metadata": {},
   "source": [
    "## Joins\n",
    "<b>Los joins son una serie de sentencias las cuales tienen como objetivo el combinar 2 tablas de datos. Dependiendo del objetivo del usuario estas pueden separarse en:</b>\n",
    "\n",
    "- Inner join\n",
    "- Left join\n",
    "- Outer join\n",
    "- Cross join\n",
    "- Semi join\n",
    "- Anti join\n",
    "- Asof join\n",
    "\n",
    "\n",
    "![joins](https://help.pyramidanalytics.com/content/root/MainClient/apps/Model/Model%20Pro/Data%20Flow/Joins/Images/UnionDiagram.png)"
   ]
  },
  {
   "cell_type": "markdown",
   "id": "4f1b748f",
   "metadata": {},
   "source": [
    "Con el proposito de presentar mejor cada función, crearemos 2 data frames, el primero llamado 'Estudiantes', el cual tendra como atributos: 'ID_Estudiante','Nombre', 'Edad', 'Carrera' y 'Sexo'. Y el segundo llamado 'Notas', el cual tendra como atributos:'ID_Notas', 'ID_Estudiante' y 'Nota'. La llave foranea (es decir la columna que unira a ambos data frames) sera 'ID_Estudiante'."
   ]
  },
  {
   "cell_type": "code",
   "execution_count": 96,
   "id": "ca3a5efb",
   "metadata": {},
   "outputs": [
    {
     "name": "stdout",
     "output_type": "stream",
     "text": [
      "shape: (6, 5)\n",
      "┌───────────────┬──────────┬──────┬─────────────────────────┬──────┐\n",
      "│ ID_Estudiante ┆ Nombre   ┆ Edad ┆ Carrera                 ┆ Sexo │\n",
      "│ ---           ┆ ---      ┆ ---  ┆ ---                     ┆ ---  │\n",
      "│ i64           ┆ str      ┆ i64  ┆ str                     ┆ str  │\n",
      "╞═══════════════╪══════════╪══════╪═════════════════════════╪══════╡\n",
      "│ 1001          ┆ Juliana  ┆ 21   ┆ Estadistica Informatica ┆ F    │\n",
      "│ 1002          ┆ Fernando ┆ 19   ┆ Economia                ┆ M    │\n",
      "│ 1003          ┆ Lucero   ┆ 19   ┆ Gestion                 ┆ F    │\n",
      "│ 1004          ┆ Josselyn ┆ 20   ┆ Gestion                 ┆ F    │\n",
      "│ 1005          ┆ Ismael   ┆ 29   ┆ Economia                ┆ M    │\n",
      "│ 1006          ┆ Ximena   ┆ 20   ┆ Estadistica Informatica ┆ F    │\n",
      "└───────────────┴──────────┴──────┴─────────────────────────┴──────┘\n",
      "shape: (5, 3)\n",
      "┌──────────┬───────────────┬──────┐\n",
      "│ ID_Notas ┆ ID_Estudiante ┆ Nota │\n",
      "│ ---      ┆ ---           ┆ ---  │\n",
      "│ i64      ┆ i64           ┆ i64  │\n",
      "╞══════════╪═══════════════╪══════╡\n",
      "│ 2001     ┆ 1001          ┆ 18   │\n",
      "│ 2002     ┆ 1002          ┆ 0    │\n",
      "│ 2003     ┆ 1003          ┆ 10   │\n",
      "│ 2004     ┆ 1004          ┆ 17   │\n",
      "│ 2005     ┆ 1005          ┆ 20   │\n",
      "└──────────┴───────────────┴──────┘\n"
     ]
    }
   ],
   "source": [
    "import polars as pl\n",
    "from datetime import datetime\n",
    "\n",
    "Estudiantes = pl.DataFrame({\"ID_Estudiante\":[1001,1002,1003,1004,1005,1006]\n",
    "                            ,\"Nombre\":[\"Juliana\",\"Fernando\",\"Lucero\",\"Josselyn\",\"Ismael\",\"Ximena\"]\n",
    "                     , \"Edad\":[21,19,19,20,29,20], \"Carrera\":[\"Estadistica Informatica\",\"Economia\",\"Gestion\",\"Gestion\",\"Economia\",\"Estadistica Informatica\"]\n",
    "                     , \"Sexo\":[\"F\",\"M\",\"F\",\"F\",\"M\",\"F\"]})\n",
    "\n",
    "Notas = pl.DataFrame({\"ID_Notas\":[2001,2002,2003,2004,2005], \"ID_Estudiante\":[1001,1002,1003,1004,1005],\"Nota\":[18,0,10,17,20]})\n",
    "\n",
    "print(Estudiantes)\n",
    "print(Notas)\n"
   ]
  },
  {
   "cell_type": "markdown",
   "id": "1e5f6e99",
   "metadata": {},
   "source": [
    "### Inner join:\n",
    "<b>La función 'inner join' une aquellas filas de ambas tablas que tengan un parametro en comun el cual sera definido por 'on', es decir que generara un data frame con la interseccion de ambas tablas.</b>"
   ]
  },
  {
   "cell_type": "code",
   "execution_count": 35,
   "id": "6f083f12",
   "metadata": {},
   "outputs": [
    {
     "name": "stdout",
     "output_type": "stream",
     "text": [
      "shape: (5, 7)\n",
      "┌───────────────┬──────────┬──────┬─────────────────────────┬──────┬──────────┬──────┐\n",
      "│ ID_Estudiante ┆ Nombre   ┆ Edad ┆ Carrera                 ┆ Sexo ┆ ID_Notas ┆ Nota │\n",
      "│ ---           ┆ ---      ┆ ---  ┆ ---                     ┆ ---  ┆ ---      ┆ ---  │\n",
      "│ i64           ┆ str      ┆ i64  ┆ str                     ┆ str  ┆ i64      ┆ i64  │\n",
      "╞═══════════════╪══════════╪══════╪═════════════════════════╪══════╪══════════╪══════╡\n",
      "│ 1001          ┆ Juliana  ┆ 21   ┆ Estadistica Informatica ┆ F    ┆ 2001     ┆ 18   │\n",
      "│ 1002          ┆ Fernando ┆ 19   ┆ Economia                ┆ M    ┆ 2002     ┆ 0    │\n",
      "│ 1003          ┆ Lucero   ┆ 19   ┆ Gestion                 ┆ F    ┆ 2003     ┆ 10   │\n",
      "│ 1004          ┆ Josselyn ┆ 20   ┆ Gestion                 ┆ F    ┆ 2004     ┆ 17   │\n",
      "│ 1005          ┆ Ismael   ┆ 29   ┆ Economia                ┆ M    ┆ 2005     ┆ 20   │\n",
      "└───────────────┴──────────┴──────┴─────────────────────────┴──────┴──────────┴──────┘\n"
     ]
    }
   ],
   "source": [
    "inner_join = Estudiantes.join(Notas,how=\"inner\",on=\"ID_Estudiante\")\n",
    "\n",
    "print(inner_join)"
   ]
  },
  {
   "cell_type": "markdown",
   "id": "dba190f0",
   "metadata": {},
   "source": [
    "### Left join:\n",
    "<b>La función 'left join' une aquellas filas de la segunda tabla que tengan un parametro en comun con la primera tabla, manteniendo esta ultima.</b>"
   ]
  },
  {
   "cell_type": "code",
   "execution_count": 36,
   "id": "4b6f5120",
   "metadata": {},
   "outputs": [
    {
     "name": "stdout",
     "output_type": "stream",
     "text": [
      "shape: (6, 7)\n",
      "┌───────────────┬──────────┬──────┬─────────────────────────┬──────┬──────────┬──────┐\n",
      "│ ID_Estudiante ┆ Nombre   ┆ Edad ┆ Carrera                 ┆ Sexo ┆ ID_Notas ┆ Nota │\n",
      "│ ---           ┆ ---      ┆ ---  ┆ ---                     ┆ ---  ┆ ---      ┆ ---  │\n",
      "│ i64           ┆ str      ┆ i64  ┆ str                     ┆ str  ┆ i64      ┆ i64  │\n",
      "╞═══════════════╪══════════╪══════╪═════════════════════════╪══════╪══════════╪══════╡\n",
      "│ 1001          ┆ Juliana  ┆ 21   ┆ Estadistica Informatica ┆ F    ┆ 2001     ┆ 18   │\n",
      "│ 1002          ┆ Fernando ┆ 19   ┆ Economia                ┆ M    ┆ 2002     ┆ 0    │\n",
      "│ 1003          ┆ Lucero   ┆ 19   ┆ Gestion                 ┆ F    ┆ 2003     ┆ 10   │\n",
      "│ 1004          ┆ Josselyn ┆ 20   ┆ Gestion                 ┆ F    ┆ 2004     ┆ 17   │\n",
      "│ 1005          ┆ Ismael   ┆ 29   ┆ Economia                ┆ M    ┆ 2005     ┆ 20   │\n",
      "│ 1006          ┆ Ximena   ┆ 20   ┆ Estadistica Informatica ┆ F    ┆ null     ┆ null │\n",
      "└───────────────┴──────────┴──────┴─────────────────────────┴──────┴──────────┴──────┘\n",
      "shape: (5, 7)\n",
      "┌──────────┬───────────────┬──────┬──────────┬──────┬─────────────────────────┬──────┐\n",
      "│ ID_Notas ┆ ID_Estudiante ┆ Nota ┆ Nombre   ┆ Edad ┆ Carrera                 ┆ Sexo │\n",
      "│ ---      ┆ ---           ┆ ---  ┆ ---      ┆ ---  ┆ ---                     ┆ ---  │\n",
      "│ i64      ┆ i64           ┆ i64  ┆ str      ┆ i64  ┆ str                     ┆ str  │\n",
      "╞══════════╪═══════════════╪══════╪══════════╪══════╪═════════════════════════╪══════╡\n",
      "│ 2001     ┆ 1001          ┆ 18   ┆ Juliana  ┆ 21   ┆ Estadistica Informatica ┆ F    │\n",
      "│ 2002     ┆ 1002          ┆ 0    ┆ Fernando ┆ 19   ┆ Economia                ┆ M    │\n",
      "│ 2003     ┆ 1003          ┆ 10   ┆ Lucero   ┆ 19   ┆ Gestion                 ┆ F    │\n",
      "│ 2004     ┆ 1004          ┆ 17   ┆ Josselyn ┆ 20   ┆ Gestion                 ┆ F    │\n",
      "│ 2005     ┆ 1005          ┆ 20   ┆ Ismael   ┆ 29   ┆ Economia                ┆ M    │\n",
      "└──────────┴───────────────┴──────┴──────────┴──────┴─────────────────────────┴──────┘\n"
     ]
    }
   ],
   "source": [
    "left_join_1 = Estudiantes.join(Notas,how=\"left\",on=\"ID_Estudiante\")\n",
    "\n",
    "left_join_2 = Notas.join(Estudiantes,how=\"left\",on=\"ID_Estudiante\")\n",
    "\n",
    "print(left_join_1)\n",
    "print(left_join_2)\n"
   ]
  },
  {
   "cell_type": "markdown",
   "id": "89f6dc96",
   "metadata": {},
   "source": [
    "### Outer join:\n",
    "<b>La función 'outer join' que genera un data frame con las filas de ambos data frames ingresados, ademas pueden existir columnas nulas si la clave foranea no existe en la segunda tabla.</b>"
   ]
  },
  {
   "cell_type": "code",
   "execution_count": 37,
   "id": "08a25da8",
   "metadata": {},
   "outputs": [
    {
     "name": "stdout",
     "output_type": "stream",
     "text": [
      "shape: (6, 7)\n",
      "┌───────────────┬──────────┬──────┬─────────────────────────┬──────┬──────────┬──────┐\n",
      "│ ID_Estudiante ┆ Nombre   ┆ Edad ┆ Carrera                 ┆ Sexo ┆ ID_Notas ┆ Nota │\n",
      "│ ---           ┆ ---      ┆ ---  ┆ ---                     ┆ ---  ┆ ---      ┆ ---  │\n",
      "│ i64           ┆ str      ┆ i64  ┆ str                     ┆ str  ┆ i64      ┆ i64  │\n",
      "╞═══════════════╪══════════╪══════╪═════════════════════════╪══════╪══════════╪══════╡\n",
      "│ 1001          ┆ Juliana  ┆ 21   ┆ Estadistica Informatica ┆ F    ┆ 2001     ┆ 18   │\n",
      "│ 1002          ┆ Fernando ┆ 19   ┆ Economia                ┆ M    ┆ 2002     ┆ 0    │\n",
      "│ 1003          ┆ Lucero   ┆ 19   ┆ Gestion                 ┆ F    ┆ 2003     ┆ 10   │\n",
      "│ 1004          ┆ Josselyn ┆ 20   ┆ Gestion                 ┆ F    ┆ 2004     ┆ 17   │\n",
      "│ 1005          ┆ Ismael   ┆ 29   ┆ Economia                ┆ M    ┆ 2005     ┆ 20   │\n",
      "│ 1006          ┆ Ximena   ┆ 20   ┆ Estadistica Informatica ┆ F    ┆ null     ┆ null │\n",
      "└───────────────┴──────────┴──────┴─────────────────────────┴──────┴──────────┴──────┘\n",
      "shape: (6, 7)\n",
      "┌──────────┬───────────────┬──────┬──────────┬──────┬─────────────────────────┬──────┐\n",
      "│ ID_Notas ┆ ID_Estudiante ┆ Nota ┆ Nombre   ┆ Edad ┆ Carrera                 ┆ Sexo │\n",
      "│ ---      ┆ ---           ┆ ---  ┆ ---      ┆ ---  ┆ ---                     ┆ ---  │\n",
      "│ i64      ┆ i64           ┆ i64  ┆ str      ┆ i64  ┆ str                     ┆ str  │\n",
      "╞══════════╪═══════════════╪══════╪══════════╪══════╪═════════════════════════╪══════╡\n",
      "│ 2001     ┆ 1001          ┆ 18   ┆ Juliana  ┆ 21   ┆ Estadistica Informatica ┆ F    │\n",
      "│ 2002     ┆ 1002          ┆ 0    ┆ Fernando ┆ 19   ┆ Economia                ┆ M    │\n",
      "│ 2003     ┆ 1003          ┆ 10   ┆ Lucero   ┆ 19   ┆ Gestion                 ┆ F    │\n",
      "│ 2004     ┆ 1004          ┆ 17   ┆ Josselyn ┆ 20   ┆ Gestion                 ┆ F    │\n",
      "│ 2005     ┆ 1005          ┆ 20   ┆ Ismael   ┆ 29   ┆ Economia                ┆ M    │\n",
      "│ null     ┆ 1006          ┆ null ┆ Ximena   ┆ 20   ┆ Estadistica Informatica ┆ F    │\n",
      "└──────────┴───────────────┴──────┴──────────┴──────┴─────────────────────────┴──────┘\n"
     ]
    }
   ],
   "source": [
    "outer_join_1 = Estudiantes.join(Notas,on = \"ID_Estudiante\",how=\"outer\")\n",
    "\n",
    "outer_join_2 = Notas.join(Estudiantes, on = \"ID_Estudiante\",how= \"outer\")\n",
    "\n",
    "print(outer_join_1)\n",
    "print(outer_join_2)"
   ]
  },
  {
   "cell_type": "markdown",
   "id": "9919a32f",
   "metadata": {},
   "source": [
    "### Cross join:\n",
    "<b>La función 'cross join' genera un data frame con todas las posibles combinaciones de filas entre los 2 data frame ingresados.</b>\n"
   ]
  },
  {
   "cell_type": "markdown",
   "id": "43110a20",
   "metadata": {},
   "source": [
    "En este ejemplo queremos obtener todas las maneras diferentes en que podemos vestir a una persona, para ello, creamos 2 data frames, el primero llamado 'camisas' el cual tendra como atributos 'camisa_color' con los posibles colores de camisas y 'Marca_camisa' con las respectivas marcas de camisas, el segundo data frame contendra 'pantalon_color' con los posibles colores de pantalones y 'Marca_pantalon' con las respetivas marcas de pantalones."
   ]
  },
  {
   "cell_type": "code",
   "execution_count": 38,
   "id": "e772754c",
   "metadata": {},
   "outputs": [
    {
     "name": "stdout",
     "output_type": "stream",
     "text": [
      "shape: (3, 2)\n",
      "┌──────────────┬──────────────┐\n",
      "│ Camisa_Color ┆ Marca_Camisa │\n",
      "│ ---          ┆ ---          │\n",
      "│ str          ┆ str          │\n",
      "╞══════════════╪══════════════╡\n",
      "│ Rojo         ┆ Charvet      │\n",
      "│ Azul         ┆ Lorenzini    │\n",
      "│ Negro        ┆ Kabbaz       │\n",
      "└──────────────┴──────────────┘\n",
      "shape: (3, 2)\n",
      "┌────────────────┬────────────────┐\n",
      "│ Pantalon_Color ┆ Marca_pantalon │\n",
      "│ ---            ┆ ---            │\n",
      "│ str            ┆ str            │\n",
      "╞════════════════╪════════════════╡\n",
      "│ Negro          ┆ Levis          │\n",
      "│ Marron         ┆ The brand      │\n",
      "│ Azul           ┆ AJ             │\n",
      "└────────────────┴────────────────┘\n"
     ]
    }
   ],
   "source": [
    "Camisas = pl.DataFrame({\"Camisa_Color\":[\"Rojo\",\"Azul\",\"Negro\"], \"Marca_Camisa\":[\"Charvet\",\"Lorenzini\",\"Kabbaz\"]})\n",
    "\n",
    "Pantalones = pl.DataFrame({\"Pantalon_Color\":[\"Negro\",\"Marron\",\"Azul\"], \"Marca_pantalon\":[\"Levis\",\"The brand\",\"AJ\"]})\n",
    "\n",
    "print(Camisas)\n",
    "print(Pantalones)"
   ]
  },
  {
   "cell_type": "code",
   "execution_count": 39,
   "id": "b96dca20",
   "metadata": {},
   "outputs": [
    {
     "name": "stdout",
     "output_type": "stream",
     "text": [
      "shape: (9, 4)\n",
      "┌──────────────┬──────────────┬────────────────┬────────────────┐\n",
      "│ Camisa_Color ┆ Marca_Camisa ┆ Pantalon_Color ┆ Marca_pantalon │\n",
      "│ ---          ┆ ---          ┆ ---            ┆ ---            │\n",
      "│ str          ┆ str          ┆ str            ┆ str            │\n",
      "╞══════════════╪══════════════╪════════════════╪════════════════╡\n",
      "│ Rojo         ┆ Charvet      ┆ Negro          ┆ Levis          │\n",
      "│ Rojo         ┆ Charvet      ┆ Marron         ┆ The brand      │\n",
      "│ Rojo         ┆ Charvet      ┆ Azul           ┆ AJ             │\n",
      "│ Azul         ┆ Lorenzini    ┆ Negro          ┆ Levis          │\n",
      "│ Azul         ┆ Lorenzini    ┆ Marron         ┆ The brand      │\n",
      "│ Azul         ┆ Lorenzini    ┆ Azul           ┆ AJ             │\n",
      "│ Negro        ┆ Kabbaz       ┆ Negro          ┆ Levis          │\n",
      "│ Negro        ┆ Kabbaz       ┆ Marron         ┆ The brand      │\n",
      "│ Negro        ┆ Kabbaz       ┆ Azul           ┆ AJ             │\n",
      "└──────────────┴──────────────┴────────────────┴────────────────┘\n"
     ]
    }
   ],
   "source": [
    "Cross_join = Camisas.join(Pantalones,how=\"cross\")\n",
    "print(Cross_join)"
   ]
  },
  {
   "cell_type": "markdown",
   "id": "38f15794",
   "metadata": {},
   "source": [
    "### Semi join:\n",
    "<b>La función 'semi join' tiene como objetivo generar un data frame con los mismos atributos de la primera tabla pero manteniendo solo aquellas filas las cuales tenian una llave foranea que aparecia tambien en la segunda tabla.</b>"
   ]
  },
  {
   "cell_type": "code",
   "execution_count": 40,
   "id": "5013c7bd",
   "metadata": {},
   "outputs": [
    {
     "name": "stdout",
     "output_type": "stream",
     "text": [
      "shape: (5, 5)\n",
      "┌───────────────┬──────────┬──────┬─────────────────────────┬──────┐\n",
      "│ ID_Estudiante ┆ Nombre   ┆ Edad ┆ Carrera                 ┆ Sexo │\n",
      "│ ---           ┆ ---      ┆ ---  ┆ ---                     ┆ ---  │\n",
      "│ i64           ┆ str      ┆ i64  ┆ str                     ┆ str  │\n",
      "╞═══════════════╪══════════╪══════╪═════════════════════════╪══════╡\n",
      "│ 1001          ┆ Juliana  ┆ 21   ┆ Estadistica Informatica ┆ F    │\n",
      "│ 1002          ┆ Fernando ┆ 19   ┆ Economia                ┆ M    │\n",
      "│ 1003          ┆ Lucero   ┆ 19   ┆ Gestion                 ┆ F    │\n",
      "│ 1004          ┆ Josselyn ┆ 20   ┆ Gestion                 ┆ F    │\n",
      "│ 1005          ┆ Ismael   ┆ 29   ┆ Economia                ┆ M    │\n",
      "└───────────────┴──────────┴──────┴─────────────────────────┴──────┘\n",
      "shape: (5, 3)\n",
      "┌──────────┬───────────────┬──────┐\n",
      "│ ID_Notas ┆ ID_Estudiante ┆ Nota │\n",
      "│ ---      ┆ ---           ┆ ---  │\n",
      "│ i64      ┆ i64           ┆ i64  │\n",
      "╞══════════╪═══════════════╪══════╡\n",
      "│ 2001     ┆ 1001          ┆ 18   │\n",
      "│ 2002     ┆ 1002          ┆ 0    │\n",
      "│ 2003     ┆ 1003          ┆ 10   │\n",
      "│ 2004     ┆ 1004          ┆ 17   │\n",
      "│ 2005     ┆ 1005          ┆ 20   │\n",
      "└──────────┴───────────────┴──────┘\n"
     ]
    }
   ],
   "source": [
    "semi_join_1 = Estudiantes.join(Notas,how=\"semi\",on=\"ID_Estudiante\")\n",
    "print(semi_join_1)\n",
    "\n",
    "semi_join_2 = Notas.join(Estudiantes,how=\"semi\",on=\"ID_Estudiante\")\n",
    "print(semi_join_2)\n"
   ]
  },
  {
   "cell_type": "markdown",
   "id": "16c03d0f",
   "metadata": {},
   "source": [
    "### Anti join:\n",
    "<b>La función 'anti join' tiene como objetivo el devolver un data frame con los mismos atributos de la primera tabla pero manteniendo solo aquellas filas las cuales NO tenian una llave foranea que aparecia tambien en la segunda tabla.</b>"
   ]
  },
  {
   "cell_type": "markdown",
   "id": "2995dacf",
   "metadata": {},
   "source": [
    "Para explicar mejor esta y la función que sigue crearemos unos nuevos data frames, los cuales seran, 'Vendedores' con atributos: 'ID_Vendedor' y 'Nombre'. Y 'Ventas' con atributos: 'ID_Venta', 'Monto', 'ID_Vendedor' y 'Fecha y hora'. En las que el atributo 'ID_Vendedor' estara designada como llave foranea."
   ]
  },
  {
   "cell_type": "code",
   "execution_count": 33,
   "id": "af3064db",
   "metadata": {},
   "outputs": [
    {
     "name": "stdout",
     "output_type": "stream",
     "text": [
      "shape: (4, 2)\n",
      "┌─────────────┬─────────┐\n",
      "│ ID_Vendedor ┆ Nombre  │\n",
      "│ ---         ┆ ---     │\n",
      "│ i64         ┆ str     │\n",
      "╞═════════════╪═════════╡\n",
      "│ 2001        ┆ Luigi   │\n",
      "│ 2002        ┆ Antonio │\n",
      "│ 2003        ┆ Ismael  │\n",
      "│ 2004        ┆ Diego   │\n",
      "└─────────────┴─────────┘\n",
      "shape: (7, 4)\n",
      "┌──────────┬───────┬─────────────┬─────────────────────┐\n",
      "│ ID_Venta ┆ Monto ┆ ID_Vendedor ┆ Fecha y hora        │\n",
      "│ ---      ┆ ---   ┆ ---         ┆ ---                 │\n",
      "│ i64      ┆ i64   ┆ i64         ┆ datetime[μs]        │\n",
      "╞══════════╪═══════╪═════════════╪═════════════════════╡\n",
      "│ 1        ┆ 150   ┆ 2001        ┆ 2023-01-01 08:35:00 │\n",
      "│ 2        ┆ 200   ┆ 2004        ┆ 2023-01-01 09:35:00 │\n",
      "│ 3        ┆ 70    ┆ 2001        ┆ 2023-01-01 10:35:00 │\n",
      "│ 4        ┆ 97    ┆ 2004        ┆ 2023-01-01 08:20:00 │\n",
      "│ 5        ┆ 500   ┆ 2001        ┆ 2023-01-01 10:15:00 │\n",
      "│ 6        ┆ 466   ┆ 2001        ┆ 2023-01-01 13:35:00 │\n",
      "│ 7        ┆ 500   ┆ 2001        ┆ 2023-01-01 15:35:00 │\n",
      "└──────────┴───────┴─────────────┴─────────────────────┘\n"
     ]
    }
   ],
   "source": [
    "Vendedores = pl.DataFrame({\"ID_Vendedor\":[2001,2002,2003,2004], \"Nombre\":[\"Luigi\",\"Antonio\",\"Ismael\",\"Diego\"]})\n",
    "\n",
    "Ventas = pl.DataFrame({\"ID_Venta\":[1,2,3,4,5,6,7], \"Monto\":[150,200,70,97,500,466,500],\n",
    "                       \"ID_Vendedor\":[2001,2004,2001,2004,2001,2001,2001],\n",
    "                      \"Fecha y hora\":[datetime(2023,1,1,8,35,0),datetime(2023,1,1,9,35,0),datetime(2023,1,1,10,35,0),\n",
    "                                      datetime(2023,1,1,8,20,0),datetime(2023,1,1,10,15,0),datetime(2023,1,1,13,35,0),\n",
    "                                      datetime(2023,1,1,15,35,0)]})\n",
    "print(Vendedores)\n",
    "print(Ventas)"
   ]
  },
  {
   "cell_type": "code",
   "execution_count": 32,
   "id": "5140ca07",
   "metadata": {},
   "outputs": [
    {
     "name": "stdout",
     "output_type": "stream",
     "text": [
      "shape: (2, 2)\n",
      "┌─────────────┬─────────┐\n",
      "│ ID_Vendedor ┆ Nombre  │\n",
      "│ ---         ┆ ---     │\n",
      "│ i64         ┆ str     │\n",
      "╞═════════════╪═════════╡\n",
      "│ 2002        ┆ Antonio │\n",
      "│ 2003        ┆ Ismael  │\n",
      "└─────────────┴─────────┘\n",
      "shape: (0, 4)\n",
      "┌──────────┬───────┬─────────────┬──────────────┐\n",
      "│ ID_Venta ┆ Monto ┆ ID_Vendedor ┆ Fecha y hora │\n",
      "│ ---      ┆ ---   ┆ ---         ┆ ---          │\n",
      "│ i64      ┆ i64   ┆ i64         ┆ datetime[μs] │\n",
      "╞══════════╪═══════╪═════════════╪══════════════╡\n",
      "└──────────┴───────┴─────────────┴──────────────┘\n"
     ]
    }
   ],
   "source": [
    "anti_join_1 = Vendedores.join(Ventas,how=\"anti\",on=\"ID_Vendedor\")\n",
    "anti_join_2 = Ventas.join(Vendedores,how=\"anti\",on=\"ID_Vendedor\")\n",
    "print(anti_join_1)\n",
    "print(anti_join_2)"
   ]
  },
  {
   "cell_type": "markdown",
   "id": "82c914a5",
   "metadata": {},
   "source": [
    "### Asof join:"
   ]
  },
  {
   "cell_type": "code",
   "execution_count": 20,
   "id": "23035a1b",
   "metadata": {},
   "outputs": [
    {
     "ename": "ValueError",
     "evalue": "how must be one of {'inner', 'left', 'outer', 'semi', 'anti', 'cross'}, got asof",
     "output_type": "error",
     "traceback": [
      "\u001b[1;31m---------------------------------------------------------------------------\u001b[0m",
      "\u001b[1;31mValueError\u001b[0m                                Traceback (most recent call last)",
      "\u001b[1;32m~\\AppData\\Local\\Temp\\ipykernel_17176\\743612884.py\u001b[0m in \u001b[0;36m<module>\u001b[1;34m\u001b[0m\n\u001b[1;32m----> 1\u001b[1;33m \u001b[0mAsof_join\u001b[0m\u001b[1;33m=\u001b[0m \u001b[0mVendedores\u001b[0m\u001b[1;33m.\u001b[0m\u001b[0mjoin\u001b[0m\u001b[1;33m(\u001b[0m\u001b[0mVentas\u001b[0m\u001b[1;33m,\u001b[0m\u001b[0mhow\u001b[0m\u001b[1;33m=\u001b[0m\u001b[1;34m\"asof\"\u001b[0m\u001b[1;33m,\u001b[0m\u001b[0mon\u001b[0m\u001b[1;33m=\u001b[0m\u001b[1;34m\"ID_Vendedor\"\u001b[0m\u001b[1;33m)\u001b[0m\u001b[1;33m\u001b[0m\u001b[1;33m\u001b[0m\u001b[0m\n\u001b[0m",
      "\u001b[1;32m~\\anaconda3\\lib\\site-packages\\polars\\dataframe\\frame.py\u001b[0m in \u001b[0;36mjoin\u001b[1;34m(self, other, on, how, left_on, right_on, suffix)\u001b[0m\n\u001b[0;32m   5405\u001b[0m \u001b[1;33m\u001b[0m\u001b[0m\n\u001b[0;32m   5406\u001b[0m         return self._from_pydf(\n\u001b[1;32m-> 5407\u001b[1;33m             \u001b[0mself\u001b[0m\u001b[1;33m.\u001b[0m\u001b[0mlazy\u001b[0m\u001b[1;33m(\u001b[0m\u001b[1;33m)\u001b[0m\u001b[1;33m\u001b[0m\u001b[1;33m\u001b[0m\u001b[0m\n\u001b[0m\u001b[0;32m   5408\u001b[0m             .join(\n\u001b[0;32m   5409\u001b[0m                 \u001b[0mother\u001b[0m\u001b[1;33m=\u001b[0m\u001b[0mother\u001b[0m\u001b[1;33m.\u001b[0m\u001b[0mlazy\u001b[0m\u001b[1;33m(\u001b[0m\u001b[1;33m)\u001b[0m\u001b[1;33m,\u001b[0m\u001b[1;33m\u001b[0m\u001b[1;33m\u001b[0m\u001b[0m\n",
      "\u001b[1;32m~\\anaconda3\\lib\\site-packages\\polars\\lazyframe\\frame.py\u001b[0m in \u001b[0;36mjoin\u001b[1;34m(self, other, on, how, left_on, right_on, suffix, allow_parallel, force_parallel)\u001b[0m\n\u001b[0;32m   3013\u001b[0m \u001b[1;33m\u001b[0m\u001b[0m\n\u001b[0;32m   3014\u001b[0m         return self._from_pyldf(\n\u001b[1;32m-> 3015\u001b[1;33m             self._ldf.join(\n\u001b[0m\u001b[0;32m   3016\u001b[0m                 \u001b[0mother\u001b[0m\u001b[1;33m.\u001b[0m\u001b[0m_ldf\u001b[0m\u001b[1;33m,\u001b[0m\u001b[1;33m\u001b[0m\u001b[1;33m\u001b[0m\u001b[0m\n\u001b[0;32m   3017\u001b[0m                 \u001b[0mpyexprs_left\u001b[0m\u001b[1;33m,\u001b[0m\u001b[1;33m\u001b[0m\u001b[1;33m\u001b[0m\u001b[0m\n",
      "\u001b[1;31mValueError\u001b[0m: how must be one of {'inner', 'left', 'outer', 'semi', 'anti', 'cross'}, got asof"
     ]
    }
   ],
   "source": [
    "\n",
    "Asof_join= Vendedores.join_asof(Ventas,how=\"asof\",on=\"ID_Vendedor\")"
   ]
  },
  {
   "cell_type": "markdown",
   "id": "82595acc",
   "metadata": {},
   "source": [
    "## Concatenación\n",
    "<b>Se hace referencia a juntar o unir 2 data frames separados, para ello se utiliza la función 'concat'.</b>\n",
    "\n",
    "![imagen2](https://4.bp.blogspot.com/-FF1BB_1Nmuk/WHf7Nd7t0nI/AAAAAAAAC_c/t-aI-S-w2JMcaGk9VCoq3iqVdoFuNZ6jwCLcB/s1600/tabulate.png)"
   ]
  },
  {
   "cell_type": "markdown",
   "id": "16f9436d",
   "metadata": {},
   "source": [
    "### Concatenación vertical (how = vertical):\n",
    "<b>Tiene como función concatenar todos los data frames de una lista en el orden en que fueron escritos en esta, uno encima de otro, de modo que todos los data frames tengan las mismas columnas.</b>"
   ]
  },
  {
   "cell_type": "markdown",
   "id": "cc796371",
   "metadata": {},
   "source": [
    "Para este ejemplo creamos 3 data, frames los cuales como condición importante es que deben tener el mismo número y nombre de columnas:"
   ]
  },
  {
   "cell_type": "code",
   "execution_count": 51,
   "id": "dc37413c",
   "metadata": {},
   "outputs": [
    {
     "name": "stdout",
     "output_type": "stream",
     "text": [
      "shape: (4, 2)\n",
      "┌─────┬─────┐\n",
      "│ a   ┆ b   │\n",
      "│ --- ┆ --- │\n",
      "│ i64 ┆ i64 │\n",
      "╞═════╪═════╡\n",
      "│ 1   ┆ 3   │\n",
      "│ 2   ┆ 2   │\n",
      "│ 5   ┆ 7   │\n",
      "│ 9   ┆ 11  │\n",
      "└─────┴─────┘\n"
     ]
    }
   ],
   "source": [
    "tabla1 = pl.DataFrame({\"a\":[1,2],\"b\":[3,2]})\n",
    "tabla2 = pl.DataFrame({\"a\":[5],\"b\":[7]})\n",
    "tabla3 = pl.DataFrame({\"a\":[9],\"b\":[11]})\n",
    "\n",
    "concatenacion_vertical = pl.concat([tabla1,tabla2,tabla3],how=\"vertical\",)\n",
    "print(concatenacion_vertical)"
   ]
  },
  {
   "cell_type": "markdown",
   "id": "bb78f7ce",
   "metadata": {},
   "source": [
    "## Concatenación horizontal:\n",
    "<b>Tiene como función concatenar todos los data frames de una lista en el orden en que fueron escritos en esta, uno al costado de otro, de manera que todos tengan el mismo número de filas.</b>"
   ]
  },
  {
   "cell_type": "markdown",
   "id": "80f043b3",
   "metadata": {},
   "source": [
    "Para este ejemplo creamos 3 data frames, los cuales como unica condición es que deben tener el mismo numero de filas:"
   ]
  },
  {
   "cell_type": "code",
   "execution_count": 55,
   "id": "984f517e",
   "metadata": {},
   "outputs": [
    {
     "name": "stdout",
     "output_type": "stream",
     "text": [
      "shape: (3, 9)\n",
      "┌─────┬─────┬─────┬─────┬───┬─────┬─────┬─────┬─────┐\n",
      "│ a   ┆ b   ┆ c   ┆ d   ┆ … ┆ f   ┆ g   ┆ h   ┆ i   │\n",
      "│ --- ┆ --- ┆ --- ┆ --- ┆   ┆ --- ┆ --- ┆ --- ┆ --- │\n",
      "│ i64 ┆ i64 ┆ i64 ┆ i64 ┆   ┆ i64 ┆ i64 ┆ i64 ┆ i64 │\n",
      "╞═════╪═════╪═════╪═════╪═══╪═════╪═════╪═════╪═════╡\n",
      "│ 1   ┆ 3   ┆ 3   ┆ 5   ┆ … ┆ 2   ┆ 9   ┆ 11  ┆ 4   │\n",
      "│ 2   ┆ 0   ┆ 5   ┆ 4   ┆ … ┆ 5   ┆ 47  ┆ 5   ┆ 5   │\n",
      "│ 5   ┆ 2   ┆ 6   ┆ 5   ┆ … ┆ 6   ┆ 4   ┆ 7   ┆ 6   │\n",
      "└─────┴─────┴─────┴─────┴───┴─────┴─────┴─────┴─────┘\n"
     ]
    }
   ],
   "source": [
    "tabla1 = pl.DataFrame({\"a\":[1,2,5],\"b\":[3,0,2],\"c\":[3,5,6]})\n",
    "tabla2 = pl.DataFrame({\"d\":[5,4,5],\"e\":[7,100,0],\"f\":[2,5,6]})\n",
    "tabla3 = pl.DataFrame({\"g\":[9,47,4],\"h\":[11,5,7],\"i\":[4,5,6]})\n",
    "\n",
    "concatenacion_horizontal = pl.concat([tabla1,tabla2,tabla3],how=\"horizontal\")\n",
    "print(concatenacion_horizontal)"
   ]
  },
  {
   "cell_type": "markdown",
   "id": "6eb1e5e9",
   "metadata": {},
   "source": [
    "## Concatenación diagonal\n",
    "<b>Tiene com funcion concatenar todos los data frames de una lista en el orden en que fueron escritos, sin embargo a diferencia de las anteriores aplicaciones, la restriccion esta en que dentro de un mismo data frame todos los atributos deben tener el mismo numero de filas.</b>"
   ]
  },
  {
   "cell_type": "markdown",
   "id": "924894ce",
   "metadata": {},
   "source": [
    "Para este ejemplo crearemos 3 data frames, con la restriccion que individualmente cada atributo en un mismo data frame debe tener el mismo numero de filas."
   ]
  },
  {
   "cell_type": "code",
   "execution_count": 58,
   "id": "418c84d0",
   "metadata": {},
   "outputs": [
    {
     "name": "stdout",
     "output_type": "stream",
     "text": [
      "shape: (6, 8)\n",
      "┌──────┬──────┬──────┬──────┬──────┬──────┬──────┬──────┐\n",
      "│ a    ┆ b    ┆ c    ┆ e    ┆ l    ┆ g    ┆ h    ┆ i    │\n",
      "│ ---  ┆ ---  ┆ ---  ┆ ---  ┆ ---  ┆ ---  ┆ ---  ┆ ---  │\n",
      "│ i64  ┆ i64  ┆ i64  ┆ i64  ┆ i64  ┆ i64  ┆ i64  ┆ i64  │\n",
      "╞══════╪══════╪══════╪══════╪══════╪══════╪══════╪══════╡\n",
      "│ 1    ┆ 2    ┆ 6    ┆ null ┆ null ┆ null ┆ null ┆ null │\n",
      "│ 5    ┆ null ┆ null ┆ 7    ┆ 2    ┆ null ┆ null ┆ null │\n",
      "│ 4    ┆ null ┆ null ┆ 5    ┆ 5    ┆ null ┆ null ┆ null │\n",
      "│ 5    ┆ null ┆ null ┆ 0    ┆ 6    ┆ null ┆ null ┆ null │\n",
      "│ null ┆ null ┆ null ┆ null ┆ null ┆ 9    ┆ 5    ┆ 6    │\n",
      "│ null ┆ null ┆ null ┆ null ┆ null ┆ 4    ┆ 7    ┆ 6    │\n",
      "└──────┴──────┴──────┴──────┴──────┴──────┴──────┴──────┘\n"
     ]
    }
   ],
   "source": [
    "tabla1 = pl.DataFrame({\"a\":[1],\"b\":[2],\"c\":[6]})\n",
    "tabla2 = pl.DataFrame({\"a\":[5,4,5],\"e\":[7,5,0],\"l\":[2,5,6]})\n",
    "tabla3 = pl.DataFrame({\"g\":[9,4],\"h\":[5,7],\"i\":[6,6]})\n",
    "\n",
    "concatenacion_diagonal = pl.concat([tabla1,tabla2,tabla3],how=\"diagonal\")\n",
    "print(concatenacion_diagonal)"
   ]
  },
  {
   "cell_type": "markdown",
   "id": "45d66a61",
   "metadata": {},
   "source": [
    "## Pivots:\n",
    "<b>Esta función tiene el objetivo de convertir los valores de una columna en columnas de un nuevo data frame, es decir, convertir una columna en el nuevo eje x.</b>\n",
    "\n",
    "![imagen3](https://desktop.arcgis.com/es/arcmap/latest/tools/data-management-toolbox/GUID-8669BC07-5BFC-4D76-A3AB-C4E08350F985-web.gif)"
   ]
  },
  {
   "cell_type": "markdown",
   "id": "2a6576a5",
   "metadata": {},
   "source": [
    "Para ilustrar mejor el ejemplo crearemos un data frame llamado \"Alumnos\", el cual tendra como atributos:'Nombre', 'Edad', 'Sexo', 'Carrera' y 'Ciclos_llevados':"
   ]
  },
  {
   "cell_type": "code",
   "execution_count": 75,
   "id": "60065966",
   "metadata": {},
   "outputs": [
    {
     "name": "stdout",
     "output_type": "stream",
     "text": [
      "shape: (5, 5)\n",
      "┌──────────┬──────┬──────┬─────────────┬─────────────────┐\n",
      "│ Nombre   ┆ Edad ┆ Sexo ┆ Carrera     ┆ Ciclos_llevados │\n",
      "│ ---      ┆ ---  ┆ ---  ┆ ---         ┆ ---             │\n",
      "│ str      ┆ i64  ┆ str  ┆ str         ┆ i64             │\n",
      "╞══════════╪══════╪══════╪═════════════╪═════════════════╡\n",
      "│ Fernando ┆ 29   ┆ M    ┆ Estadistica ┆ 1               │\n",
      "│ Juliana  ┆ 20   ┆ F    ┆ Gestion     ┆ 5               │\n",
      "│ josselyn ┆ 20   ┆ F    ┆ Gestion     ┆ 8               │\n",
      "│ Lucero   ┆ 26   ┆ F    ┆ Estadistica ┆ 6               │\n",
      "│ Ismael   ┆ 21   ┆ M    ┆ Economia    ┆ 9               │\n",
      "└──────────┴──────┴──────┴─────────────┴─────────────────┘\n"
     ]
    }
   ],
   "source": [
    "Alumnos = pl.DataFrame({\"Nombre\":[\"Fernando\",\"Juliana\",\"josselyn\",\"Lucero\",\"Ismael\"],\n",
    "                       \"Edad\":[29,20,20,26,21],\"Sexo\":[\"M\",\"F\",\"F\",\"F\",\"M\"],\n",
    "                       \"Carrera\":[\"Estadistica\",\"Gestion\",\"Gestion\",\"Estadistica\",\"Economia\"],\n",
    "                        \"Ciclos_llevados\":[1,5,8,6,9]})\n",
    "print(Alumnos)"
   ]
  },
  {
   "cell_type": "markdown",
   "id": "915417d0",
   "metadata": {},
   "source": [
    "Utilizando la funcion 'pivot' las nuevas columnas seran los datos de la columna 'Carrera' , el identificador o id sera 'Nombre' y los datos que pondran en las nuevas columnas seran los datos de la columna 'Ciclos_llevados':"
   ]
  },
  {
   "cell_type": "code",
   "execution_count": 76,
   "id": "15fbacbe",
   "metadata": {},
   "outputs": [
    {
     "name": "stdout",
     "output_type": "stream",
     "text": [
      "shape: (5, 4)\n",
      "┌──────────┬─────────────┬─────────┬──────────┐\n",
      "│ Nombre   ┆ Estadistica ┆ Gestion ┆ Economia │\n",
      "│ ---      ┆ ---         ┆ ---     ┆ ---      │\n",
      "│ str      ┆ i64         ┆ i64     ┆ i64      │\n",
      "╞══════════╪═════════════╪═════════╪══════════╡\n",
      "│ Fernando ┆ 1           ┆ null    ┆ null     │\n",
      "│ Juliana  ┆ null        ┆ 5       ┆ null     │\n",
      "│ josselyn ┆ null        ┆ 8       ┆ null     │\n",
      "│ Lucero   ┆ 6           ┆ null    ┆ null     │\n",
      "│ Ismael   ┆ null        ┆ null    ┆ 9        │\n",
      "└──────────┴─────────────┴─────────┴──────────┘\n"
     ]
    }
   ],
   "source": [
    "pivot = Alumnos.pivot(index=\"Nombre\",columns=\"Carrera\",values=\"Ciclos_llevados\",\n",
    "                     aggregate_function=\"first\")\n",
    "print(pivot)"
   ]
  },
  {
   "cell_type": "markdown",
   "id": "2e2171cf",
   "metadata": {},
   "source": [
    "## Melts:\n",
    "<b>Es una función que se utiliza para transformar un data frame de forma que las columnas se conviertan en filas en un nuevo data frame resultando, esto desagregando los datos por una o mas columnas.</b>\n",
    "\n",
    "![imagen4](https://www.maximaformacion.es/wp-content/uploads/2021/08/melt.png.webp)\n"
   ]
  },
  {
   "cell_type": "markdown",
   "id": "2faa302e",
   "metadata": {},
   "source": [
    "Para este ejemplo, crearemos un data frame llamado \"Ventas\" con atributos: 'Mes', 'Producto_A', 'Producto_B' y 'Producto_C':"
   ]
  },
  {
   "cell_type": "code",
   "execution_count": 77,
   "id": "7c90fa52",
   "metadata": {},
   "outputs": [
    {
     "name": "stdout",
     "output_type": "stream",
     "text": [
      "shape: (3, 4)\n",
      "┌─────────┬────────────┬────────────┬────────────┐\n",
      "│ Mes     ┆ Producto_A ┆ Producto_B ┆ Producto_C │\n",
      "│ ---     ┆ ---        ┆ ---        ┆ ---        │\n",
      "│ str     ┆ i64        ┆ i64        ┆ i64        │\n",
      "╞═════════╪════════════╪════════════╪════════════╡\n",
      "│ enero   ┆ 100        ┆ 1500       ┆ 500        │\n",
      "│ febrero ┆ 200        ┆ 1000       ┆ 200        │\n",
      "│ marzo   ┆ 100        ┆ 1200       ┆ 600        │\n",
      "└─────────┴────────────┴────────────┴────────────┘\n"
     ]
    }
   ],
   "source": [
    "Ventas = pl.DataFrame({\"Mes\":[\"enero\",\"febrero\",\"marzo\"],\n",
    "                      \"Producto_A\":[100,200,100],\n",
    "                      \"Producto_B\":[1500,1000,1200],\n",
    "                      \"Producto_C\":[500,200,600]})\n",
    "\n",
    "print(Ventas)"
   ]
  },
  {
   "cell_type": "markdown",
   "id": "ca53b1f2",
   "metadata": {},
   "source": [
    "Utilizando la función 'melts', se genera un nuevo data frame el cual tiene como identificador o ID la columna 'Mes', las columnas ´Producto_A´, 'Producto_B' y 'Producto_C' se convierten en datos de la columna 'variable' y los antiguos datos de estas columnas se transforman en datos de la nueva columna 'value'."
   ]
  },
  {
   "cell_type": "code",
   "execution_count": 80,
   "id": "52640049",
   "metadata": {},
   "outputs": [
    {
     "name": "stdout",
     "output_type": "stream",
     "text": [
      "shape: (9, 3)\n",
      "┌─────────┬────────────┬───────┐\n",
      "│ Mes     ┆ variable   ┆ value │\n",
      "│ ---     ┆ ---        ┆ ---   │\n",
      "│ str     ┆ str        ┆ i64   │\n",
      "╞═════════╪════════════╪═══════╡\n",
      "│ enero   ┆ Producto_A ┆ 100   │\n",
      "│ febrero ┆ Producto_A ┆ 200   │\n",
      "│ marzo   ┆ Producto_A ┆ 100   │\n",
      "│ enero   ┆ Producto_B ┆ 1500  │\n",
      "│ febrero ┆ Producto_B ┆ 1000  │\n",
      "│ marzo   ┆ Producto_B ┆ 1200  │\n",
      "│ enero   ┆ Producto_C ┆ 500   │\n",
      "│ febrero ┆ Producto_C ┆ 200   │\n",
      "│ marzo   ┆ Producto_C ┆ 600   │\n",
      "└─────────┴────────────┴───────┘\n"
     ]
    }
   ],
   "source": [
    "melt = Ventas.melt(id_vars=\"Mes\", value_vars=[\"Producto_A\",\"Producto_B\",\"Producto_C\"])\n",
    "print(melt)"
   ]
  },
  {
   "cell_type": "markdown",
   "id": "41f78c97",
   "metadata": {},
   "source": [
    "## Series de tiempo:\n",
    "<b>colecciones de observaciones sobre un determinado fenómeno efectuadas en sucesivos momentos del tiempo, usualmente equiespaciados.</b>\n",
    "\n",
    "![imagen](https://blog.invgate.com/hubfs/coste-del-tiempo-de-inactividad-de-servicios.jpg)"
   ]
  },
  {
   "cell_type": "markdown",
   "id": "3bf99634",
   "metadata": {},
   "source": [
    "### Análisis:\n"
   ]
  },
  {
   "cell_type": "markdown",
   "id": "4160b930",
   "metadata": {},
   "source": [
    "El paquete 'Polars' posee los siguientes datos de fecha y hora:\n",
    "- Date: Se usa para representar una fecha\n",
    "- Time: Se usa para representar una hora\n",
    "- Datetime: Se usa para representar fecha y hora\n",
    "- Duration: Una variación que se genera al restar Date/Datetime\n"
   ]
  },
  {
   "cell_type": "markdown",
   "id": "4ae88c29",
   "metadata": {},
   "source": [
    "#### Convertir una columna de fechas y horas de cadena a formato fecha:\n",
    "Para esto primero crearemos un data frame llamado 'Documentos', el cual tendra como atributos: 'ID', 'Fecha' y 'Estado_respuesta':"
   ]
  },
  {
   "cell_type": "code",
   "execution_count": 84,
   "id": "e2da9bdf",
   "metadata": {},
   "outputs": [
    {
     "name": "stdout",
     "output_type": "stream",
     "text": [
      "shape: (4, 3)\n",
      "┌──────┬────────────┬──────────────────┐\n",
      "│ ID   ┆ Fecha      ┆ Estado_respuesta │\n",
      "│ ---  ┆ ---        ┆ ---              │\n",
      "│ i64  ┆ str        ┆ str              │\n",
      "╞══════╪════════════╪══════════════════╡\n",
      "│ 1001 ┆ 19/01/2022 ┆ Respondido       │\n",
      "│ 1002 ┆ 22/06/2021 ┆ Pendiente        │\n",
      "│ 1003 ┆ 02/12/2023 ┆ Pendiente        │\n",
      "│ 1004 ┆ 16/05/2023 ┆ Respondido       │\n",
      "└──────┴────────────┴──────────────────┘\n"
     ]
    }
   ],
   "source": [
    "Documentos = pl.DataFrame({\"ID\":[1001,1002,1003,1004],\n",
    "                        \"Fecha\":[\"19/01/2022\",\"22/06/2021\",\"02/12/2023\",\"16/05/2023\"],\n",
    "                       \"Estado_respuesta\":[\"Respondido\",\"Pendiente\",\"Pendiente\",\"Respondido\"]})\n",
    "print(Documentos)"
   ]
  },
  {
   "cell_type": "markdown",
   "id": "ccbc4e86",
   "metadata": {},
   "source": [
    "Ahora utilizamos la funcion 'str.strotime' para la conversion, y utilizamos el argumento 'format' para designar como esta estructurada la fecha en formato cadena."
   ]
  },
  {
   "cell_type": "code",
   "execution_count": 88,
   "id": "239d4960",
   "metadata": {},
   "outputs": [
    {
     "name": "stdout",
     "output_type": "stream",
     "text": [
      "shape: (4, 3)\n",
      "┌──────┬────────────┬──────────────────┐\n",
      "│ ID   ┆ Fecha      ┆ Estado_respuesta │\n",
      "│ ---  ┆ ---        ┆ ---              │\n",
      "│ i64  ┆ date       ┆ str              │\n",
      "╞══════╪════════════╪══════════════════╡\n",
      "│ 1001 ┆ 2022-01-19 ┆ Respondido       │\n",
      "│ 1002 ┆ 2021-06-22 ┆ Pendiente        │\n",
      "│ 1003 ┆ 2023-12-02 ┆ Pendiente        │\n",
      "│ 1004 ┆ 2023-05-16 ┆ Respondido       │\n",
      "└──────┴────────────┴──────────────────┘\n"
     ]
    }
   ],
   "source": [
    "conversion_fecha = Documentos.with_columns(pl.col(\"Fecha\").str.strptime(pl.Date,format=\"%d/%m/%Y\"))\n",
    "print(conversion_fecha)"
   ]
  },
  {
   "cell_type": "markdown",
   "id": "12dcefb3",
   "metadata": {},
   "source": [
    "#### Extracción de una caracteristica de la fecha de una columna:\n",
    "Utilizando el anterior data frame con la fecha lla convertida llamado ´conversion_fecha´, podemos obtener informacion de esta como el año, el mes o el dia, y establecerlo en una nueva columna:"
   ]
  },
  {
   "cell_type": "code",
   "execution_count": 91,
   "id": "a2f397ab",
   "metadata": {},
   "outputs": [
    {
     "name": "stdout",
     "output_type": "stream",
     "text": [
      "shape: (4, 4)\n",
      "┌──────┬────────────┬──────────────────┬──────┐\n",
      "│ ID   ┆ Fecha      ┆ Estado_respuesta ┆ Año  │\n",
      "│ ---  ┆ ---        ┆ ---              ┆ ---  │\n",
      "│ i64  ┆ date       ┆ str              ┆ i32  │\n",
      "╞══════╪════════════╪══════════════════╪══════╡\n",
      "│ 1001 ┆ 2022-01-19 ┆ Respondido       ┆ 2022 │\n",
      "│ 1002 ┆ 2021-06-22 ┆ Pendiente        ┆ 2021 │\n",
      "│ 1003 ┆ 2023-12-02 ┆ Pendiente        ┆ 2023 │\n",
      "│ 1004 ┆ 2023-05-16 ┆ Respondido       ┆ 2023 │\n",
      "└──────┴────────────┴──────────────────┴──────┘\n",
      "shape: (4, 4)\n",
      "┌──────┬────────────┬──────────────────┬────────────────┐\n",
      "│ ID   ┆ Fecha      ┆ Estado_respuesta ┆ Mes(en número) │\n",
      "│ ---  ┆ ---        ┆ ---              ┆ ---            │\n",
      "│ i64  ┆ date       ┆ str              ┆ u32            │\n",
      "╞══════╪════════════╪══════════════════╪════════════════╡\n",
      "│ 1001 ┆ 2022-01-19 ┆ Respondido       ┆ 1              │\n",
      "│ 1002 ┆ 2021-06-22 ┆ Pendiente        ┆ 6              │\n",
      "│ 1003 ┆ 2023-12-02 ┆ Pendiente        ┆ 12             │\n",
      "│ 1004 ┆ 2023-05-16 ┆ Respondido       ┆ 5              │\n",
      "└──────┴────────────┴──────────────────┴────────────────┘\n",
      "shape: (4, 4)\n",
      "┌──────┬────────────┬──────────────────┬────────────────┐\n",
      "│ ID   ┆ Fecha      ┆ Estado_respuesta ┆ Dia(en número) │\n",
      "│ ---  ┆ ---        ┆ ---              ┆ ---            │\n",
      "│ i64  ┆ date       ┆ str              ┆ u32            │\n",
      "╞══════╪════════════╪══════════════════╪════════════════╡\n",
      "│ 1001 ┆ 2022-01-19 ┆ Respondido       ┆ 19             │\n",
      "│ 1002 ┆ 2021-06-22 ┆ Pendiente        ┆ 22             │\n",
      "│ 1003 ┆ 2023-12-02 ┆ Pendiente        ┆ 2              │\n",
      "│ 1004 ┆ 2023-05-16 ┆ Respondido       ┆ 16             │\n",
      "└──────┴────────────┴──────────────────┴────────────────┘\n"
     ]
    }
   ],
   "source": [
    "año = conversion_fecha.with_columns(pl.col(\"Fecha\").dt.year().alias(\"Año\"))\n",
    "print(año)\n",
    "mes = conversion_fecha.with_columns(pl.col(\"Fecha\").dt.month().alias(\"Mes(en número)\"))\n",
    "print(mes)\n",
    "dia = conversion_fecha.with_columns(pl.col(\"Fecha\").dt.day().alias(\"Dia(en número)\"))\n",
    "print(dia)"
   ]
  },
  {
   "cell_type": "markdown",
   "id": "0b3d4733",
   "metadata": {},
   "source": [
    "#### Conversion de zona horaria:\n",
    "Es posible convertir horas de una zona horaria a otra, para ello crearemos una lista con fecha y hora:"
   ]
  },
  {
   "cell_type": "code",
   "execution_count": 98,
   "id": "cfc03a03",
   "metadata": {},
   "outputs": [],
   "source": [
    "Datos = [\n",
    "    \"2015-02-27T00:00:00+0800\",\n",
    "    \"2012-12-28T00:00:00+0200\",\n",
    "    \"2006-06-29T00:00:00+0300\",\n",
    "    \"2017-03-30T00:00:00+0200\",\n",
    "]"
   ]
  },
  {
   "cell_type": "markdown",
   "id": "cba7aa7d",
   "metadata": {},
   "source": [
    "Luego lo convertiremos de cadena a formato hora y fecha, al mismo tiempo que establecemos la zona horaria con la función 'convert_time_zone':"
   ]
  },
  {
   "cell_type": "code",
   "execution_count": 99,
   "id": "3635edc3",
   "metadata": {},
   "outputs": [
    {
     "name": "stdout",
     "output_type": "stream",
     "text": [
      "shape: (4,)\n",
      "Series: '' [datetime[μs, Europe/Brussels]]\n",
      "[\n",
      "\t2015-02-26 17:00:00 CET\n",
      "\t2012-12-27 23:00:00 CET\n",
      "\t2006-06-28 23:00:00 CEST\n",
      "\t2017-03-30 00:00:00 CEST\n",
      "]\n"
     ]
    }
   ],
   "source": [
    "\n",
    "conversion = (\n",
    "    pl.Series(Datos)\n",
    "    .str.strptime(pl.Datetime, format=\"%Y-%m-%dT%H:%M:%S%z\", utc=True)\n",
    "    .dt.convert_time_zone(\"Europe/Brussels\")\n",
    ")\n",
    "print(conversion)"
   ]
  },
  {
   "cell_type": "markdown",
   "id": "463e8433",
   "metadata": {},
   "source": [
    "### Filtración:\n",
    "El filtrado de columnas de tiempo al igual que otras columnas se hace usando '.filter', pero como el formato fecha es un formato especial la columna siempre debe ser comparada con el mismo formato:"
   ]
  },
  {
   "cell_type": "markdown",
   "id": "13eb8c66",
   "metadata": {},
   "source": [
    "Con el motivo de hacer mas facil la compresion del filtrado crearemos un data frame llamado 'Ingreso', el cual tendra como atributos 'Nombre' y 'Fecha_ingreso':"
   ]
  },
  {
   "cell_type": "code",
   "execution_count": 108,
   "id": "53b8f219",
   "metadata": {},
   "outputs": [
    {
     "name": "stdout",
     "output_type": "stream",
     "text": [
      "shape: (5, 2)\n",
      "┌───────────┬─────────────────────┐\n",
      "│ Nombre    ┆ Fecha_ingreso       │\n",
      "│ ---       ┆ ---                 │\n",
      "│ str       ┆ datetime[μs]        │\n",
      "╞═══════════╪═════════════════════╡\n",
      "│ Sebastian ┆ 2023-01-03 12:53:00 │\n",
      "│ Paula     ┆ 2023-01-23 08:00:00 │\n",
      "│ Vicente   ┆ 2022-12-11 16:24:00 │\n",
      "│ Maria     ┆ 2022-05-16 13:56:00 │\n",
      "│ Renata    ┆ 2023-01-01 18:58:00 │\n",
      "└───────────┴─────────────────────┘\n"
     ]
    }
   ],
   "source": [
    "Ingreso = pl.DataFrame({\"Nombre\":[\"Sebastian\",\"Paula\",\"Vicente\",\"Maria\",\"Renata\"],\n",
    "                       \"Fecha_ingreso\":[datetime(2023,1,3,12,53),datetime(2023,1,23,8),datetime(2022,12,11,16,24),datetime(2022,5,16,13,56),\n",
    "                                       datetime(2023,1,1,18,58)]})\n",
    "print(Ingreso)"
   ]
  },
  {
   "cell_type": "markdown",
   "id": "2f0c0d0e",
   "metadata": {},
   "source": [
    "#### Filtrado por fechas individuales:\n",
    "En este caso por ejemplo filtraremos todas aquellos ingresos los cuales hayan sido en el año 2023 y despues filtraremos todos los ingresos que hayan sido en enero:\n"
   ]
  },
  {
   "cell_type": "code",
   "execution_count": 136,
   "id": "9035c120",
   "metadata": {},
   "outputs": [
    {
     "name": "stdout",
     "output_type": "stream",
     "text": [
      "shape: (3, 2)\n",
      "┌───────────┬─────────────────────┐\n",
      "│ Nombre    ┆ Fecha_ingreso       │\n",
      "│ ---       ┆ ---                 │\n",
      "│ str       ┆ datetime[μs]        │\n",
      "╞═══════════╪═════════════════════╡\n",
      "│ Sebastian ┆ 2023-01-03 12:53:00 │\n",
      "│ Paula     ┆ 2023-01-23 08:00:00 │\n",
      "│ Renata    ┆ 2023-01-01 18:58:00 │\n",
      "└───────────┴─────────────────────┘\n",
      "shape: (3, 2)\n",
      "┌───────────┬─────────────────────┐\n",
      "│ Nombre    ┆ Fecha_ingreso       │\n",
      "│ ---       ┆ ---                 │\n",
      "│ str       ┆ datetime[μs]        │\n",
      "╞═══════════╪═════════════════════╡\n",
      "│ Sebastian ┆ 2023-01-03 12:53:00 │\n",
      "│ Paula     ┆ 2023-01-23 08:00:00 │\n",
      "│ Renata    ┆ 2023-01-01 18:58:00 │\n",
      "└───────────┴─────────────────────┘\n"
     ]
    }
   ],
   "source": [
    "filtro_2023 = Ingreso.filter(pl.col(\"Fecha_ingreso\").dt.year() == 2023)\n",
    "filtro_enero = Ingreso.filter(pl.col('Fecha_ingreso').dt.month() == 1)\n",
    "\n",
    "print(filtro_2023)\n",
    "print(filtro_enero)\n"
   ]
  },
  {
   "cell_type": "markdown",
   "id": "cd2a4a16",
   "metadata": {},
   "source": [
    "#### Filtrado de fechas por rango:"
   ]
  },
  {
   "cell_type": "markdown",
   "id": "130b570c",
   "metadata": {},
   "source": [
    "Se puede utilizar el metodo 'is_between' para filtrar un rango amplio de fechas que cumplan con una condición.\n",
    "En este ejemplo filtraremos todas las fechas que esten entre el 15 de noviembre de 2022 y el 1 de enero de 2023:"
   ]
  },
  {
   "cell_type": "code",
   "execution_count": 138,
   "id": "23c14571",
   "metadata": {},
   "outputs": [
    {
     "name": "stdout",
     "output_type": "stream",
     "text": [
      "shape: (1, 2)\n",
      "┌─────────┬─────────────────────┐\n",
      "│ Nombre  ┆ Fecha_ingreso       │\n",
      "│ ---     ┆ ---                 │\n",
      "│ str     ┆ datetime[μs]        │\n",
      "╞═════════╪═════════════════════╡\n",
      "│ Vicente ┆ 2022-12-11 16:24:00 │\n",
      "└─────────┴─────────────────────┘\n"
     ]
    }
   ],
   "source": [
    "Filtro_rango = Ingreso.filter(pl.col(\"Fecha_ingreso\").is_between(datetime(2022,11,15),datetime(2023,1,1)))\n",
    "print(Filtro_rango)"
   ]
  },
  {
   "cell_type": "markdown",
   "id": "13c87b73",
   "metadata": {},
   "source": [
    "### Agrupamiento:"
   ]
  },
  {
   "cell_type": "markdown",
   "id": "822a9c8f",
   "metadata": {},
   "source": [
    "#### Agrupando por ventanas fijas:\n",
    "Utilizando 'groupby_dynamic' se pueden agrupar datos en subconjuntos o ventanas de tamaño fijo.\n",
    "Para ejemplificar su funcion crearemos un data frame llamado 'Valores' con atributos: 'Fecha' y 'Valor', donde los datos del atributo fecha deben ser fechas en orden ascendente:"
   ]
  },
  {
   "cell_type": "code",
   "execution_count": 160,
   "id": "2d5240c1",
   "metadata": {},
   "outputs": [
    {
     "name": "stdout",
     "output_type": "stream",
     "text": [
      "shape: (12, 2)\n",
      "┌────────────┬───────┐\n",
      "│ Fecha      ┆ Valor │\n",
      "│ ---        ┆ ---   │\n",
      "│ date       ┆ i64   │\n",
      "╞════════════╪═══════╡\n",
      "│ 2019-04-02 ┆ 1500  │\n",
      "│ 2019-06-05 ┆ 2020  │\n",
      "│ 2020-03-23 ┆ 2360  │\n",
      "│ 2020-04-25 ┆ 8410  │\n",
      "│ …          ┆ …     │\n",
      "│ 2023-05-24 ┆ 2695  │\n",
      "│ 2023-09-15 ┆ 2639  │\n",
      "│ 2024-06-18 ┆ 4874  │\n",
      "│ 2024-12-25 ┆ 8423  │\n",
      "└────────────┴───────┘\n"
     ]
    }
   ],
   "source": [
    "Valores = pl.DataFrame({\"Fecha\":[\"2019-04-02\",\"2019-06-05\",\"2020-03-23\",\"2020-04-25\",\"2021-04-28\",\"2021-07-15\"\n",
    "                                 ,\"2022-05-08\",\"2020-08-12\",\"2023-05-24\",\"2023-09-15\",\"2024-06-18\",\"2024-12-25\"],\n",
    "                        \"Valor\":[1500,2020,2360,8410,5821,8452,5026,2658,2695,2639,4874,8423]})\n",
    "Valores = Valores.with_columns(pl.col(\"Fecha\").str.strptime(pl.Date,format=\"%Y-%m-%d\"))\n",
    "\n",
    "print(Valores)"
   ]
  },
  {
   "cell_type": "markdown",
   "id": "e50bd39d",
   "metadata": {},
   "source": [
    "Ahora utilizando 'groipby_dynamic' para definir la columna 'Fecha' a agrupar y tambien definir de cuanto en cuanto seria la separacion de agrupacion. En este ejemplo tambien haremos que se genere una nueva columna con el promedio anual y otra columna la cual indicara el año del promedio:"
   ]
  },
  {
   "cell_type": "code",
   "execution_count": 162,
   "id": "1f47fbd6",
   "metadata": {
    "scrolled": true
   },
   "outputs": [
    {
     "name": "stdout",
     "output_type": "stream",
     "text": [
      "shape: (6, 3)\n",
      "┌────────────┬────────┬──────┐\n",
      "│ Fecha      ┆ Valor  ┆ Año  │\n",
      "│ ---        ┆ ---    ┆ ---  │\n",
      "│ date       ┆ f64    ┆ i32  │\n",
      "╞════════════╪════════╪══════╡\n",
      "│ 2019-01-01 ┆ 1760.0 ┆ 2019 │\n",
      "│ 2020-01-01 ┆ 5385.0 ┆ 2020 │\n",
      "│ 2021-01-01 ┆ 7136.5 ┆ 2021 │\n",
      "│ 2022-01-01 ┆ 5026.0 ┆ 2022 │\n",
      "│ 2023-01-01 ┆ 2667.0 ┆ 2023 │\n",
      "│ 2024-01-01 ┆ 6648.5 ┆ 2024 │\n",
      "└────────────┴────────┴──────┘\n"
     ]
    }
   ],
   "source": [
    "Agrup_ventana = Valores.groupby_dynamic(\"Fecha\",every=\"1y\").agg(pl.col(\"Valor\").mean())\n",
    "Agrup_ventana = Agrup_ventana.with_columns(pl.col(\"Fecha\").dt.year().alias(\"Año\"))\n",
    "\n",
    "print(Agrup_ventana)"
   ]
  },
  {
   "cell_type": "markdown",
   "id": "14640378",
   "metadata": {},
   "source": [
    "## Lazy API\n",
    "es una API que permite construir un grafo acíclico dirigido de operaciones, donde cada operación produce una nueva columna y se conecta a la columna de entrada anterior.\n",
    "\n",
    "![](https://res.cloudinary.com/practicaldev/image/fetch/s--w1rnUo2F--/c_imagga_scale,f_auto,fl_progressive,h_420,q_auto,w_1000/https://dev-to-uploads.s3.amazonaws.com/uploads/articles/6wbkl53j5os9245hb1lo.png)"
   ]
  },
  {
   "cell_type": "markdown",
   "id": "190f6b11",
   "metadata": {},
   "source": [
    "### Uso: \n",
    "Para poder usarlo en un data frame se debe utilizar '.lazy()', esto hara que el data frame se convierta en un lazy frame.\n",
    "Para ejemplificar esto crearemos un data frame Llamado "
   ]
  }
 ],
 "metadata": {
  "kernelspec": {
   "display_name": "Python 3 (ipykernel)",
   "language": "python",
   "name": "python3"
  },
  "language_info": {
   "codemirror_mode": {
    "name": "ipython",
    "version": 3
   },
   "file_extension": ".py",
   "mimetype": "text/x-python",
   "name": "python",
   "nbconvert_exporter": "python",
   "pygments_lexer": "ipython3",
   "version": "3.9.13"
  }
 },
 "nbformat": 4,
 "nbformat_minor": 5
}
