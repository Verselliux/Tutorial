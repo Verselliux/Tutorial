{
 "cells": [
  {
   "cell_type": "markdown",
   "id": "eb3e7cd9",
   "metadata": {},
   "source": [
    "# <font color=\"#CD0000\">Tipos de Datos </font> \n",
    "Debido a que Polars se basa en **Arrows** hace que sea eficiente en caché y esté sea respaldado para la comunicación entre procesos. La mayoría de los tipos de datos siguen la implementación exacta de Arrow, con la excepción de Utf8, Categoricaly Object.  \n",
    "\n",
    "**Algunos ejemplos de tipos de datos:**\n",
    "\n",
    "| Grupo    | Tipo         | Detalles                                                                             |\n",
    "|----------|--------------|:------------------------------------------------------------------------------------:|\n",
    "| **Numérico** | Int8         | Entero con signo de 8 bits.                                                          |\n",
    "|          | Int16        | Entero con signo de 16 bits.                                                         |\n",
    "|          | Int32        | Entero con signo de 32 bits.                                                         |\n",
    "|          | Int64        | Entero con signo de 64 bits.                                                         |\n",
    "|          | UInt8        | Entero sin signo de 8 bits.                                                          |\n",
    "|          | UInt16       | Entero sin signo de 16 bits.                                                         |\n",
    "|          | UInt32       | Entero sin signo de 32 bits.                                                         |\n",
    "|          | UInt64       | Entero sin signo de 64 bits.                                                         |\n",
    "|          | Float32      | Punto flotante de 32 bits.                                                           |\n",
    "|          | Float64      | Punto flotante de 64 bits.                                                           |\n",
    "| **Anidado** | Struct       | Estructura de matriz que junta valores múltiples en una sola columna.    |\n",
    "| **Temporal** | Date         | Representación de fecha.      |\n",
    "| **Otro**     | Boolean      | Tipo booleano efectivamente empaquetado en bits.                                     |\n",
    "|          | Utf8         | Cadena de datos .                   |\n",
    "|          | Binary       | Almacenar datos como bytes.                                                          |\n",
    "|          | Categorical | Una codificación categórica de un conjunto de cadenas.                                |\n"
   ]
  },
  {
   "cell_type": "markdown",
   "id": "c0c939bb",
   "metadata": {},
   "source": [
    "# <font color=\"#CD0000\">Estructura de Datos </font>   \n",
    "Las estructuras de datos de la base central proporcionadas por Polars son *Series* y *DataFrames*.\n",
    "\n",
    "## Series  \n",
    "Las *Series* tienen tipos de datos específicos y unidimensionales, como enteros, flotantes, cadenas, fechas y horas, pueden contener valores faltantes. \n"
   ]
  },
  {
   "cell_type": "code",
   "execution_count": 2,
   "id": "368767b5",
   "metadata": {},
   "outputs": [
    {
     "name": "stdout",
     "output_type": "stream",
     "text": [
      "shape: (5,)\n",
      "Series: 'longitud_sepalo' [f64]\n",
      "[\n",
      "\t5.1\n",
      "\t4.9\n",
      "\t4.7\n",
      "\t4.6\n",
      "\t5.0\n",
      "]\n"
     ]
    }
   ],
   "source": [
    "import polars as pl\n",
    "s = pl.Series(\"longitud_sepalo\",[5.1, 4.9, 4.7, 4.6, 5.0])#los 5 primeros datos de iris.csv(longitud_sepalo)\n",
    "print(s)"
   ]
  },
  {
   "cell_type": "markdown",
   "id": "30b0e79e",
   "metadata": {},
   "source": [
    "## DataFrame  \n",
    "Es una estructura de datos bidimensional respaldada por Series, está compuesto por filas y columnas, donde cada columna es una serie y las filas contienen datos que pertenecen a cada serie.\n",
    "\n",
    "**pl.read_csv()**  \n",
    "Esta función de polars en Python se usa para leer un archivo CSV(valores separados por coma) y convertirlo en un dataframe de polars."
   ]
  },
  {
   "cell_type": "code",
   "execution_count": 52,
   "id": "0d1637f9",
   "metadata": {},
   "outputs": [
    {
     "name": "stdout",
     "output_type": "stream",
     "text": [
      "shape: (150, 5)\n",
      "┌─────────────┬────────────┬─────────────┬────────────┬────────────────┐\n",
      "│ sepallength ┆ sepalwidth ┆ petallength ┆ petalwidth ┆ class          │\n",
      "│ ---         ┆ ---        ┆ ---         ┆ ---        ┆ ---            │\n",
      "│ f64         ┆ f64        ┆ f64         ┆ f64        ┆ str            │\n",
      "╞═════════════╪════════════╪═════════════╪════════════╪════════════════╡\n",
      "│ 5.1         ┆ 3.5        ┆ 1.4         ┆ 0.2        ┆ Iris-setosa    │\n",
      "│ 4.9         ┆ 3.0        ┆ 1.4         ┆ 0.2        ┆ Iris-setosa    │\n",
      "│ 4.7         ┆ 3.2        ┆ 1.3         ┆ 0.2        ┆ Iris-setosa    │\n",
      "│ 4.6         ┆ 3.1        ┆ 1.5         ┆ 0.2        ┆ Iris-setosa    │\n",
      "│ …           ┆ …          ┆ …           ┆ …          ┆ …              │\n",
      "│ 6.3         ┆ 2.5        ┆ 5.0         ┆ 1.9        ┆ Iris-virginica │\n",
      "│ 6.5         ┆ 3.0        ┆ 5.2         ┆ 2.0        ┆ Iris-virginica │\n",
      "│ 6.2         ┆ 3.4        ┆ 5.4         ┆ 2.3        ┆ Iris-virginica │\n",
      "│ 5.9         ┆ 3.0        ┆ 5.1         ┆ 1.8        ┆ Iris-virginica │\n",
      "└─────────────┴────────────┴─────────────┴────────────┴────────────────┘\n"
     ]
    }
   ],
   "source": [
    "df = pl.read_csv(\"iris.csv\")\n",
    "print(df)"
   ]
  },
  {
   "cell_type": "markdown",
   "id": "50a8d2d7",
   "metadata": {},
   "source": [
    "- <font size = 4.8> **Head** </font>  \n",
    "Es una función que se utiliza para obtener las primeras filas de un *DataFrame*. Por defecto, devuelve las primeras 5 filas, pero se puede especificar el número de filas que se desea obtener. "
   ]
  },
  {
   "cell_type": "code",
   "execution_count": 53,
   "id": "2a4c5e4e",
   "metadata": {},
   "outputs": [
    {
     "name": "stdout",
     "output_type": "stream",
     "text": [
      "shape: (3, 5)\n",
      "┌─────────────┬────────────┬─────────────┬────────────┬─────────────┐\n",
      "│ sepallength ┆ sepalwidth ┆ petallength ┆ petalwidth ┆ class       │\n",
      "│ ---         ┆ ---        ┆ ---         ┆ ---        ┆ ---         │\n",
      "│ f64         ┆ f64        ┆ f64         ┆ f64        ┆ str         │\n",
      "╞═════════════╪════════════╪═════════════╪════════════╪═════════════╡\n",
      "│ 5.1         ┆ 3.5        ┆ 1.4         ┆ 0.2        ┆ Iris-setosa │\n",
      "│ 4.9         ┆ 3.0        ┆ 1.4         ┆ 0.2        ┆ Iris-setosa │\n",
      "│ 4.7         ┆ 3.2        ┆ 1.3         ┆ 0.2        ┆ Iris-setosa │\n",
      "└─────────────┴────────────┴─────────────┴────────────┴─────────────┘\n"
     ]
    }
   ],
   "source": [
    "print(df.head(3))"
   ]
  },
  {
   "cell_type": "markdown",
   "id": "48015931",
   "metadata": {},
   "source": [
    "- <font size = 4.8> **Tail** </font>  \n",
    "Es una función que se utiliza para obtener las últimas filas de un *DataFrame*. Por defecto, muestra las últimas 5 filas, pero se puede especificar el número de filas que se desea ver."
   ]
  },
  {
   "cell_type": "code",
   "execution_count": 54,
   "id": "54b2327c",
   "metadata": {},
   "outputs": [
    {
     "name": "stdout",
     "output_type": "stream",
     "text": [
      "shape: (3, 5)\n",
      "┌─────────────┬────────────┬─────────────┬────────────┬────────────────┐\n",
      "│ sepallength ┆ sepalwidth ┆ petallength ┆ petalwidth ┆ class          │\n",
      "│ ---         ┆ ---        ┆ ---         ┆ ---        ┆ ---            │\n",
      "│ f64         ┆ f64        ┆ f64         ┆ f64        ┆ str            │\n",
      "╞═════════════╪════════════╪═════════════╪════════════╪════════════════╡\n",
      "│ 6.5         ┆ 3.0        ┆ 5.2         ┆ 2.0        ┆ Iris-virginica │\n",
      "│ 6.2         ┆ 3.4        ┆ 5.4         ┆ 2.3        ┆ Iris-virginica │\n",
      "│ 5.9         ┆ 3.0        ┆ 5.1         ┆ 1.8        ┆ Iris-virginica │\n",
      "└─────────────┴────────────┴─────────────┴────────────┴────────────────┘\n"
     ]
    }
   ],
   "source": [
    "print(df.tail(3))"
   ]
  },
  {
   "cell_type": "markdown",
   "id": "1742d3b7",
   "metadata": {},
   "source": [
    "- <font size = 4.8> **Sample** </font>    \n",
    "Permite tomar una muestra aleatoria de filas de un *DataFrame*.  \n"
   ]
  },
  {
   "cell_type": "code",
   "execution_count": 55,
   "id": "8c6f7f46",
   "metadata": {},
   "outputs": [
    {
     "name": "stdout",
     "output_type": "stream",
     "text": [
      "shape: (2, 5)\n",
      "┌─────────────┬────────────┬─────────────┬────────────┬────────────────┐\n",
      "│ sepallength ┆ sepalwidth ┆ petallength ┆ petalwidth ┆ class          │\n",
      "│ ---         ┆ ---        ┆ ---         ┆ ---        ┆ ---            │\n",
      "│ f64         ┆ f64        ┆ f64         ┆ f64        ┆ str            │\n",
      "╞═════════════╪════════════╪═════════════╪════════════╪════════════════╡\n",
      "│ 6.7         ┆ 3.0        ┆ 5.2         ┆ 2.3        ┆ Iris-virginica │\n",
      "│ 5.1         ┆ 3.8        ┆ 1.9         ┆ 0.4        ┆ Iris-setosa    │\n",
      "└─────────────┴────────────┴─────────────┴────────────┴────────────────┘\n"
     ]
    }
   ],
   "source": [
    "print(df.sample(2))"
   ]
  },
  {
   "cell_type": "markdown",
   "id": "8975b788",
   "metadata": {},
   "source": [
    "- <font size = 4.8> **Describe** </font>  \n",
    "Proporciona estadísticas descriptivas para todas las columnas numéricas de un *DataFrame*, como la media, la desviación estándar, el mínimo y el máximo. También proporciona el número de valores no nulos en cada columna."
   ]
  },
  {
   "cell_type": "code",
   "execution_count": 56,
   "id": "f9835625",
   "metadata": {},
   "outputs": [
    {
     "name": "stdout",
     "output_type": "stream",
     "text": [
      "shape: (9, 6)\n",
      "┌────────────┬─────────────┬────────────┬─────────────┬────────────┬────────────────┐\n",
      "│ describe   ┆ sepallength ┆ sepalwidth ┆ petallength ┆ petalwidth ┆ class          │\n",
      "│ ---        ┆ ---         ┆ ---        ┆ ---         ┆ ---        ┆ ---            │\n",
      "│ str        ┆ f64         ┆ f64        ┆ f64         ┆ f64        ┆ str            │\n",
      "╞════════════╪═════════════╪════════════╪═════════════╪════════════╪════════════════╡\n",
      "│ count      ┆ 150.0       ┆ 150.0      ┆ 150.0       ┆ 150.0      ┆ 150            │\n",
      "│ null_count ┆ 0.0         ┆ 0.0        ┆ 0.0         ┆ 0.0        ┆ 0              │\n",
      "│ mean       ┆ 5.843333    ┆ 3.054      ┆ 3.758667    ┆ 1.198667   ┆ null           │\n",
      "│ std        ┆ 0.828066    ┆ 0.433594   ┆ 1.76442     ┆ 0.763161   ┆ null           │\n",
      "│ min        ┆ 4.3         ┆ 2.0        ┆ 1.0         ┆ 0.1        ┆ Iris-setosa    │\n",
      "│ max        ┆ 7.9         ┆ 4.4        ┆ 6.9         ┆ 2.5        ┆ Iris-virginica │\n",
      "│ median     ┆ 5.8         ┆ 3.0        ┆ 4.35        ┆ 1.3        ┆ null           │\n",
      "│ 25%        ┆ 5.1         ┆ 2.8        ┆ 1.6         ┆ 0.3        ┆ null           │\n",
      "│ 75%        ┆ 6.4         ┆ 3.3        ┆ 5.1         ┆ 1.8        ┆ null           │\n",
      "└────────────┴─────────────┴────────────┴─────────────┴────────────┴────────────────┘\n"
     ]
    }
   ],
   "source": [
    "print(df.describe())"
   ]
  },
  {
   "cell_type": "markdown",
   "id": "096eeff8",
   "metadata": {},
   "source": [
    "# <font color=\"#CD0000\">Contextos </font> \n",
    "Se refiere a la configuración y ajuste de los parámetros que afectan el rendimiento y el comportamiento de la biblioteca.En general, el contexto de Polars es una herramienta útil para optimizar el rendimiento y la eficiencia de las operaciones de procesamiento de datos.  \n",
    "\n"
   ]
  },
  {
   "cell_type": "markdown",
   "id": "86a5c18b",
   "metadata": {},
   "source": [
    "- <font size = 4.8> **Select** </font>   \n",
    "Se usa para seleccionar las variables de un *DataFrame*, en la cual se puede implemntar combinandola con otras funciones como **head()**, **sum()**,**mean()** y muchas otras funciones para obtener un mejor análisis de nuestros datos.  \n",
    "Se tiene en cuenta que una selección puede producir nuevas columnas que son agregaciones, combinaciones de expresiones o literales."
   ]
  },
  {
   "cell_type": "code",
   "execution_count": 57,
   "id": "440866a4",
   "metadata": {},
   "outputs": [
    {
     "name": "stdout",
     "output_type": "stream",
     "text": [
      "shape: (1, 2)\n",
      "┌─────────────┬────────────┐\n",
      "│ petallength ┆ petalwidth │\n",
      "│ ---         ┆ ---        │\n",
      "│ f64         ┆ f64        │\n",
      "╞═════════════╪════════════╡\n",
      "│ 563.8       ┆ 179.8      │\n",
      "└─────────────┴────────────┘\n",
      "shape: (1, 8)\n",
      "┌──────────┬─────────┬───────┬─────┬─────┬───────────┬─────────┬──────────┐\n",
      "│ media    ┆ mediana ┆ sum   ┆ min ┆ max ┆ other_max ┆ std_dev ┆ varianza │\n",
      "│ ---      ┆ ---     ┆ ---   ┆ --- ┆ --- ┆ ---       ┆ ---     ┆ ---      │\n",
      "│ f64      ┆ f64     ┆ f64   ┆ f64 ┆ f64 ┆ f64       ┆ f64     ┆ f64      │\n",
      "╞══════════╪═════════╪═══════╪═════╪═════╪═══════════╪═════════╪══════════╡\n",
      "│ 3.758667 ┆ 4.35    ┆ 563.8 ┆ 1.0 ┆ 6.9 ┆ 6.9       ┆ 1.76442 ┆ 3.113179 │\n",
      "└──────────┴─────────┴───────┴─────┴─────┴───────────┴─────────┴──────────┘\n"
     ]
    }
   ],
   "source": [
    "print(df.select([pl.col([\"petallength\",\"petalwidth\"])]).sum())\n",
    "##\n",
    "longitud_petalo =  df.select([\n",
    "    pl.mean(\"petallength\").alias(\"media\"),\n",
    "    pl.median(\"petallength\").alias(\"mediana\"),\n",
    "    pl.sum(\"petallength\").alias(\"sum\"),\n",
    "    pl.min(\"petallength\").alias(\"min\"),\n",
    "    pl.max(\"petallength\").alias(\"max\"),\n",
    "    pl.col(\"petallength\").max().alias(\"other_max\"),\n",
    "    pl.std(\"petallength\").alias(\"std_dev\"),\n",
    "    pl.var(\"petallength\").alias(\"varianza\"),\n",
    "    \n",
    "])\n",
    "print(longitud_petalo)"
   ]
  },
  {
   "cell_type": "markdown",
   "id": "d31d68ec",
   "metadata": {},
   "source": [
    "De manera similar a *select* también existe **with_columns** que también es una entrada al contexto de selección. La principal diferencia es que **with_columns** conserva las columnas originales y agrega otras nuevas mientras selectelimina las columnas originales.\n"
   ]
  },
  {
   "cell_type": "code",
   "execution_count": 58,
   "id": "03f75f69",
   "metadata": {},
   "outputs": [
    {
     "name": "stdout",
     "output_type": "stream",
     "text": [
      "shape: (150, 7)\n",
      "┌─────────────┬────────────┬─────────────┬────────────┬────────────────┬───────────────────┬────────┐\n",
      "│ sepallength ┆ sepalwidth ┆ petallength ┆ petalwidth ┆ class          ┆ suma_ancho_petalo ┆ contar │\n",
      "│ ---         ┆ ---        ┆ ---         ┆ ---        ┆ ---            ┆ ---               ┆ ---    │\n",
      "│ f64         ┆ f64        ┆ f64         ┆ f64        ┆ str            ┆ f64               ┆ u32    │\n",
      "╞═════════════╪════════════╪═════════════╪════════════╪════════════════╪═══════════════════╪════════╡\n",
      "│ 5.1         ┆ 3.5        ┆ 1.4         ┆ 0.2        ┆ Iris-setosa    ┆ 179.8             ┆ 150    │\n",
      "│ 4.9         ┆ 3.0        ┆ 1.4         ┆ 0.2        ┆ Iris-setosa    ┆ 179.8             ┆ 150    │\n",
      "│ 4.7         ┆ 3.2        ┆ 1.3         ┆ 0.2        ┆ Iris-setosa    ┆ 179.8             ┆ 150    │\n",
      "│ 4.6         ┆ 3.1        ┆ 1.5         ┆ 0.2        ┆ Iris-setosa    ┆ 179.8             ┆ 150    │\n",
      "│ …           ┆ …          ┆ …           ┆ …          ┆ …              ┆ …                 ┆ …      │\n",
      "│ 6.3         ┆ 2.5        ┆ 5.0         ┆ 1.9        ┆ Iris-virginica ┆ 179.8             ┆ 150    │\n",
      "│ 6.5         ┆ 3.0        ┆ 5.2         ┆ 2.0        ┆ Iris-virginica ┆ 179.8             ┆ 150    │\n",
      "│ 6.2         ┆ 3.4        ┆ 5.4         ┆ 2.3        ┆ Iris-virginica ┆ 179.8             ┆ 150    │\n",
      "│ 5.9         ┆ 3.0        ┆ 5.1         ┆ 1.8        ┆ Iris-virginica ┆ 179.8             ┆ 150    │\n",
      "└─────────────┴────────────┴─────────────┴────────────┴────────────────┴───────────────────┴────────┘\n"
     ]
    }
   ],
   "source": [
    "wc =df.with_columns([\n",
    "    pl.sum(\"petalwidth\").alias(\"suma_ancho_petalo\"),\n",
    "    pl.col(\"class\").count().alias(\"contar\"),\n",
    "])\n",
    "print(wc)"
   ]
  },
  {
   "cell_type": "markdown",
   "id": "56548673",
   "metadata": {},
   "source": [
    "- <font size = 4.8> **Filter** </font>  \n",
    "Se utiliza para filtrar las filas de un *DataFrame* según una condición determinada. Toma una función de filtro como argumento y devuelve un nuevo DataFrame que contiene solo las filas que cumplen la condición.  \n"
   ]
  },
  {
   "cell_type": "code",
   "execution_count": 59,
   "id": "63af312c",
   "metadata": {},
   "outputs": [
    {
     "name": "stdout",
     "output_type": "stream",
     "text": [
      "shape: (20, 5)\n",
      "┌─────────────┬────────────┬─────────────┬────────────┬─────────────┐\n",
      "│ sepallength ┆ sepalwidth ┆ petallength ┆ petalwidth ┆ class       │\n",
      "│ ---         ┆ ---        ┆ ---         ┆ ---        ┆ ---         │\n",
      "│ f64         ┆ f64        ┆ f64         ┆ f64        ┆ str         │\n",
      "╞═════════════╪════════════╪═════════════╪════════════╪═════════════╡\n",
      "│ 4.9         ┆ 3.0        ┆ 1.4         ┆ 0.2        ┆ Iris-setosa │\n",
      "│ 4.7         ┆ 3.2        ┆ 1.3         ┆ 0.2        ┆ Iris-setosa │\n",
      "│ 4.6         ┆ 3.1        ┆ 1.5         ┆ 0.2        ┆ Iris-setosa │\n",
      "│ 4.6         ┆ 3.4        ┆ 1.4         ┆ 0.3        ┆ Iris-setosa │\n",
      "│ …           ┆ …          ┆ …           ┆ …          ┆ …           │\n",
      "│ 4.5         ┆ 2.3        ┆ 1.3         ┆ 0.3        ┆ Iris-setosa │\n",
      "│ 4.4         ┆ 3.2        ┆ 1.3         ┆ 0.2        ┆ Iris-setosa │\n",
      "│ 4.8         ┆ 3.0        ┆ 1.4         ┆ 0.3        ┆ Iris-setosa │\n",
      "│ 4.6         ┆ 3.2        ┆ 1.4         ┆ 0.2        ┆ Iris-setosa │\n",
      "└─────────────┴────────────┴─────────────┴────────────┴─────────────┘\n"
     ]
    }
   ],
   "source": [
    "fil = df.filter(\n",
    "    (pl.col(\"sepallength\")<5)&(pl.col(\"class\")==\"Iris-setosa\")\n",
    ")\n",
    "print(fil)"
   ]
  },
  {
   "cell_type": "markdown",
   "id": "477b019a",
   "metadata": {},
   "source": [
    "- <font size = 4.8> **Groupby / Aggregation** </font>  \n",
    "Se utiliza para agrupar fila de un *DataFrame* en función de una o varias columnas y realizar cálculos agregados en esas agrupaciones, pueden producir resultados de cualquier longitud.  "
   ]
  },
  {
   "cell_type": "code",
   "execution_count": 60,
   "id": "a1d46df0",
   "metadata": {},
   "outputs": [
    {
     "name": "stdout",
     "output_type": "stream",
     "text": [
      "shape: (3, 5)\n",
      "┌─────────────────┬─────────────┬────────────┬─────────────┬────────────┐\n",
      "│ class           ┆ sepallength ┆ sepalwidth ┆ petallength ┆ petalwidth │\n",
      "│ ---             ┆ ---         ┆ ---        ┆ ---         ┆ ---        │\n",
      "│ str             ┆ f64         ┆ f64        ┆ f64         ┆ f64        │\n",
      "╞═════════════════╪═════════════╪════════════╪═════════════╪════════════╡\n",
      "│ Iris-setosa     ┆ 5.006       ┆ 3.418      ┆ 1.464       ┆ 0.244      │\n",
      "│ Iris-virginica  ┆ 6.588       ┆ 2.974      ┆ 5.552       ┆ 2.026      │\n",
      "│ Iris-versicolor ┆ 5.936       ┆ 2.77       ┆ 4.26        ┆ 1.326      │\n",
      "└─────────────────┴─────────────┴────────────┴─────────────┴────────────┘\n",
      "shape: (3, 5)\n",
      "┌─────────────────┬─────────────┬────────────┬─────────────┬────────────┐\n",
      "│ class           ┆ sepallength ┆ sepalwidth ┆ petallength ┆ petalwidth │\n",
      "│ ---             ┆ ---         ┆ ---        ┆ ---         ┆ ---        │\n",
      "│ str             ┆ f64         ┆ f64        ┆ f64         ┆ f64        │\n",
      "╞═════════════════╪═════════════╪════════════╪═════════════╪════════════╡\n",
      "│ Iris-virginica  ┆ 329.4       ┆ 148.7      ┆ 277.6       ┆ 101.3      │\n",
      "│ Iris-setosa     ┆ 250.3       ┆ 170.9      ┆ 73.2        ┆ 12.2       │\n",
      "│ Iris-versicolor ┆ 296.8       ┆ 138.5      ┆ 213.0       ┆ 66.3       │\n",
      "└─────────────────┴─────────────┴────────────┴─────────────┴────────────┘\n",
      "shape: (3, 5)\n",
      "┌─────────────────┬─────────────┬────────────┬─────────────┬────────────┐\n",
      "│ class           ┆ sepallength ┆ sepalwidth ┆ petallength ┆ petalwidth │\n",
      "│ ---             ┆ ---         ┆ ---        ┆ ---         ┆ ---        │\n",
      "│ str             ┆ f64         ┆ f64        ┆ f64         ┆ f64        │\n",
      "╞═════════════════╪═════════════╪════════════╪═════════════╪════════════╡\n",
      "│ Iris-virginica  ┆ 7.9         ┆ 3.8        ┆ 6.9         ┆ 2.5        │\n",
      "│ Iris-versicolor ┆ 7.0         ┆ 3.4        ┆ 5.1         ┆ 1.8        │\n",
      "│ Iris-setosa     ┆ 5.8         ┆ 4.4        ┆ 1.9         ┆ 0.6        │\n",
      "└─────────────────┴─────────────┴────────────┴─────────────┴────────────┘\n"
     ]
    }
   ],
   "source": [
    "group1 = df.groupby('class')\n",
    "print(group1.mean())\n",
    "\n",
    "group2 = df.groupby('class')\n",
    "print(group2.sum())\n",
    "\n",
    "group3 = df.groupby('class')\n",
    "print(group3.max())"
   ]
  },
  {
   "cell_type": "markdown",
   "id": "de875e15",
   "metadata": {},
   "source": [
    "# <font color=\"#CD0000\">API </font>   \n",
    "\n",
    "## Lazy / Eager API   \n",
    "Se utiliza para operaciones de transformación de datos que se realizan en memoria y se ejecutan de forma sincrónica. Con esta API, las operaciones se realizan de manera perezosa (lazy) o ansiosa (eager). Las operaciones perezosas son aquellas que no se ejecutan inmediatamente y se retrasan hasta que sea necesario, mientras que las operaciones ansiosas se ejecutan inmediatamente y devuelven los resultados en el momento de la llamada.A pesar de eso,esperar a la ejecución hasta el último minuto puede tener importantes ventajas de rendimiento, por lo que se prefiere la **lazy API** en la mayoría de los casos.\n",
    "\n",
    "### Eager\n",
    "En este ejemplo, usaremos **eager API** para:\n",
    "- Leer el conjunto de datos iris .\n",
    "- Filtrar el conjunto de datos según la longitud del sépalo.\n",
    "- Calcular la media del ancho del sépalo por especie .\n",
    "\n",
    "Cada paso se ejecuta inmediatamente devolviendo los resultados intermedios. Esto puede ser muy derrochador, ya que podríamos trabajar o cargar datos adicionales que no se están utilizando. Si, en cambio, usamos la **lazy API**y esperamos la ejecución hasta que se definan todos los pasos, entonces el planificador de consultas podría realizar varias optimizaciones."
   ]
  },
  {
   "cell_type": "code",
   "execution_count": 61,
   "id": "179f51e7",
   "metadata": {},
   "outputs": [
    {
     "name": "stdout",
     "output_type": "stream",
     "text": [
      "shape: (3, 2)\n",
      "┌─────────────────┬────────────┐\n",
      "│ class           ┆ sepalwidth │\n",
      "│ ---             ┆ ---        │\n",
      "│ str             ┆ f64        │\n",
      "╞═════════════════╪════════════╡\n",
      "│ Iris-setosa     ┆ 3.713636   │\n",
      "│ Iris-versicolor ┆ 2.804255   │\n",
      "│ Iris-virginica  ┆ 2.983673   │\n",
      "└─────────────────┴────────────┘\n"
     ]
    }
   ],
   "source": [
    "df_small = df.filter(pl.col(\"sepallength\") > 5)\n",
    "df_agg = df_small.groupby(\"class\").agg(pl.col(\"sepalwidth\").mean())\n",
    "print(df_agg)"
   ]
  },
  {
   "cell_type": "markdown",
   "id": "9e3ba330",
   "metadata": {},
   "source": [
    "### Lazy  \n",
    "En este caso:\n",
    "\n",
    "- Empuje de predicado: aplica filtros lo antes posible mientras lee el conjunto de datos, por lo tanto, solo lee filas con una longitud de sépalo superior a 5.\n",
    "- Desplazamiento de proyección: selecciona solo las columnas que se necesitan mientras lee el conjunto de datos, eliminando así la necesidad de cargar columnas adicionales (por ejemplo, longitud de pétalo y ancho de pétalo).   \n",
    "\n",
    "Estos reducira significativamente la carga en la memoria , lo que le permitirá colocar conjuntos de datos más grandes en la memoria y procesarlos más rápido."
   ]
  },
  {
   "cell_type": "code",
   "execution_count": 3,
   "id": "5739d5f3",
   "metadata": {},
   "outputs": [
    {
     "name": "stdout",
     "output_type": "stream",
     "text": [
      "shape: (3, 2)\n",
      "┌─────────────────┬────────────┐\n",
      "│ class           ┆ sepalwidth │\n",
      "│ ---             ┆ ---        │\n",
      "│ str             ┆ f64        │\n",
      "╞═════════════════╪════════════╡\n",
      "│ Iris-versicolor ┆ 2.804255   │\n",
      "│ Iris-setosa     ┆ 3.713636   │\n",
      "│ Iris-virginica  ┆ 2.983673   │\n",
      "└─────────────────┴────────────┘\n"
     ]
    }
   ],
   "source": [
    "q1 = (\n",
    "    pl.scan_csv(\"iris.csv\")\n",
    "    .filter(pl.col(\"sepallength\") > 5)\n",
    "    .groupby(\"class\")\n",
    "    .agg(pl.col(\"sepalwidth\").mean())\n",
    ")\n",
    "\n",
    "df_lazy = q1.collect()#collect() informa a Polars que quiere ejecutarla\n",
    "print(df_lazy)"
   ]
  },
  {
   "cell_type": "markdown",
   "id": "880c1a2b",
   "metadata": {},
   "source": [
    "**¿Cómo saber cuál usar?**  \n",
    "En general, si los datos caben en la memoria, es posible que se pueda utilizar la **Eager API**. Si trabajas con grandes conjuntos de datos o se realiza operaciones complejas, es posible que se necesite utilizar la  **Lazy API**."
   ]
  },
  {
   "cell_type": "markdown",
   "id": "b4b737de",
   "metadata": {},
   "source": [
    "## Streaming API   \n",
    "Se utiliza para operaciones que se realizan en un flujo continuo de datos. Esta API se basa en un modelo push, en el que los datos se transmiten de forma asincrónica a través de un flujo de datos. En lugar de procesar todos los datos de una vez, se procesan los datos en pequeños fragmentos a medida que se van recibiendo. Esto hace que la **streaming API** sea adecuada para el procesamiento de datos en tiempo real y para el manejo de grandes volúmenes de datos que no caben en memoria.  \n",
    "Para decirle a Polars que queremos ejecutar una consulta en modo streaming le pasamos el **streaming=True** argumento a collect."
   ]
  },
  {
   "cell_type": "code",
   "execution_count": 4,
   "id": "9eb07af6",
   "metadata": {},
   "outputs": [
    {
     "name": "stdout",
     "output_type": "stream",
     "text": [
      "shape: (3, 2)\n",
      "┌─────────────────┬────────────┐\n",
      "│ class           ┆ sepalwidth │\n",
      "│ ---             ┆ ---        │\n",
      "│ str             ┆ f64        │\n",
      "╞═════════════════╪════════════╡\n",
      "│ Iris-setosa     ┆ 3.713636   │\n",
      "│ Iris-versicolor ┆ 2.804255   │\n",
      "│ Iris-virginica  ┆ 2.983673   │\n",
      "└─────────────────┴────────────┘\n"
     ]
    }
   ],
   "source": [
    "q2 = (\n",
    "    pl.scan_csv(\"iris.csv\")\n",
    "    .filter(pl.col(\"sepallength\") > 5)\n",
    "    .groupby(\"class\")\n",
    "    .agg(pl.col(\"sepalwidth\").mean())\n",
    ")\n",
    "\n",
    "df_streaming = q2.collect(streaming=True)\n",
    "print(df_streaming)"
   ]
  },
  {
   "cell_type": "code",
   "execution_count": null,
   "id": "967f65f9",
   "metadata": {},
   "outputs": [],
   "source": []
  }
 ],
 "metadata": {
  "kernelspec": {
   "display_name": "Python 3 (ipykernel)",
   "language": "python",
   "name": "python3"
  },
  "language_info": {
   "codemirror_mode": {
    "name": "ipython",
    "version": 3
   },
   "file_extension": ".py",
   "mimetype": "text/x-python",
   "name": "python",
   "nbconvert_exporter": "python",
   "pygments_lexer": "ipython3",
   "version": "3.9.13"
  }
 },
 "nbformat": 4,
 "nbformat_minor": 5
}
