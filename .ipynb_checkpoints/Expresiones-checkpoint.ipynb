{
 "cells": [
  {
   "cell_type": "markdown",
   "id": "15fb505f",
   "metadata": {},
   "source": [
    "# <font color=\"#CD0000\">Operadores básicos   </font>  \n"
   ]
  },
  {
   "cell_type": "code",
   "execution_count": 4,
   "id": "1b95cbe2",
   "metadata": {},
   "outputs": [
    {
     "name": "stdout",
     "output_type": "stream",
     "text": [
      "shape: (150, 5)\n",
      "┌─────────────┬────────────┬─────────────┬────────────┬────────────────┐\n",
      "│ sepallength ┆ sepalwidth ┆ petallength ┆ petalwidth ┆ class          │\n",
      "│ ---         ┆ ---        ┆ ---         ┆ ---        ┆ ---            │\n",
      "│ f64         ┆ f64        ┆ f64         ┆ f64        ┆ str            │\n",
      "╞═════════════╪════════════╪═════════════╪════════════╪════════════════╡\n",
      "│ 5.1         ┆ 3.5        ┆ 1.4         ┆ 0.2        ┆ Iris-setosa    │\n",
      "│ 4.9         ┆ 3.0        ┆ 1.4         ┆ 0.2        ┆ Iris-setosa    │\n",
      "│ 4.7         ┆ 3.2        ┆ 1.3         ┆ 0.2        ┆ Iris-setosa    │\n",
      "│ 4.6         ┆ 3.1        ┆ 1.5         ┆ 0.2        ┆ Iris-setosa    │\n",
      "│ …           ┆ …          ┆ …           ┆ …          ┆ …              │\n",
      "│ 6.3         ┆ 2.5        ┆ 5.0         ┆ 1.9        ┆ Iris-virginica │\n",
      "│ 6.5         ┆ 3.0        ┆ 5.2         ┆ 2.0        ┆ Iris-virginica │\n",
      "│ 6.2         ┆ 3.4        ┆ 5.4         ┆ 2.3        ┆ Iris-virginica │\n",
      "│ 5.9         ┆ 3.0        ┆ 5.1         ┆ 1.8        ┆ Iris-virginica │\n",
      "└─────────────┴────────────┴─────────────┴────────────┴────────────────┘\n"
     ]
    }
   ],
   "source": [
    "import polars as pl\n",
    "\n",
    "df = pl.read_csv('iris.csv')\n",
    "print(df)\n"
   ]
  },
  {
   "cell_type": "markdown",
   "id": "cd3aa8c0",
   "metadata": {},
   "source": [
    "## Numerical  \n"
   ]
  },
  {
   "cell_type": "code",
   "execution_count": 7,
   "id": "3cbc5c07",
   "metadata": {},
   "outputs": [
    {
     "name": "stdout",
     "output_type": "stream",
     "text": [
      "shape: (150, 4)\n",
      "┌─────────────────┬─────────────────┬──────────────────────────┬──────────────────────────┐\n",
      "│ sepallength + 5 ┆ sepallength - 5 ┆ sepallength * sepalwidth ┆ sepallength / sepalwidth │\n",
      "│ ---             ┆ ---             ┆ ---                      ┆ ---                      │\n",
      "│ f64             ┆ f64             ┆ f64                      ┆ f64                      │\n",
      "╞═════════════════╪═════════════════╪══════════════════════════╪══════════════════════════╡\n",
      "│ 10.1            ┆ 0.1             ┆ 17.85                    ┆ 1.457143                 │\n",
      "│ 9.9             ┆ -0.1            ┆ 14.7                     ┆ 1.633333                 │\n",
      "│ 9.7             ┆ -0.3            ┆ 15.04                    ┆ 1.46875                  │\n",
      "│ 9.6             ┆ -0.4            ┆ 14.26                    ┆ 1.483871                 │\n",
      "│ …               ┆ …               ┆ …                        ┆ …                        │\n",
      "│ 11.3            ┆ 1.3             ┆ 15.75                    ┆ 2.52                     │\n",
      "│ 11.5            ┆ 1.5             ┆ 19.5                     ┆ 2.166667                 │\n",
      "│ 11.2            ┆ 1.2             ┆ 21.08                    ┆ 1.823529                 │\n",
      "│ 10.9            ┆ 0.9             ┆ 17.7                     ┆ 1.966667                 │\n",
      "└─────────────────┴─────────────────┴──────────────────────────┴──────────────────────────┘\n"
     ]
    }
   ],
   "source": [
    "df_numerical = df.select([\n",
    "    \n",
    "        (pl.col(\"sepallength\") + 5).alias(\"sepallength + 5\"), #longitud de sepalo +5\n",
    "        (pl.col(\"sepallength\") - 5).alias(\"sepallength - 5\"),#longitud de sepalo -5\n",
    "        (pl.col(\"sepallength\") * pl.col(\"sepalwidth\")).alias(\"sepallength * sepalwidth\"),#longitud por ancho del sepalo\n",
    "        (pl.col(\"sepallength\") / pl.col(\"sepalwidth\")).alias(\"sepallength / sepalwidth\"),#longitud entre el ancho del sepalo\n",
    "    ])\n",
    "\n",
    "print(df_numerical)"
   ]
  },
  {
   "cell_type": "markdown",
   "id": "a4b1ce0e",
   "metadata": {},
   "source": [
    "## Logical   \n",
    "Devuelve **true** o **false**."
   ]
  },
  {
   "cell_type": "code",
   "execution_count": 172,
   "id": "edace314",
   "metadata": {
    "scrolled": true
   },
   "outputs": [
    {
     "name": "stdout",
     "output_type": "stream",
     "text": [
      "shape: (150, 5)\n",
      "┌──────────────────┬──────────────────┬──────────────────┬──────────┬─────────┐\n",
      "│ sepalwidth < 0.5 ┆ sepallength != 1 ┆ sepallength == 1 ┆ and_expr ┆ or_expr │\n",
      "│ ---              ┆ ---              ┆ ---              ┆ ---      ┆ ---     │\n",
      "│ bool             ┆ bool             ┆ bool             ┆ bool     ┆ bool    │\n",
      "╞══════════════════╪══════════════════╪══════════════════╪══════════╪═════════╡\n",
      "│ false            ┆ true             ┆ false            ┆ false    ┆ true    │\n",
      "│ false            ┆ true             ┆ false            ┆ false    ┆ true    │\n",
      "│ false            ┆ true             ┆ false            ┆ false    ┆ true    │\n",
      "│ false            ┆ true             ┆ false            ┆ false    ┆ true    │\n",
      "│ …                ┆ …                ┆ …                ┆ …        ┆ …       │\n",
      "│ false            ┆ true             ┆ false            ┆ false    ┆ true    │\n",
      "│ false            ┆ true             ┆ false            ┆ false    ┆ true    │\n",
      "│ false            ┆ true             ┆ false            ┆ false    ┆ true    │\n",
      "│ false            ┆ true             ┆ false            ┆ false    ┆ true    │\n",
      "└──────────────────┴──────────────────┴──────────────────┴──────────┴─────────┘\n"
     ]
    }
   ],
   "source": [
    "df_logical = df.select([\n",
    "    \n",
    "        (pl.col(\"sepalwidth\") <= 0.5).alias(\"sepalwidth < 0.5\"),\n",
    "        (pl.col(\"sepalwidth\") != 1).alias(\"sepallength != 1\"),\n",
    "        (pl.col(\"sepallength\") == 1).alias(\"sepallength == 1\"),\n",
    "        ((pl.col(\"sepalwidth\") <= 0.5) & (pl.col(\"sepallength\") > 1)).alias(\"and_expr\"),  # and\n",
    "        ((pl.col(\"sepalwidth\") <= 0.5) | (pl.col(\"sepallength\") > 1)).alias(\"or_expr\"),  # or\n",
    "    ])\n",
    "\n",
    "print(df_logical)"
   ]
  },
  {
   "cell_type": "markdown",
   "id": "7f390749",
   "metadata": {},
   "source": [
    "# <font color=\"#CD0000\">Funciones </font> \n",
    "Las expresiones tienen una gran cantidad de funciones integradas, estos le permiten crear consultas complejas sin necesidad de funciones definidas por el usuario.  \n"
   ]
  },
  {
   "cell_type": "markdown",
   "id": "f4030937",
   "metadata": {},
   "source": [
    "## Selección columna \n",
    "<font color=\"#474747\">**SELECCIONA TODAS LAS COLUMNAS**</font> \n"
   ]
  },
  {
   "cell_type": "code",
   "execution_count": 9,
   "id": "30d9a995",
   "metadata": {},
   "outputs": [
    {
     "name": "stdout",
     "output_type": "stream",
     "text": [
      "shape: (150, 5)\n",
      "┌─────────────┬────────────┬─────────────┬────────────┬────────────────┐\n",
      "│ sepallength ┆ sepalwidth ┆ petallength ┆ petalwidth ┆ class          │\n",
      "│ ---         ┆ ---        ┆ ---         ┆ ---        ┆ ---            │\n",
      "│ f64         ┆ f64        ┆ f64         ┆ f64        ┆ str            │\n",
      "╞═════════════╪════════════╪═════════════╪════════════╪════════════════╡\n",
      "│ 5.1         ┆ 3.5        ┆ 1.4         ┆ 0.2        ┆ Iris-setosa    │\n",
      "│ 4.9         ┆ 3.0        ┆ 1.4         ┆ 0.2        ┆ Iris-setosa    │\n",
      "│ 4.7         ┆ 3.2        ┆ 1.3         ┆ 0.2        ┆ Iris-setosa    │\n",
      "│ 4.6         ┆ 3.1        ┆ 1.5         ┆ 0.2        ┆ Iris-setosa    │\n",
      "│ …           ┆ …          ┆ …           ┆ …          ┆ …              │\n",
      "│ 6.3         ┆ 2.5        ┆ 5.0         ┆ 1.9        ┆ Iris-virginica │\n",
      "│ 6.5         ┆ 3.0        ┆ 5.2         ┆ 2.0        ┆ Iris-virginica │\n",
      "│ 6.2         ┆ 3.4        ┆ 5.4         ┆ 2.3        ┆ Iris-virginica │\n",
      "│ 5.9         ┆ 3.0        ┆ 5.1         ┆ 1.8        ┆ Iris-virginica │\n",
      "└─────────────┴────────────┴─────────────┴────────────┴────────────────┘\n"
     ]
    }
   ],
   "source": [
    "##all\n",
    "df_all = df.select([pl.col(\"*\")])\n",
    "\n",
    "##Es equivalente a\n",
    "df_all = df.select([pl.all()])\n",
    "print(df_all)"
   ]
  },
  {
   "cell_type": "markdown",
   "id": "fdec8778",
   "metadata": {},
   "source": [
    "\n",
    "<font color=\"#474747\">**SELECCIONA TODAS LAS COLUMNAS EXCEPTO**</font> "
   ]
  },
  {
   "cell_type": "code",
   "execution_count": 10,
   "id": "44baed07",
   "metadata": {},
   "outputs": [
    {
     "name": "stdout",
     "output_type": "stream",
     "text": [
      "shape: (150, 4)\n",
      "┌─────────────┬────────────┬─────────────┬────────────┐\n",
      "│ sepallength ┆ sepalwidth ┆ petallength ┆ petalwidth │\n",
      "│ ---         ┆ ---        ┆ ---         ┆ ---        │\n",
      "│ f64         ┆ f64        ┆ f64         ┆ f64        │\n",
      "╞═════════════╪════════════╪═════════════╪════════════╡\n",
      "│ 5.1         ┆ 3.5        ┆ 1.4         ┆ 0.2        │\n",
      "│ 4.9         ┆ 3.0        ┆ 1.4         ┆ 0.2        │\n",
      "│ 4.7         ┆ 3.2        ┆ 1.3         ┆ 0.2        │\n",
      "│ 4.6         ┆ 3.1        ┆ 1.5         ┆ 0.2        │\n",
      "│ …           ┆ …          ┆ …           ┆ …          │\n",
      "│ 6.3         ┆ 2.5        ┆ 5.0         ┆ 1.9        │\n",
      "│ 6.5         ┆ 3.0        ┆ 5.2         ┆ 2.0        │\n",
      "│ 6.2         ┆ 3.4        ┆ 5.4         ┆ 2.3        │\n",
      "│ 5.9         ┆ 3.0        ┆ 5.1         ┆ 1.8        │\n",
      "└─────────────┴────────────┴─────────────┴────────────┘\n"
     ]
    }
   ],
   "source": [
    "##exclude  \n",
    "df_exclude = df.select([pl.exclude(\"class\")])#excluye la columna \"class\"\n",
    "print(df_exclude)"
   ]
  },
  {
   "cell_type": "markdown",
   "id": "5fc2bec0",
   "metadata": {},
   "source": [
    "## Nomenclatura de columnas   \n",
    "Renombra a las columnas en un *DataFrame* con **alias( )**. En Polars, los nombres de columna deben ser únicos y no pueden contener espacios ni caracteres especiales, excepto guiones bajos y puntos."
   ]
  },
  {
   "cell_type": "code",
   "execution_count": 27,
   "id": "32f7914c",
   "metadata": {},
   "outputs": [
    {
     "name": "stdout",
     "output_type": "stream",
     "text": [
      "shape: (150, 2)\n",
      "┌────────────────┬────────────────┐\n",
      "│ sepalwidth + 5 ┆ sepalwidth - 5 │\n",
      "│ ---            ┆ ---            │\n",
      "│ f64            ┆ f64            │\n",
      "╞════════════════╪════════════════╡\n",
      "│ 8.5            ┆ -1.5           │\n",
      "│ 8.0            ┆ -2.0           │\n",
      "│ 8.2            ┆ -1.8           │\n",
      "│ 8.1            ┆ -1.9           │\n",
      "│ …              ┆ …              │\n",
      "│ 7.5            ┆ -2.5           │\n",
      "│ 8.0            ┆ -2.0           │\n",
      "│ 8.4            ┆ -1.6           │\n",
      "│ 8.0            ┆ -2.0           │\n",
      "└────────────────┴────────────────┘\n"
     ]
    }
   ],
   "source": [
    "## alias modifica el nombre de la columna\n",
    "df_alias = df.select(\n",
    "    [\n",
    "        (pl.col(\"sepalwidth\") + 5).alias(\"sepalwidth + 5\"),\n",
    "        (pl.col(\"sepalwidth\") - 5).alias(\"sepalwidth - 5\"),\n",
    "    ]\n",
    ")\n",
    "print(df_alias)"
   ]
  },
  {
   "cell_type": "markdown",
   "id": "6550321d",
   "metadata": {},
   "source": [
    "\n",
    "En caso de que se desee agregar un sufijo **(suffix( ))** o un prefijo **(prefix( ))**."
   ]
  },
  {
   "cell_type": "code",
   "execution_count": 18,
   "id": "10226d92",
   "metadata": {},
   "outputs": [
    {
     "name": "stdout",
     "output_type": "stream",
     "text": [
      "shape: (5, 2)\n",
      "┌────────────┬────────────────┐\n",
      "│ sepalwidth ┆ sepalwidth_sum │\n",
      "│ ---        ┆ ---            │\n",
      "│ f64        ┆ f64            │\n",
      "╞════════════╪════════════════╡\n",
      "│ 3.5        ┆ 458.1          │\n",
      "│ 3.0        ┆ 458.1          │\n",
      "│ 3.2        ┆ 458.1          │\n",
      "│ 3.1        ┆ 458.1          │\n",
      "│ 3.6        ┆ 458.1          │\n",
      "└────────────┴────────────────┘ shape: (5, 2)\n",
      "┌─────────────┬──────────────────┐\n",
      "│ sepallength ┆ mean_sepallength │\n",
      "│ ---         ┆ ---              │\n",
      "│ f64         ┆ f64              │\n",
      "╞═════════════╪══════════════════╡\n",
      "│ 5.1         ┆ 5.843333         │\n",
      "│ 4.9         ┆ 5.843333         │\n",
      "│ 4.7         ┆ 5.843333         │\n",
      "│ 4.6         ┆ 5.843333         │\n",
      "│ 5.0         ┆ 5.843333         │\n",
      "└─────────────┴──────────────────┘\n"
     ]
    }
   ],
   "source": [
    "#sufijo\n",
    "df_su =df.select([\n",
    "       pl.col(\"sepalwidth\"),\n",
    "        pl.col(\"sepalwidth\").sum().suffix(\"_sum\")]).head()\n",
    "\n",
    "#prefijo\n",
    "df_pref = df.select([\n",
    "          pl.col(\"sepallength\"),\n",
    "          pl.col(\"sepallength\").mean().prefix(\"mean_\")]).head()\n",
    "\n",
    "print(df_su,df_pref)"
   ]
  },
  {
   "cell_type": "markdown",
   "id": "6b2c1ad4",
   "metadata": {},
   "source": [
    "## Contar valores únicos   \n",
    "Dos formas de contar valores únicos por aproximación **(aprox_unique( ))** o metodología exacta **(n_unique( ))** ."
   ]
  },
  {
   "cell_type": "code",
   "execution_count": 28,
   "id": "211df2d7",
   "metadata": {},
   "outputs": [
    {
     "name": "stdout",
     "output_type": "stream",
     "text": [
      "shape: (1, 2)\n",
      "┌────────────────────┬─────────────────────┐\n",
      "│ unique_petallength ┆ unique_approx_clase │\n",
      "│ ---                ┆ ---                 │\n",
      "│ u32                ┆ u32                 │\n",
      "╞════════════════════╪═════════════════════╡\n",
      "│ 43                 ┆ 3                   │\n",
      "└────────────────────┴─────────────────────┘ shape: (1, 2)\n",
      "┌─────────────────┬───────┐\n",
      "│ longitud_petalo ┆ clase │\n",
      "│ ---             ┆ ---   │\n",
      "│ u32             ┆ u32   │\n",
      "╞═════════════════╪═══════╡\n",
      "│ 43              ┆ 3     │\n",
      "└─────────────────┴───────┘\n"
     ]
    }
   ],
   "source": [
    "#cuantos tipos de 'class' y 'petallength' existen\n",
    "##approx_unique( ) \n",
    "df_aprox = df.select([\n",
    "    \n",
    "        pl.approx_unique(\"petallength\").alias(\"unique_petallength\"),\n",
    "        pl.approx_unique(\"class\").alias(\"unique_approx_clase\"),  ])\n",
    "  \n",
    "\n",
    "\n",
    "##n_unique( ) \n",
    "df_uni = df.select([\n",
    "    pl.col(\"petallength\").n_unique().alias(\"longitud_petalo\"),\n",
    "    pl.col(\"class\").n_unique().alias(\"clase\"),])\n",
    "    \n",
    "print(df_aprox,df_uni)"
   ]
  },
  {
   "cell_type": "markdown",
   "id": "44eae143",
   "metadata": {},
   "source": [
    "## Condicionales  \n",
    "Polars admite condiciones similares a if en expresión con la sintaxis **when**, **then**, **otherwise**.    \n",
    "\n",
    "El predicado se coloca en **when** y cuando se evalúa como **true** se usa la expresión **then** y en **false** se usa **otherwise**."
   ]
  },
  {
   "cell_type": "code",
   "execution_count": 29,
   "id": "b232c590",
   "metadata": {},
   "outputs": [
    {
     "name": "stdout",
     "output_type": "stream",
     "text": [
      "shape: (150, 2)\n",
      "┌────────────┬─────────────┐\n",
      "│ sepalwidth ┆ conditional │\n",
      "│ ---        ┆ ---         │\n",
      "│ f64        ┆ bool        │\n",
      "╞════════════╪═════════════╡\n",
      "│ 3.5        ┆ true        │\n",
      "│ 3.0        ┆ false       │\n",
      "│ 3.2        ┆ true        │\n",
      "│ 3.1        ┆ false       │\n",
      "│ …          ┆ …           │\n",
      "│ 2.5        ┆ false       │\n",
      "│ 3.0        ┆ false       │\n",
      "│ 3.4        ┆ true        │\n",
      "│ 3.0        ┆ false       │\n",
      "└────────────┴─────────────┘\n"
     ]
    }
   ],
   "source": [
    "df_conditional = df.select(\n",
    "    [\n",
    "        pl.col(\"sepalwidth\"),\n",
    "        pl.when(pl.col(\"sepalwidth\") > 3.1)#condición\n",
    "        .then(pl.lit(True))\n",
    "        .otherwise(pl.lit(False))\n",
    "        .alias(\"conditional\"),\n",
    "    ]\n",
    ")\n",
    "print(df_conditional)"
   ]
  },
  {
   "cell_type": "markdown",
   "id": "be5e0121",
   "metadata": {},
   "source": [
    "# <font color=\"#CD0000\">Fundición </font>\n",
    "La fundición en Polars se refiere a la conversión de datos de una columna a otro tipo de datos.  \n",
    "\n",
    "Si se encuentra un valor que no se puede convertir, el comportamiento predeterminado es **\"strict=True\"**, lo que significa que se generará un error. Pero si se establece en **\"strict=False\"**, los valores que no se puedan convertir se convertirán silenciosamente a \"null\".   \n",
    "\n",
    "## Numerics  \n",
    "Se invoca a la función **cast( )**.  \n",
    "\n"
   ]
  },
  {
   "cell_type": "code",
   "execution_count": 43,
   "id": "e6afcfe5",
   "metadata": {},
   "outputs": [
    {
     "name": "stdout",
     "output_type": "stream",
     "text": [
      "shape: (5, 3)\n",
      "┌──────────┬───────────┬────────┐\n",
      "│ integers ┆ character ┆ floats │\n",
      "│ ---      ┆ ---       ┆ ---    │\n",
      "│ i64      ┆ str       ┆ f64    │\n",
      "╞══════════╪═══════════╪════════╡\n",
      "│ 1        ┆ rojo      ┆ 4.3    │\n",
      "│ 2        ┆ azul      ┆ 5.4    │\n",
      "│ 3        ┆ amarillo  ┆ 6.7    │\n",
      "│ 4        ┆ verde     ┆ 7.2    │\n",
      "│ 5        ┆ blanco    ┆ 8.0    │\n",
      "└──────────┴───────────┴────────┘\n",
      "shape: (5, 3)\n",
      "┌────────────────────┬────────────────────┬───────────────────────┐\n",
      "│ integers_as_floats ┆ floats_as_integers ┆ character_as_integers │\n",
      "│ ---                ┆ ---                ┆ ---                   │\n",
      "│ f32                ┆ i32                ┆ i16                   │\n",
      "╞════════════════════╪════════════════════╪═══════════════════════╡\n",
      "│ 1.0                ┆ 4                  ┆ null                  │\n",
      "│ 2.0                ┆ 5                  ┆ null                  │\n",
      "│ 3.0                ┆ 6                  ┆ null                  │\n",
      "│ 4.0                ┆ 7                  ┆ null                  │\n",
      "│ 5.0                ┆ 8                  ┆ null                  │\n",
      "└────────────────────┴────────────────────┴───────────────────────┘\n"
     ]
    }
   ],
   "source": [
    "#EJEMPLO 1\n",
    "ct1 = pl.DataFrame({\n",
    "    \n",
    "        \"integers\": [1, 2, 3, 4, 5],\n",
    "        \"character\": [\"rojo\", \"azul\", \"amarillo\", \"verde\", \"blanco\"],\n",
    "        \"floats\": [4.3, 5.4, 6.7, 7.2, 8.0],   })\n",
    "\n",
    "\n",
    "print(ct1)\n",
    "#conversión de datos con 'cast( )'\n",
    "#Los valores decimales se redoondean hacia abajo\n",
    "out1 = ct1.select(\n",
    "    [\n",
    "        pl.col(\"integers\").cast(pl.Float32).alias(\"integers_as_floats\"),\n",
    "        pl.col(\"floats\").cast(pl.Int32).alias(\"floats_as_integers\"),\n",
    "        pl.col(\"character\").cast(pl.Int16, strict=False).alias(\"character_as_integers\")\n",
    "    ])\n",
    "print(out1)"
   ]
  },
  {
   "cell_type": "markdown",
   "id": "cbecf988",
   "metadata": {},
   "source": [
    "## Booleans   \n",
    "Los booleanos se pueden expresar como **1 ( True)** o **0 ( False)**. Es posible realizar operaciones de conversión entre un numérico *DataType* y un booleano, y viceversa. Sin embargo, tenga en cuenta que no se permite la conversión de una cadena **(Utf8)** a un booleano."
   ]
  },
  {
   "cell_type": "code",
   "execution_count": 51,
   "id": "26123fb2",
   "metadata": {},
   "outputs": [
    {
     "name": "stdout",
     "output_type": "stream",
     "text": [
      "shape: (5, 2)\n",
      "┌──────────┬────────┐\n",
      "│ integers ┆ floats │\n",
      "│ ---      ┆ ---    │\n",
      "│ bool     ┆ bool   │\n",
      "╞══════════╪════════╡\n",
      "│ true     ┆ false  │\n",
      "│ false    ┆ true   │\n",
      "│ true     ┆ true   │\n",
      "│ true     ┆ true   │\n",
      "│ true     ┆ true   │\n",
      "└──────────┴────────┘\n"
     ]
    }
   ],
   "source": [
    "#EJEMPLO 2\n",
    "##cast(pl.Boolean)\n",
    "ct4 = pl.DataFrame({\n",
    "    \n",
    "        \"integers\": [-1, 0, 2, 3, 4],\n",
    "        \"floats\": [0.0, 1.0, 2.0, 3.0, 4.0],})\n",
    "        \n",
    "\n",
    "\n",
    "out5 = ct4.select([\n",
    "    \n",
    "        pl.col(\"integers\").cast(pl.Boolean),\n",
    "        pl.col(\"floats\").cast(pl.Boolean),])\n",
    " \n",
    "print(out5)"
   ]
  },
  {
   "cell_type": "markdown",
   "id": "16e8371b",
   "metadata": {},
   "source": [
    "## Date  \n",
    "Los tipos de datos temporales como **Date** o **Datetime** se representan como el número de días (**Date**) y microsegundos (**Datetime**) desde la época. "
   ]
  },
  {
   "cell_type": "code",
   "execution_count": 54,
   "id": "34d01914",
   "metadata": {},
   "outputs": [
    {
     "name": "stdout",
     "output_type": "stream",
     "text": [
      "shape: (1_465, 2)\n",
      "┌───────┬──────────────────┐\n",
      "│ date  ┆ datetime         │\n",
      "│ ---   ┆ ---              │\n",
      "│ i64   ┆ i64              │\n",
      "╞═══════╪══════════════════╡\n",
      "│ 11329 ┆ 978825600000000  │\n",
      "│ 11330 ┆ 978912000000000  │\n",
      "│ 11331 ┆ 978998400000000  │\n",
      "│ 11332 ┆ 979084800000000  │\n",
      "│ …     ┆ …                │\n",
      "│ 12790 ┆ 1105056000000000 │\n",
      "│ 12791 ┆ 1105142400000000 │\n",
      "│ 12792 ┆ 1105228800000000 │\n",
      "│ 12793 ┆ 1105315200000000 │\n",
      "└───────┴──────────────────┘\n"
     ]
    }
   ],
   "source": [
    "#EJEMPLO 3\n",
    "from datetime import date, datetime\n",
    "\n",
    "ct5 = pl.DataFrame({\n",
    "    \n",
    "        \"date\": pl.date_range(date(2001,1, 7), date(2005, 1, 10), eager=True),\n",
    "        \"datetime\": pl.date_range(datetime(2001,1, 7), datetime(2005, 1, 10), eager=True),\n",
    "         })\n",
    "\n",
    "out6 = ct5.select([pl.col(\"date\").cast(pl.Int64), pl.col(\"datetime\").cast(pl.Int64)])\n",
    "print(out6)"
   ]
  },
  {
   "cell_type": "markdown",
   "id": "9e573dd5",
   "metadata": {},
   "source": [
    "Para realizar operaciones de conversión entre *cadenas* y *Dates*/ *Datetimes*, *strftime* y *strptime* se utilizan. Polars adopta la sintaxis de formato crono al formatear. Vale la pena señalar que *strptime* presenta opciones adicionales que admiten la funcionalidad de la zona horaria. Consulte la documentación de la API para obtener más información."
   ]
  },
  {
   "cell_type": "code",
   "execution_count": 55,
   "id": "db5e7e1a",
   "metadata": {},
   "outputs": [
    {
     "name": "stdout",
     "output_type": "stream",
     "text": [
      "shape: (5, 2)\n",
      "┌────────────┬─────────────────────┐\n",
      "│ date       ┆ string              │\n",
      "│ ---        ┆ ---                 │\n",
      "│ str        ┆ datetime[μs]        │\n",
      "╞════════════╪═════════════════════╡\n",
      "│ 2022-01-01 ┆ 2022-01-01 00:00:00 │\n",
      "│ 2022-01-02 ┆ 2022-01-02 00:00:00 │\n",
      "│ 2022-01-03 ┆ 2022-01-03 00:00:00 │\n",
      "│ 2022-01-04 ┆ 2022-01-04 00:00:00 │\n",
      "│ 2022-01-05 ┆ 2022-01-05 00:00:00 │\n",
      "└────────────┴─────────────────────┘\n"
     ]
    }
   ],
   "source": [
    "##strftime y strptime\n",
    "ct6 = pl.DataFrame({\n",
    "    \n",
    "        \"date\": pl.date_range(date(2022, 1, 1), date(2022, 1, 5), eager=True),\n",
    "        \"string\": [\n",
    "            \"2022-01-01\",\n",
    "            \"2022-01-02\",\n",
    "            \"2022-01-03\",\n",
    "            \"2022-01-04\",\n",
    "            \"2022-01-05\",\n",
    "        ],})\n",
    "    \n",
    "\n",
    "\n",
    "out7 = ct6.select([\n",
    "    \n",
    "        pl.col(\"date\").dt.strftime(\"%Y-%m-%d\"),\n",
    "        pl.col(\"string\").str.strptime(pl.Datetime, \"%Y-%m-%d\"),\n",
    "    ])\n",
    "\n",
    "print(out7)"
   ]
  },
  {
   "cell_type": "markdown",
   "id": "37f56cb8",
   "metadata": {},
   "source": [
    "# <font color=\"#CD0000\">Strings </font>\n",
    "Las operaciones realizadas en cadenas *Utf8* .\n",
    "\n",
    "<font color=\"#474747\">**ACCESO AL ESPACIO DE NOMBRES DE CADENA**</font>  \n",
    "**str** se puede acceder al espacio de nombres a través del **.str** atributo de una columna con *Utf8* tipo de datos.\n"
   ]
  },
  {
   "cell_type": "code",
   "execution_count": 40,
   "id": "48141e2d",
   "metadata": {},
   "outputs": [
    {
     "name": "stdout",
     "output_type": "stream",
     "text": [
      "shape: (150, 2)\n",
      "┌────────────┬──────────────┐\n",
      "│ byte_count ┆ letter_count │\n",
      "│ ---        ┆ ---          │\n",
      "│ u32        ┆ u32          │\n",
      "╞════════════╪══════════════╡\n",
      "│ 11         ┆ 11           │\n",
      "│ 11         ┆ 11           │\n",
      "│ 11         ┆ 11           │\n",
      "│ 11         ┆ 11           │\n",
      "│ …          ┆ …            │\n",
      "│ 14         ┆ 14           │\n",
      "│ 14         ┆ 14           │\n",
      "│ 14         ┆ 14           │\n",
      "│ 14         ┆ 14           │\n",
      "└────────────┴──────────────┘\n"
     ]
    }
   ],
   "source": [
    "#lengths y n_chars\n",
    "df_len = df.select(\n",
    "    [\n",
    "        pl.col(\"class\").str.lengths().alias(\"byte_count\"),#recuento de bytes\n",
    "        pl.col(\"class\").str.n_chars().alias(\"letter_count\"),#recuento de letras\n",
    "    ]\n",
    ")\n",
    "print(df_len)"
   ]
  },
  {
   "cell_type": "markdown",
   "id": "b6df158e",
   "metadata": {},
   "source": [
    "<font color=\"#474747\">**COMPROBAR LA EXISTENCIA DE UN PATRÓN**</font>   \n",
    "El **contains** es un método que acepta un patron de expresión regular.\n",
    "Si la subcadena buscada se encuentra al inicio se usa **starts_with** y para el final **ends_with**.\n"
   ]
  },
  {
   "cell_type": "code",
   "execution_count": 59,
   "id": "f6a70341",
   "metadata": {},
   "outputs": [
    {
     "name": "stdout",
     "output_type": "stream",
     "text": [
      "shape: (150, 4)\n",
      "┌────────────────┬─────────────┬───────────────┬──────────────┐\n",
      "│ class          ┆ subcadea_is ┆ subcadea_Iris ┆ subcadea_osa │\n",
      "│ ---            ┆ ---         ┆ ---           ┆ ---          │\n",
      "│ str            ┆ bool        ┆ bool          ┆ bool         │\n",
      "╞════════════════╪═════════════╪═══════════════╪══════════════╡\n",
      "│ Iris-setosa    ┆ false       ┆ true          ┆ true         │\n",
      "│ Iris-setosa    ┆ false       ┆ true          ┆ true         │\n",
      "│ Iris-setosa    ┆ false       ┆ true          ┆ true         │\n",
      "│ Iris-setosa    ┆ false       ┆ true          ┆ true         │\n",
      "│ …              ┆ …           ┆ …             ┆ …            │\n",
      "│ Iris-virginica ┆ true        ┆ true          ┆ false        │\n",
      "│ Iris-virginica ┆ true        ┆ true          ┆ false        │\n",
      "│ Iris-virginica ┆ true        ┆ true          ┆ false        │\n",
      "│ Iris-virginica ┆ true        ┆ true          ┆ false        │\n",
      "└────────────────┴─────────────┴───────────────┴──────────────┘\n"
     ]
    }
   ],
   "source": [
    "df_patron = df.select(\n",
    "    [\n",
    "        pl.col(\"class\"),\n",
    "        pl.col(\"class\").str.contains(\"nica\").alias(\"subcadea_is\"),\n",
    "        pl.col(\"class\").str.starts_with(\"Iris\").alias(\"subcadea_Iris\"),#inicio\n",
    "        pl.col(\"class\").str.ends_with(\"osa\").alias(\"subcadea_osa\"),#fin\n",
    "    ]\n",
    ")\n",
    "print(df_patron)"
   ]
  },
  {
   "cell_type": "markdown",
   "id": "10f75c44",
   "metadata": {},
   "source": [
    "<font color=\"#474747\">**EXTRAER UN PATRÓN**</font>   \n",
    "El **extract** método nos permite extraer un patrón de una cadena específica.\n"
   ]
  },
  {
   "cell_type": "code",
   "execution_count": 56,
   "id": "e479c9cd",
   "metadata": {},
   "outputs": [
    {
     "name": "stdout",
     "output_type": "stream",
     "text": [
      "shape: (150, 1)\n",
      "┌────────┐\n",
      "│ class  │\n",
      "│ ---    │\n",
      "│ str    │\n",
      "╞════════╡\n",
      "│ setosa │\n",
      "│ setosa │\n",
      "│ setosa │\n",
      "│ setosa │\n",
      "│ …      │\n",
      "│ null   │\n",
      "│ null   │\n",
      "│ null   │\n",
      "│ null   │\n",
      "└────────┘\n"
     ]
    }
   ],
   "source": [
    "#group_index=1 se utiliza para especificar que se extraiga el primer grupo de coincidencias del patrón (el patrón completo en este caso).\n",
    "df_extract = df.select(pl.col(\"class\").str.extract(r\"setosa\", group_index=0))\n",
    "\n",
    "print(df_extract)"
   ]
  },
  {
   "cell_type": "markdown",
   "id": "ebf753a6",
   "metadata": {},
   "source": [
    "El método **extract_all** extrae todas las ocurrencia. "
   ]
  },
  {
   "cell_type": "code",
   "execution_count": 58,
   "id": "9e767c71",
   "metadata": {},
   "outputs": [
    {
     "name": "stdout",
     "output_type": "stream",
     "text": [
      "shape: (150, 1)\n",
      "┌───────────────┐\n",
      "│ class         │\n",
      "│ ---           │\n",
      "│ list[str]     │\n",
      "╞═══════════════╡\n",
      "│ [\"setosa\"]    │\n",
      "│ [\"setosa\"]    │\n",
      "│ [\"setosa\"]    │\n",
      "│ [\"setosa\"]    │\n",
      "│ …             │\n",
      "│ [\"virginica\"] │\n",
      "│ [\"virginica\"] │\n",
      "│ [\"virginica\"] │\n",
      "│ [\"virginica\"] │\n",
      "└───────────────┘\n"
     ]
    }
   ],
   "source": [
    "df_extract_all = df.select(pl.col(\"class\").str.extract_all(r\"(setosa|versicolor|virginica)\"))\n",
    "\n",
    "print(df_extract_all)"
   ]
  },
  {
   "cell_type": "markdown",
   "id": "b7b2adf8",
   "metadata": {},
   "source": [
    "<font color=\"#474747\">**REEMPLAZAR UN PATRÓN**</font>   \n",
    "Polars proporciona los métodos **replace** y **replace_all**, ambas reemplazan patrones."
   ]
  },
  {
   "cell_type": "code",
   "execution_count": 62,
   "id": "ed2129f7",
   "metadata": {},
   "outputs": [
    {
     "name": "stdout",
     "output_type": "stream",
     "text": [
      "shape: (150, 2)\n",
      "┌────────────────┬──────────────────┐\n",
      "│ class          ┆ remplazo_de_Iris │\n",
      "│ ---            ┆ ---              │\n",
      "│ str            ┆ str              │\n",
      "╞════════════════╪══════════════════╡\n",
      "│ Iris-foo       ┆ flor-setosa      │\n",
      "│ Iris-foo       ┆ flor-setosa      │\n",
      "│ Iris-foo       ┆ flor-setosa      │\n",
      "│ Iris-foo       ┆ flor-setosa      │\n",
      "│ …              ┆ …                │\n",
      "│ Iris-virginica ┆ flor-virginica   │\n",
      "│ Iris-virginica ┆ flor-virginica   │\n",
      "│ Iris-virginica ┆ flor-virginica   │\n",
      "│ Iris-virginica ┆ flor-virginica   │\n",
      "└────────────────┴──────────────────┘\n"
     ]
    }
   ],
   "source": [
    "df_replace = df.select(pl.col(\"class\").str.replace(r\"setosa\", \"foo\"),\n",
    "                      pl.col(\"class\").str.replace_all(\"Iris\", \"flor\", literal=True).alias(\"remplazo_de_Iris\"),)\n",
    "\n",
    "print(df_replace)"
   ]
  },
  {
   "cell_type": "markdown",
   "id": "c2f202f9",
   "metadata": {},
   "source": [
    "# <font color=\"#CD0000\">Agregación </font> \n",
    "Usando **groupby**.\n",
    "## Agregaciones básicas  \n",
    "Se puede hacer cualquier tipo de combinación con las diferentes expresiones.  \n"
   ]
  },
  {
   "cell_type": "code",
   "execution_count": 65,
   "id": "d7e7f915",
   "metadata": {},
   "outputs": [
    {
     "name": "stdout",
     "output_type": "stream",
     "text": [
      "shape: (3, 4)\n",
      "┌─────────────────┬───────┬───────────────────┬────────────┐\n",
      "│ class           ┆ count ┆ petallength       ┆ petalwidth │\n",
      "│ ---             ┆ ---   ┆ ---               ┆ ---        │\n",
      "│ str             ┆ u32   ┆ list[f64]         ┆ f64        │\n",
      "╞═════════════════╪═══════╪═══════════════════╪════════════╡\n",
      "│ Iris-setosa     ┆ 50    ┆ [1.4, 1.4, … 1.4] ┆ 0.2        │\n",
      "│ Iris-versicolor ┆ 50    ┆ [4.7, 4.5, … 4.1] ┆ 1.4        │\n",
      "│ Iris-virginica  ┆ 50    ┆ [6.0, 5.1, … 5.1] ┆ 2.5        │\n",
      "└─────────────────┴───────┴───────────────────┴────────────┘\n"
     ]
    }
   ],
   "source": [
    "a = (df.lazy().groupby(\"class\").agg\n",
    "     ([pl.count(),\n",
    "          pl.col(\"petallength\"),\n",
    "          pl.first(\"petalwidth\"),  ]).sort(\"count\", descending=True).limit(5))\n",
    "\n",
    "\n",
    "df_aggre = a.collect()\n",
    "print(df_aggre)"
   ]
  },
  {
   "cell_type": "markdown",
   "id": "8cf9364b",
   "metadata": {},
   "source": [
    "## Condicionales  \n"
   ]
  },
  {
   "cell_type": "code",
   "execution_count": 90,
   "id": "8b8b598a",
   "metadata": {},
   "outputs": [
    {
     "name": "stdout",
     "output_type": "stream",
     "text": [
      "shape: (3, 2)\n",
      "┌─────────────────┬─────────────┐\n",
      "│ class           ┆ sepallength │\n",
      "│ ---             ┆ ---         │\n",
      "│ str             ┆ f64         │\n",
      "╞═════════════════╪═════════════╡\n",
      "│ Iris-versicolor ┆ 296.8       │\n",
      "│ Iris-setosa     ┆ 250.3       │\n",
      "│ Iris-virginica  ┆ 329.4       │\n",
      "└─────────────────┴─────────────┘\n"
     ]
    }
   ],
   "source": [
    "#agg es una función que agrega una columna\n",
    "#la función lazy ayuda a agrupar\n",
    "df_1 = (df.lazy().groupby(\"class\").agg([pl.col(\"sepallength\").sum()])).collect()\n",
    "print(df_1)"
   ]
  },
  {
   "cell_type": "markdown",
   "id": "e6f882eb",
   "metadata": {},
   "source": [
    "## Filtración  \n",
    "Se puede filtrar en grupos con **filter()**."
   ]
  },
  {
   "cell_type": "code",
   "execution_count": 91,
   "id": "76df5d40",
   "metadata": {},
   "outputs": [
    {
     "name": "stdout",
     "output_type": "stream",
     "text": [
      "shape: (11, 5)\n",
      "┌─────────────┬────────────┬─────────────┬────────────┬─────────────────┐\n",
      "│ sepallength ┆ sepalwidth ┆ petallength ┆ petalwidth ┆ class           │\n",
      "│ ---         ┆ ---        ┆ ---         ┆ ---        ┆ ---             │\n",
      "│ f64         ┆ f64        ┆ f64         ┆ f64        ┆ str             │\n",
      "╞═════════════╪════════════╪═════════════╪════════════╪═════════════════╡\n",
      "│ 4.9         ┆ 2.4        ┆ 3.3         ┆ 1.0        ┆ Iris-versicolor │\n",
      "│ 5.2         ┆ 2.7        ┆ 3.9         ┆ 1.4        ┆ Iris-versicolor │\n",
      "│ 5.0         ┆ 2.0        ┆ 3.5         ┆ 1.0        ┆ Iris-versicolor │\n",
      "│ 5.6         ┆ 2.9        ┆ 3.6         ┆ 1.3        ┆ Iris-versicolor │\n",
      "│ …           ┆ …          ┆ …           ┆ …          ┆ …               │\n",
      "│ 5.5         ┆ 2.4        ┆ 3.7         ┆ 1.0        ┆ Iris-versicolor │\n",
      "│ 5.8         ┆ 2.7        ┆ 3.9         ┆ 1.2        ┆ Iris-versicolor │\n",
      "│ 5.0         ┆ 2.3        ┆ 3.3         ┆ 1.0        ┆ Iris-versicolor │\n",
      "│ 5.1         ┆ 2.5        ┆ 3.0         ┆ 1.1        ┆ Iris-versicolor │\n",
      "└─────────────┴────────────┴─────────────┴────────────┴─────────────────┘\n"
     ]
    }
   ],
   "source": [
    "df_filtrar =df.filter((pl.col(\"petallength\")<4)&(pl.col(\"class\")==\"Iris-versicolor\")\n",
    ")\n",
    "print(df_filtrar)"
   ]
  },
  {
   "cell_type": "markdown",
   "id": "aff90a5c",
   "metadata": {},
   "source": [
    "## Clasificación   \n",
    "Ordenar **sort()** y agrupar **groupby()**."
   ]
  },
  {
   "cell_type": "code",
   "execution_count": 106,
   "id": "831141c0",
   "metadata": {},
   "outputs": [
    {
     "name": "stdout",
     "output_type": "stream",
     "text": [
      "shape: (3, 5)\n",
      "┌─────────────────┬─────────────┬────────────┬─────────────┬────────────┐\n",
      "│ class           ┆ sepallength ┆ sepalwidth ┆ petallength ┆ petalwidth │\n",
      "│ ---             ┆ ---         ┆ ---        ┆ ---         ┆ ---        │\n",
      "│ str             ┆ f64         ┆ f64        ┆ f64         ┆ f64        │\n",
      "╞═════════════════╪═════════════╪════════════╪═════════════╪════════════╡\n",
      "│ Iris-versicolor ┆ 5.936       ┆ 2.77       ┆ 4.26        ┆ 1.326      │\n",
      "│ Iris-setosa     ┆ 5.006       ┆ 3.418      ┆ 1.464       ┆ 0.244      │\n",
      "│ Iris-virginica  ┆ 6.588       ┆ 2.974      ┆ 5.552       ┆ 2.026      │\n",
      "└─────────────────┴─────────────┴────────────┴─────────────┴────────────┘\n",
      "shape: (150, 5)\n",
      "┌─────────────┬────────────┬─────────────┬────────────┬─────────────────┐\n",
      "│ sepallength ┆ sepalwidth ┆ petallength ┆ petalwidth ┆ class           │\n",
      "│ ---         ┆ ---        ┆ ---         ┆ ---        ┆ ---             │\n",
      "│ f64         ┆ f64        ┆ f64         ┆ f64        ┆ str             │\n",
      "╞═════════════╪════════════╪═════════════╪════════════╪═════════════════╡\n",
      "│ 5.0         ┆ 2.0        ┆ 3.5         ┆ 1.0        ┆ Iris-versicolor │\n",
      "│ 6.0         ┆ 2.2        ┆ 4.0         ┆ 1.0        ┆ Iris-versicolor │\n",
      "│ 6.2         ┆ 2.2        ┆ 4.5         ┆ 1.5        ┆ Iris-versicolor │\n",
      "│ 6.0         ┆ 2.2        ┆ 5.0         ┆ 1.5        ┆ Iris-virginica  │\n",
      "│ …           ┆ …          ┆ …           ┆ …          ┆ …               │\n",
      "│ 5.8         ┆ 4.0        ┆ 1.2         ┆ 0.2        ┆ Iris-setosa     │\n",
      "│ 5.2         ┆ 4.1        ┆ 1.5         ┆ 0.1        ┆ Iris-setosa     │\n",
      "│ 5.5         ┆ 4.2        ┆ 1.4         ┆ 0.2        ┆ Iris-setosa     │\n",
      "│ 5.7         ┆ 4.4        ┆ 1.5         ┆ 0.4        ┆ Iris-setosa     │\n",
      "└─────────────┴────────────┴─────────────┴────────────┴─────────────────┘\n"
     ]
    }
   ],
   "source": [
    "grupo = df.groupby(\"class\").mean() \n",
    "print(grupo)\n",
    "\n",
    "orden = df.sort(\"sepalwidth\")#por defecto de menor a mayor\n",
    "print(orden)"
   ]
  },
  {
   "cell_type": "markdown",
   "id": "70836228",
   "metadata": {},
   "source": [
    "# <font color=\"#CD0000\">Datos perdidos </font> \n",
    "## null  \n",
    "Los datos que faltan se representan en Arrows y Polars con un null,este **null** valor faltante se aplica a todos los tipos de datos, incluidos los valores numéricos.  \n",
    "\n"
   ]
  },
  {
   "cell_type": "code",
   "execution_count": 5,
   "id": "9ada8467",
   "metadata": {},
   "outputs": [
    {
     "name": "stdout",
     "output_type": "stream",
     "text": [
      "shape: (3, 3)\n",
      "┌──────┬──────┬─────────┐\n",
      "│ col1 ┆ col2 ┆ col3    │\n",
      "│ ---  ┆ ---  ┆ ---     │\n",
      "│ i64  ┆ i64  ┆ str     │\n",
      "╞══════╪══════╪═════════╡\n",
      "│ 1    ┆ 16   ┆ manzana │\n",
      "│ 2    ┆ null ┆ fresa   │\n",
      "│ 3    ┆ 48   ┆ uva     │\n",
      "└──────┴──────┴─────────┘\n"
     ]
    }
   ],
   "source": [
    "#EJEMPLO 4\n",
    "EJ4 = pl.DataFrame({\n",
    "        \"col1\": [1, 2, 3],\n",
    "        \"col2\": [16, None, 48],\n",
    "        \"col3\":[\"manzana\",\"fresa \",\"uva\"]\n",
    "    },)\n",
    "print(EJ4)"
   ]
  },
  {
   "cell_type": "markdown",
   "id": "cebdd170",
   "metadata": {},
   "source": [
    "### <font color=\"#474747\">Filtrar con is_null y is_not_null</font> "
   ]
  },
  {
   "cell_type": "code",
   "execution_count": 6,
   "id": "5223f287",
   "metadata": {},
   "outputs": [
    {
     "name": "stdout",
     "output_type": "stream",
     "text": [
      "shape: (1, 3)\n",
      "┌──────┬──────┬────────┐\n",
      "│ col1 ┆ col2 ┆ col3   │\n",
      "│ ---  ┆ ---  ┆ ---    │\n",
      "│ i64  ┆ i64  ┆ str    │\n",
      "╞══════╪══════╪════════╡\n",
      "│ 2    ┆ null ┆ fresa  │\n",
      "└──────┴──────┴────────┘\n",
      "shape: (2, 3)\n",
      "┌──────┬──────┬─────────┐\n",
      "│ col1 ┆ col2 ┆ col3    │\n",
      "│ ---  ┆ ---  ┆ ---     │\n",
      "│ i64  ┆ i64  ┆ str     │\n",
      "╞══════╪══════╪═════════╡\n",
      "│ 1    ┆ 16   ┆ manzana │\n",
      "│ 3    ┆ 48   ┆ uva     │\n",
      "└──────┴──────┴─────────┘\n"
     ]
    }
   ],
   "source": [
    "##is_null\n",
    "EJ4_isnull = EJ4.filter(pl.col(\"col2\").is_null())\n",
    "print(EJ4_isnull)#filtra la filas con datos nulos\n",
    "\n",
    "##is_not_null\n",
    "EJ4_isnot = EJ4.filter(pl.col(\"col2\").is_not_null())\n",
    "print(EJ4_isnot)#filtra todas las filas sin datos nulos "
   ]
  },
  {
   "cell_type": "markdown",
   "id": "86104232",
   "metadata": {},
   "source": [
    "### <font color=\"#474747\">Rellenar datos faltantes </font> \n",
    "Usando **fill_null( )**."
   ]
  },
  {
   "cell_type": "markdown",
   "id": "6a353eab",
   "metadata": {},
   "source": [
    "- **Rellenar con un valor específico**\n",
    "Usando **pl.lit( )** ."
   ]
  },
  {
   "cell_type": "code",
   "execution_count": 7,
   "id": "db4c2488",
   "metadata": {},
   "outputs": [
    {
     "name": "stdout",
     "output_type": "stream",
     "text": [
      "shape: (3, 3)\n",
      "┌──────┬──────┬─────────┐\n",
      "│ col1 ┆ col2 ┆ col3    │\n",
      "│ ---  ┆ ---  ┆ ---     │\n",
      "│ i64  ┆ i64  ┆ str     │\n",
      "╞══════╪══════╪═════════╡\n",
      "│ 1    ┆ 16   ┆ manzana │\n",
      "│ 2    ┆ 32   ┆ fresa   │\n",
      "│ 3    ┆ 48   ┆ uva     │\n",
      "└──────┴──────┴─────────┘\n"
     ]
    }
   ],
   "source": [
    "valor = EJ4.with_columns(pl.col(\"col2\").fill_null(pl.lit(32)))\n",
    "print(valor)"
   ]
  },
  {
   "cell_type": "markdown",
   "id": "f9a7e6a7",
   "metadata": {},
   "source": [
    "- **Rellenar con una expresión**   \n"
   ]
  },
  {
   "cell_type": "code",
   "execution_count": 118,
   "id": "e281dbc2",
   "metadata": {},
   "outputs": [
    {
     "name": "stdout",
     "output_type": "stream",
     "text": [
      "shape: (3, 3)\n",
      "┌──────┬──────┬─────────┐\n",
      "│ col1 ┆ col2 ┆ col3    │\n",
      "│ ---  ┆ ---  ┆ ---     │\n",
      "│ i64  ┆ i64  ┆ str     │\n",
      "╞══════╪══════╪═════════╡\n",
      "│ 1    ┆ 16   ┆ manzana │\n",
      "│ 2    ┆ 64   ┆ fresa   │\n",
      "│ 3    ┆ 48   ┆ uva     │\n",
      "└──────┴──────┴─────────┘\n"
     ]
    }
   ],
   "source": [
    "exp = EJ4.with_columns(pl.col(\"col2\").fill_null(pl.sum(\"col2\")))\n",
    "print(exp)"
   ]
  },
  {
   "cell_type": "markdown",
   "id": "e89cdac0",
   "metadata": {},
   "source": [
    "- **Rellenar con interpolación**   \n",
    "Usando **interpolate( )**."
   ]
  },
  {
   "cell_type": "code",
   "execution_count": 120,
   "id": "4e797f38",
   "metadata": {},
   "outputs": [
    {
     "name": "stdout",
     "output_type": "stream",
     "text": [
      "shape: (3, 3)\n",
      "┌──────┬──────┬─────────┐\n",
      "│ col1 ┆ col2 ┆ col3    │\n",
      "│ ---  ┆ ---  ┆ ---     │\n",
      "│ i64  ┆ i64  ┆ str     │\n",
      "╞══════╪══════╪═════════╡\n",
      "│ 1    ┆ 16   ┆ manzana │\n",
      "│ 2    ┆ 32   ┆ fresa   │\n",
      "│ 3    ┆ 48   ┆ uva     │\n",
      "└──────┴──────┴─────────┘\n"
     ]
    }
   ],
   "source": [
    "polacion = EJ4.with_columns(\"col2\").interpolate()\n",
    "print(polacion)"
   ]
  },
  {
   "cell_type": "markdown",
   "id": "983116d5",
   "metadata": {},
   "source": [
    "## NotaNumbero NaN valores\n",
    "Polars también permite **NotaNumber** o **NaN** valores para columnas flotantes,en Polars no se consideran datos faltantes. \n",
    " \n"
   ]
  },
  {
   "cell_type": "code",
   "execution_count": 125,
   "id": "096754e0",
   "metadata": {},
   "outputs": [
    {
     "name": "stdout",
     "output_type": "stream",
     "text": [
      "shape: (4, 1)\n",
      "┌───────┐\n",
      "│ valor │\n",
      "│ ---   │\n",
      "│ f64   │\n",
      "╞═══════╡\n",
      "│ 1.0   │\n",
      "│ NaN   │\n",
      "│ NaN   │\n",
      "│ 21.0  │\n",
      "└───────┘\n"
     ]
    }
   ],
   "source": [
    "import numpy as np\n",
    "\n",
    "#EJEMPLO 5\n",
    "EJ5 = pl.DataFrame({\"valor\":[1.0,np.NaN,float(\"nan\"),21]})\n",
    "print(EJ5)"
   ]
  },
  {
   "cell_type": "markdown",
   "id": "e1ee73fc",
   "metadata": {},
   "source": [
    "Tienen las funciones de **is_nan( )** y **fill_nan( )**."
   ]
  },
  {
   "cell_type": "code",
   "execution_count": 135,
   "id": "d790b31f",
   "metadata": {},
   "outputs": [
    {
     "name": "stdout",
     "output_type": "stream",
     "text": [
      "shape: (1, 1)\n",
      "┌───────┐\n",
      "│ valor │\n",
      "│ ---   │\n",
      "│ f64   │\n",
      "╞═══════╡\n",
      "│ 11.0  │\n",
      "└───────┘\n",
      "shape: (4, 1)\n",
      "┌───────┐\n",
      "│ valor │\n",
      "│ ---   │\n",
      "│ bool  │\n",
      "╞═══════╡\n",
      "│ false │\n",
      "│ true  │\n",
      "│ true  │\n",
      "│ false │\n",
      "└───────┘\n"
     ]
    }
   ],
   "source": [
    "#fill_nan\n",
    "fill_nan = EJ5.with_columns(pl.col(\"valor\").fill_nan(None)).mean()\n",
    "print(fill_nan)#saca la media de los valores que no sean \"NaN\"\n",
    "\n",
    "#is_nan\n",
    "is_nan = EJ5.with_columns(pl.col(\"valor\").is_nan())\n",
    "print(is_nan)#todos los datos NaN \n"
   ]
  },
  {
   "cell_type": "markdown",
   "id": "8eb8254b",
   "metadata": {},
   "source": [
    "# <font color=\"#CD0000\">Folds </font> \n",
    "Polars permite dividir un *DataFrame* en un número específico de pliegues(folds).Luego se puede aplicar una función específica a cada pliegue en paralelo para acelerar el procesamiento.  \n",
    "\n"
   ]
  },
  {
   "cell_type": "code",
   "execution_count": 136,
   "id": "acf92a42",
   "metadata": {},
   "outputs": [
    {
     "name": "stdout",
     "output_type": "stream",
     "text": [
      "shape: (3, 3)\n",
      "┌──────┬──────┬──────┐\n",
      "│ col1 ┆ col2 ┆ col3 │\n",
      "│ ---  ┆ ---  ┆ ---  │\n",
      "│ i64  ┆ i64  ┆ i64  │\n",
      "╞══════╪══════╪══════╡\n",
      "│ 1    ┆ 10   ┆ 5    │\n",
      "│ 2    ┆ 20   ┆ 15   │\n",
      "│ 3    ┆ 30   ┆ 25   │\n",
      "└──────┴──────┴──────┘\n"
     ]
    }
   ],
   "source": [
    "#EJEMPLO 6\n",
    "EJ6 = pl.DataFrame({\"col1\":[1,2,3],\n",
    "                   \"col2\":[10,20,30],\n",
    "                   \"col3\":[5,15,25]})\n",
    "print(EJ6)"
   ]
  },
  {
   "cell_type": "markdown",
   "id": "4c13248e",
   "metadata": {},
   "source": [
    "## Suma manual  \n",
    "Usando **sum( )** y **fold( )**."
   ]
  },
  {
   "cell_type": "code",
   "execution_count": 137,
   "id": "a8e5b1d6",
   "metadata": {},
   "outputs": [
    {
     "name": "stdout",
     "output_type": "stream",
     "text": [
      "shape: (3, 1)\n",
      "┌─────┐\n",
      "│ sum │\n",
      "│ --- │\n",
      "│ i64 │\n",
      "╞═════╡\n",
      "│ 16  │\n",
      "│ 37  │\n",
      "│ 58  │\n",
      "└─────┘\n"
     ]
    }
   ],
   "source": [
    "#se hace una suma por filas\n",
    "sum_manu = EJ6.select(\n",
    "    pl.fold(acc=pl.lit(0), function=lambda acc, x: acc + x, exprs=pl.all())\n",
    "    .alias(\"sum\"),)\n",
    "\n",
    "print(sum_manu)"
   ]
  },
  {
   "cell_type": "markdown",
   "id": "05286fc7",
   "metadata": {},
   "source": [
    "## Condicional"
   ]
  },
  {
   "cell_type": "code",
   "execution_count": 140,
   "id": "00357d4e",
   "metadata": {},
   "outputs": [
    {
     "name": "stdout",
     "output_type": "stream",
     "text": [
      "shape: (1, 3)\n",
      "┌──────┬──────┬──────┐\n",
      "│ col1 ┆ col2 ┆ col3 │\n",
      "│ ---  ┆ ---  ┆ ---  │\n",
      "│ i64  ┆ i64  ┆ i64  │\n",
      "╞══════╪══════╪══════╡\n",
      "│ 3    ┆ 30   ┆ 25   │\n",
      "└──────┴──────┴──────┘\n"
     ]
    }
   ],
   "source": [
    "#filtra la(s) donde todos sus elementos cumplan con la condición\n",
    "condicional = EJ6.filter(\n",
    "    pl.fold(acc=pl.lit(True),function=lambda acc, x: acc & x,\n",
    "            exprs=pl.col(\"*\") > 2,))#condición\n",
    "\n",
    "print(condicional)"
   ]
  },
  {
   "cell_type": "markdown",
   "id": "f94d0e43",
   "metadata": {},
   "source": [
    "## Datos de pliegues y cuerdas  \n",
    "Usando **concat_str( ).** \n"
   ]
  },
  {
   "cell_type": "code",
   "execution_count": 145,
   "id": "19d3594b",
   "metadata": {},
   "outputs": [
    {
     "name": "stdout",
     "output_type": "stream",
     "text": [
      "shape: (3, 1)\n",
      "┌───────────────┐\n",
      "│ concatenación │\n",
      "│ ---           │\n",
      "│ str           │\n",
      "╞═══════════════╡\n",
      "│ 1105          │\n",
      "│ 22015         │\n",
      "│ 33025         │\n",
      "└───────────────┘\n"
     ]
    }
   ],
   "source": [
    "#Concatenación por filas\n",
    "fs = EJ6.select([pl.concat_str([\"col1\",\"col2\",\"col3\"]).alias(\"concatenación\"), ])\n",
    "\n",
    "print(fs)"
   ]
  },
  {
   "cell_type": "markdown",
   "id": "27d0ec59",
   "metadata": {},
   "source": [
    "# <font color=\"#CD0000\">Listas </font> \n"
   ]
  },
  {
   "cell_type": "code",
   "execution_count": 155,
   "id": "ab5aea9e",
   "metadata": {},
   "outputs": [
    {
     "name": "stdout",
     "output_type": "stream",
     "text": [
      "shape: (4, 4)\n",
      "┌─────────┬────────────┬─────────┬────────────┐\n",
      "│ alumnos ┆ aritmetica ┆ quimica ┆ literatura │\n",
      "│ ---     ┆ ---        ┆ ---     ┆ ---        │\n",
      "│ str     ┆ i64        ┆ i64     ┆ i64        │\n",
      "╞═════════╪════════════╪═════════╪════════════╡\n",
      "│ Ivan    ┆ 14         ┆ 15      ┆ 14         │\n",
      "│ Ariana  ┆ 12         ┆ 13      ┆ 18         │\n",
      "│ Frank   ┆ 17         ┆ 18      ┆ 16         │\n",
      "│ Angie   ┆ 15         ┆ 14      ┆ 17         │\n",
      "└─────────┴────────────┴─────────┴────────────┘\n"
     ]
    }
   ],
   "source": [
    "#EJEMPLO 7\n",
    "EJ7 = pl.DataFrame({\n",
    "        \"alumnos\":[\"Ivan\",\"Ariana\",\"Frank\",\"Angie\"],\n",
    "        \"aritmetica\":[14,12,17,15],\n",
    "        \"quimica\":[15,13,18,14],\n",
    "        \"literatura\":[14,18,16,17],\n",
    "})\n",
    "print(EJ7)"
   ]
  },
  {
   "cell_type": "markdown",
   "id": "d9267ac3",
   "metadata": {},
   "source": [
    "## Calculos en filas  \n",
    "Las operaciones de lista se pueden realizar utilizando el espacio de nombres **pl.list**, que proporciona varias funciones útiles para trabajar con 'listas', como 'flatten', 'unique', 'slice', 'length', entre otras.\n",
    "También existe **concat_list** ."
   ]
  },
  {
   "cell_type": "code",
   "execution_count": 150,
   "id": "40af91fc",
   "metadata": {},
   "outputs": [
    {
     "name": "stdout",
     "output_type": "stream",
     "text": [
      "shape: (4, 1)\n",
      "┌────────────────┐\n",
      "│ calificaciones │\n",
      "│ ---            │\n",
      "│ list[i64]      │\n",
      "╞════════════════╡\n",
      "│ [14, 15, 14]   │\n",
      "│ [12, 13, 18]   │\n",
      "│ [17, 18, 16]   │\n",
      "│ [15, 14, 17]   │\n",
      "└────────────────┘\n"
     ]
    }
   ],
   "source": [
    "#se excluye la columna alumnos y se forma una columna llamada \"calificaciones\" \n",
    "#con las notas de los alumnos en listas\n",
    "\n",
    "listas =EJ7.select([pl.concat_list(pl.all().exclude(\"alumnos\"))\n",
    "                    .alias(\"calificaciones\")])\n",
    "print(listas)"
   ]
  },
  {
   "cell_type": "markdown",
   "id": "c5519b58",
   "metadata": {},
   "source": [
    "# <font color=\"#CD0000\">Funciones definidas por el usuario </font> \n"
   ]
  },
  {
   "cell_type": "code",
   "execution_count": 160,
   "id": "3bf61141",
   "metadata": {},
   "outputs": [
    {
     "name": "stdout",
     "output_type": "stream",
     "text": [
      "shape: (3, 2)\n",
      "┌──────┬────────┐\n",
      "│ keys ┆ values │\n",
      "│ ---  ┆ ---    │\n",
      "│ str  ┆ i64    │\n",
      "╞══════╪════════╡\n",
      "│ a    ┆ 14     │\n",
      "│ c    ┆ 25     │\n",
      "│ c    ┆ 36     │\n",
      "└──────┴────────┘\n"
     ]
    }
   ],
   "source": [
    "#Ejemplo 8\n",
    "EJ8 = pl.DataFrame({\n",
    "    \"keys\":[\"a\",\"c\",\"c\"],\n",
    "    \"values\":[14,25,36],\n",
    "})\n",
    "\n",
    "print(EJ8)"
   ]
  },
  {
   "cell_type": "code",
   "execution_count": 168,
   "id": "68a7a69f",
   "metadata": {},
   "outputs": [
    {
     "name": "stdout",
     "output_type": "stream",
     "text": [
      "shape: (2, 3)\n",
      "┌──────┬───────────┬──────────────────┐\n",
      "│ keys ┆ shift_map ┆ shift_expression │\n",
      "│ ---  ┆ ---       ┆ ---              │\n",
      "│ str  ┆ list[i64] ┆ list[i64]        │\n",
      "╞══════╪═══════════╪══════════════════╡\n",
      "│ a    ┆ [null]    ┆ [null]           │\n",
      "│ c    ┆ [14, 25]  ┆ [null, 25]       │\n",
      "└──────┴───────────┴──────────────────┘\n"
     ]
    }
   ],
   "source": [
    "#ejericio 1\n",
    "out1 = EJ8.groupby(\"keys\", maintain_order=True).agg(\n",
    "    [\n",
    "        pl.col(\"values\").map(lambda s: s.shift()).alias(\"shift_map\"),\n",
    "        pl.col(\"values\").shift().alias(\"shift_expression\"),\n",
    "    ]\n",
    ")\n",
    "print(out1)"
   ]
  },
  {
   "cell_type": "markdown",
   "id": "b8e77729",
   "metadata": {},
   "source": [
    "Se puede comprobar que los resultados en el ejercicio 1 no son los correctos ya que c tiene valores de a.\n",
    "Ahora se arreglara el ejercicio 1."
   ]
  },
  {
   "cell_type": "code",
   "execution_count": 169,
   "id": "960414df",
   "metadata": {},
   "outputs": [
    {
     "name": "stdout",
     "output_type": "stream",
     "text": [
      "shape: (2, 3)\n",
      "┌──────┬────────────┬──────────────────┐\n",
      "│ keys ┆ shift_map  ┆ shift_expression │\n",
      "│ ---  ┆ ---        ┆ ---              │\n",
      "│ str  ┆ list[i64]  ┆ list[i64]        │\n",
      "╞══════╪════════════╪══════════════════╡\n",
      "│ a    ┆ [null]     ┆ [null]           │\n",
      "│ c    ┆ [null, 25] ┆ [null, 25]       │\n",
      "└──────┴────────────┴──────────────────┘\n"
     ]
    }
   ],
   "source": [
    "out2 = EJ8.groupby(\"keys\", maintain_order=True).agg(\n",
    "    [\n",
    "        pl.col(\"values\").apply(lambda s: s.shift()).alias(\"shift_map\"),\n",
    "        pl.col(\"values\").shift().alias(\"shift_expression\"),\n",
    "    ]\n",
    ")\n",
    "print(out2)"
   ]
  },
  {
   "cell_type": "markdown",
   "id": "615203ed",
   "metadata": {},
   "source": [
    "# <font color=\"#CD0000\">Numpy </font>  \n",
    "Polars admite alguna funciones *Numpy* ."
   ]
  },
  {
   "cell_type": "code",
   "execution_count": 164,
   "id": "7f7ef1a3",
   "metadata": {},
   "outputs": [
    {
     "name": "stdout",
     "output_type": "stream",
     "text": [
      "shape: (150, 4)\n",
      "┌─────────────────┬────────────────┬─────────────────┬────────────────┐\n",
      "│ sepallength_log ┆ sepalwidth_log ┆ petallength_log ┆ petalwidth_log │\n",
      "│ ---             ┆ ---            ┆ ---             ┆ ---            │\n",
      "│ f64             ┆ f64            ┆ f64             ┆ f64            │\n",
      "╞═════════════════╪════════════════╪═════════════════╪════════════════╡\n",
      "│ 1.629241        ┆ 1.252763       ┆ 0.336472        ┆ -1.609438      │\n",
      "│ 1.589235        ┆ 1.098612       ┆ 0.336472        ┆ -1.609438      │\n",
      "│ 1.547563        ┆ 1.163151       ┆ 0.262364        ┆ -1.609438      │\n",
      "│ 1.526056        ┆ 1.131402       ┆ 0.405465        ┆ -1.609438      │\n",
      "│ …               ┆ …              ┆ …               ┆ …              │\n",
      "│ 1.84055         ┆ 0.916291       ┆ 1.609438        ┆ 0.641854       │\n",
      "│ 1.871802        ┆ 1.098612       ┆ 1.648659        ┆ 0.693147       │\n",
      "│ 1.824549        ┆ 1.223775       ┆ 1.686399        ┆ 0.832909       │\n",
      "│ 1.774952        ┆ 1.098612       ┆ 1.629241        ┆ 0.587787       │\n",
      "└─────────────────┴────────────────┴─────────────────┴────────────────┘\n"
     ]
    }
   ],
   "source": [
    "import numpy as np  \n",
    "#Excluimos la columna 'class' por no tener datos numericos\n",
    "df_sinclass = df.select([\n",
    "    pl.exclude(\"class\")])#usando numpy\n",
    "  \n",
    "#Ahora todas las otras columnas son reemplazadas por sus logaritmos\n",
    "df_su = df_sinclass.select( [\n",
    "        np.log(pl.all()).suffix(\"_log\"),])#usando polars\n",
    "\n",
    "print(df_su)"
   ]
  },
  {
   "cell_type": "markdown",
   "id": "e8fa2e8d",
   "metadata": {},
   "source": [
    "### OTRAS FUNCIONES NUMPY EN POLARS \n",
    "**np.exp()**: Esta función devuelve el exponencial de un número. Es decir, eleva el número a la constante matemática e, que es aproximadamente 2.718.\n"
   ]
  },
  {
   "cell_type": "code",
   "execution_count": 170,
   "id": "0e85784a",
   "metadata": {},
   "outputs": [
    {
     "name": "stdout",
     "output_type": "stream",
     "text": [
      "shape: (150, 1)\n",
      "┌────────────┐\n",
      "│ exp        │\n",
      "│ ---        │\n",
      "│ f64        │\n",
      "╞════════════╡\n",
      "│ 164.021907 │\n",
      "│ 134.28978  │\n",
      "│ 109.947172 │\n",
      "│ 99.484316  │\n",
      "│ …          │\n",
      "│ 544.57191  │\n",
      "│ 665.141633 │\n",
      "│ 492.749041 │\n",
      "│ 365.037468 │\n",
      "└────────────┘\n"
     ]
    }
   ],
   "source": [
    "# Aplicar función np.exp() a la columna \"sepallength\"\n",
    "out3 = df.select(pl.col(\"sepallength\").apply(lambda x: np.exp(x)).alias(\"exp\"))\n",
    "\n",
    "print(out3)\n"
   ]
  },
  {
   "cell_type": "markdown",
   "id": "d05eb1a3",
   "metadata": {},
   "source": [
    "**np.cos()**: Esta función devuelve el coseno de un número. El coseno es una función trigonométrica que devuelve el cociente de la longitud del cateto adyacente y la hipotenusa de un triángulo rectángulo."
   ]
  },
  {
   "cell_type": "code",
   "execution_count": 171,
   "id": "ea32214b",
   "metadata": {},
   "outputs": [
    {
     "name": "stdout",
     "output_type": "stream",
     "text": [
      "shape: (150, 1)\n",
      "┌───────────┐\n",
      "│ cos       │\n",
      "│ ---       │\n",
      "│ f64       │\n",
      "╞═══════════╡\n",
      "│ 0.377978  │\n",
      "│ 0.186512  │\n",
      "│ -0.012389 │\n",
      "│ -0.112153 │\n",
      "│ …         │\n",
      "│ 0.999859  │\n",
      "│ 0.976588  │\n",
      "│ 0.996542  │\n",
      "│ 0.927478  │\n",
      "└───────────┘\n"
     ]
    }
   ],
   "source": [
    "# Aplicar función np.cos() a la columna \"sepal_length\"\n",
    "out4 = df.select(pl.col(\"sepallength\").apply(lambda x: np.cos(x)).alias(\"cos\"))\n",
    "\n",
    "print(out4)"
   ]
  },
  {
   "cell_type": "code",
   "execution_count": null,
   "id": "95b4c8b2",
   "metadata": {},
   "outputs": [],
   "source": []
  }
 ],
 "metadata": {
  "kernelspec": {
   "display_name": "Python 3 (ipykernel)",
   "language": "python",
   "name": "python3"
  },
  "language_info": {
   "codemirror_mode": {
    "name": "ipython",
    "version": 3
   },
   "file_extension": ".py",
   "mimetype": "text/x-python",
   "name": "python",
   "nbconvert_exporter": "python",
   "pygments_lexer": "ipython3",
   "version": "3.9.13"
  }
 },
 "nbformat": 4,
 "nbformat_minor": 5
}
