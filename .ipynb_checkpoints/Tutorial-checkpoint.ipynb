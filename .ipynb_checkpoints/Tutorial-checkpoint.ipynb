{
 "cells": [
  {
   "cell_type": "markdown",
   "id": "e952bff2",
   "metadata": {},
   "source": [
    "# Introducción\n",
    "\n",
    "Polars es una biblioteca de análisis de datos de alto rendimiento y fácil de usar en Python. A diferencia de Pandas, Polars cuenta con un diseño y arquitectura optimizada para el procesamiento de grandes conjuntos de datos.\n",
    "\n",
    "Polars se basa en Rust, un lenguaje de programación que se enfoca en la seguridad, la eficiencia y la concurrencia.Polars utiliza la librería Apache Arrow para trabajar con datos en memoria, lo que permite una transferencia de datos más rápida entre diferentes procesos y un mejor acceso a los datos. Arrow también utiliza un formato de datos columnar, que es más eficiente para muchas operaciones de manipulación de datos que el formato de fila utilizado por Pandas.   \n",
    "\n",
    "<img src= \"https://raw.githubusercontent.com/pola-rs/polars-static/master/logos/polars_github_logo_rect_dark_name.svg\" alt=\"nombre de la imagen\" width=\"680\" height=\"300\">   \n",
    "\n",
    "\n",
    "### Características:\n",
    "- Utiliza todos los núcleos disponibles .\n",
    "- Maneja de conjuntos de datos extensos.\n",
    "- Tiene una API que es consistente y predecible.\n",
    "- Tiene un esquema estricto .\n",
    "\n",
    "### Objetivos:\n",
    "- Reduce las copias redundantes. \n",
    "- Atraviese la caché de memoria de manera eficiente. \n",
    "- Minimiza la contención en el paralelismo.\n",
    "- Cumple con un procesamiento de datos de código abierto.\n",
    "- Reutiliza las asignaciones de memoria. \n",
    "- Ofrece herramientas para el análisis y la visualización de datos.\n"
   ]
  },
  {
   "cell_type": "markdown",
   "id": "8d80af5b",
   "metadata": {},
   "source": [
    "### <font color=\"#2F4F4F\">Video introductorio a Polars</font>"
   ]
  },
  {
   "cell_type": "code",
   "execution_count": 1,
   "id": "7dc63119",
   "metadata": {},
   "outputs": [
    {
     "data": {
      "image/jpeg": "[encoded data removed]",
      "text/html": [
       "\n",
       "        <iframe\n",
       "            width=\"400\"\n",
       "            height=\"300\"\n",
       "            src=\"https://www.youtube.com/embed/CByx7XjYMhw\"\n",
       "            frameborder=\"0\"\n",
       "            allowfullscreen\n",
       "            \n",
       "        ></iframe>\n",
       "        "
      ],
      "text/plain": [
       "<IPython.lib.display.YouTubeVideo at 0x17d89b29f10>"
      ]
     },
     "metadata": {},
     "output_type": "display_data"
    }
   ],
   "source": [
    "from IPython.display import YouTubeVideo\n",
    "\n",
    "# crea una instancia de YouTubeVideo\n",
    "video = YouTubeVideo('CByx7XjYMhw')\n",
    "\n",
    "# muestra el video en una celda de Markdown\n",
    "display(video)"
   ]
  },
  {
   "cell_type": "markdown",
   "id": "72840804",
   "metadata": {},
   "source": [
    "# Instalación  \n",
    "\n",
    "## Pasos para una instalación correcta de Polars.  \n",
    "\n",
    "1. Abrir en una terminal o línea de comandos y ejecutar el siguiente comando para instalar Polars y sus dependencias:   \n",
    "--------------------------------- \n",
    "```python\n",
    "pip install polars\n",
    "``` \n",
    "---------------------------------\n",
    "2. Luego, inicia Jupyter Notebook ejecutando el siguiente comando en la misma terminal:  \n",
    "--------------------------------------- \n",
    "```python\n",
    "jupyter notebook\n",
    "```  \n",
    "--------------------------------------- \n",
    "3. Crea un nuevo notebook y comienza a importar las librerías necesarias para trabajar con Polars:  \n",
    "--------------------------------------- \n",
    "```python\n",
    "import polars as pl\n",
    "```   \n",
    "--------------------------------------- \n",
    "4. Ahora puede comenzar a utilizar Polars en su notebook.   \n",
    "\n",
    "## Indicadores de características.    \n",
    "Siguiendo los pasos mostrados se instala el núcleo de Polars en el sistema. Sin embargo, es posible que también se necesite instalar las dependencias opcionales.Con esto se busca reducir líneas de código, dependiendo del lenguaje de programación que se desee emplear.\n",
    "\n",
    "### Python  \n",
    "\n",
    "<img src= \"https://logos-world.net/wp-content/uploads/2021/10/Python-Symbol.png\"  width=\"350\" height=\"300\">\n",
    "\n",
    "**Código en Python**\n",
    "~~~\n",
    "pip install polars[numpy, fsspec] \n",
    "~~~  \n",
    "\n",
    "\n",
    "\n",
    "| Etiqueta     |  Descripción                                                                    |\n",
    "|:------------:|:-------------------------------------------------------------------------------:|\n",
    "| all          | Método para evaluar determinadas condiciones                                    |\n",
    "| pandas       | Convierte datos desde Pandas Dataframes/Series                                  |\n",
    "| numpy        | Convierte datos hacia y desde matrices numpy                                    |\n",
    "| pyarrow      | Lee formatos de datos usando PyArrow                                            |\n",
    "| fsspec       | Compatibilidad con la lectura de sistemas de archivos remotos                   |\n",
    "| connectorx   | Soporte para leer desde bases de datos SQL                                      |\n",
    "| xlsx2csv     | Soporte para leer desde archivos de Excel                                       |\n",
    "| deltalake    | Soporte para lectura de Delta Lake Tables                                       |\n",
    "| timezone     | Soporte de zona horaria                                                         |\n",
    "\n",
    "  \n",
    "### Rust  \n",
    "\n",
    "<img src= \"https://upload.wikimedia.org/wikipedia/commons/thumb/d/d5/Rust_programming_language_black_logo.svg/144px-Rust_programming_language_black_logo.svg.png\" alt=\"nombre de la imagen\" width=\"180\" height=\"300\">\n",
    "\n",
    "**Código en Rust**\n",
    "~~~  \n",
    "[dependencies]\n",
    "polars = { version = \"0.26.1\", features = [\"lazy\",\"temporal\",\"describe\",\"json\",\"parquet\",\"dtype-datetime\"]}\n",
    "~~~\n",
    "Características de suscripción:\n",
    "  - **Tipos de datos adicionales**\n",
    "  \n",
    "    - dtype-date\n",
    "    - dtype-datetime\n",
    "    - dtype-time\n",
    "    - dtype-duration\n",
    "    - dtype-i8\n",
    "    - dtype-i16\n",
    "    - dtype-u8\n",
    "    - dtype-u16\n",
    "    - dtype-categorical\n",
    "    - dtype-struct \n",
    "   \n",
    "  \n",
    "  - ***performant:***Eficiente procesamiento de grandes datos.\n",
    "  - ***lazy:***Evaluación de expresiones postergadas.\n",
    "  - ***sql:***Soporte de consultas SQL en Polars.\n",
    "  - ***streaming:***Procesamiento de datos en tiempo real en Polars.\n",
    "  - ***random:***Generación de datos aleatorios eficiente.\n",
    "  - **Relacionado con el rendimiento:**\n",
    "     - nightly\n",
    "     - performant\n",
    "  - **Relacionado con OI:**\n",
    "      - serde\n",
    "      - decompress\n",
    "  - **DataFrame operaciones:**  \n",
    "      - dynamic_groupby\n",
    "      - cross_join\n",
    "      - partition_by\n",
    "  - **Series/ Expressionoperaciones:** \n",
    "      - repeat_by\n",
    "      - mode\n",
    "      - rank\n",
    "    "
   ]
  },
  {
   "cell_type": "markdown",
   "id": "6b7624f1",
   "metadata": {},
   "source": [
    "# Conceptos   \n",
    "\n",
    "# <font color=\"#CD0000\">Tipos de Datos </font> \n",
    "Debido a que Polars se basa en **Arrows** hace que sea eficiente en caché y esté sea respaldado para la comunicación entre procesos. La mayoría de los tipos de datos siguen la implementación exacta de Arrow, con la excepción de Utf8, Categoricaly Object.  \n",
    "\n",
    "**Algunos ejemplos de tipos de datos:**\n",
    "\n",
    "| Grupo    | Tipo         | Detalles                                                                             |\n",
    "|----------|--------------|:------------------------------------------------------------------------------------:|\n",
    "| **Numérico** | Int8         | Entero con signo de 8 bits.                                                          |\n",
    "|          | Int16        | Entero con signo de 16 bits.                                                         |\n",
    "|          | Int32        | Entero con signo de 32 bits.                                                         |\n",
    "|          | Int64        | Entero con signo de 64 bits.                                                         |\n",
    "|          | UInt8        | Entero sin signo de 8 bits.                                                          |\n",
    "|          | UInt16       | Entero sin signo de 16 bits.                                                         |\n",
    "|          | UInt32       | Entero sin signo de 32 bits.                                                         |\n",
    "|          | UInt64       | Entero sin signo de 64 bits.                                                         |\n",
    "|          | Float32      | Punto flotante de 32 bits.                                                           |\n",
    "|          | Float64      | Punto flotante de 64 bits.                                                           |\n",
    "| **Anidado** | Struct       | Estructura de matriz que junta valores múltiples en una sola columna.    |\n",
    "| **Temporal** | Date         | Representación de fecha.      |\n",
    "| **Otro**     | Boolean      | Tipo booleano efectivamente empaquetado en bits.                                     |\n",
    "|          | Utf8         | Cadena de datos .                   |\n",
    "|          | Binary       | Almacenar datos como bytes.                                                          |\n",
    "|          | Categorical | Una codificación categórica de un conjunto de cadenas.                                |   \n"
   ]
  },
  {
   "cell_type": "markdown",
   "id": "09ec0ce4",
   "metadata": {},
   "source": [
    "# <font color=\"#CD0000\">Estructura de Datos </font>   \n",
    "Las estructuras de datos de la base central proporcionadas por Polars son *Series* y *DataFrames*.\n",
    "\n",
    "## Series  \n",
    "Las *Series* tienen tipos de datos específicos y unidimensionales, como enteros, flotantes, cadenas, fechas y horas, pueden contener valores faltantes. "
   ]
  },
  {
   "cell_type": "code",
   "execution_count": 2,
   "id": "9c8a5327",
   "metadata": {},
   "outputs": [
    {
     "name": "stdout",
     "output_type": "stream",
     "text": [
      "shape: (5,)\n",
      "Series: 'longitud_sepalo' [f64]\n",
      "[\n",
      "\t5.1\n",
      "\t4.9\n",
      "\t4.7\n",
      "\t4.6\n",
      "\t5.0\n",
      "]\n"
     ]
    }
   ],
   "source": [
    "import polars as pl\n",
    "s = pl.Series(\"longitud_sepalo\",[5.1, 4.9, 4.7, 4.6, 5.0])#los 5 primeros datos de iris.csv(longitud_sepalo)\n",
    "print(s)"
   ]
  },
  {
   "cell_type": "markdown",
   "id": "fba9811f",
   "metadata": {},
   "source": [
    "## DataFrame  \n",
    "Es una estructura de datos bidimensional respaldada por Series, está compuesto por filas y columnas, donde cada columna es una serie y las filas contienen datos que pertenecen a cada serie.\n",
    "\n",
    "**pl.read_csv()**  \n",
    "Esta función de polars en Python se usa para leer un archivo CSV(valores separados por coma) y convertirlo en un dataframe de polars."
   ]
  },
  {
   "cell_type": "code",
   "execution_count": 3,
   "id": "61e2fcc0",
   "metadata": {},
   "outputs": [
    {
     "name": "stdout",
     "output_type": "stream",
     "text": [
      "shape: (150, 5)\n",
      "┌─────────────┬────────────┬─────────────┬────────────┬────────────────┐\n",
      "│ sepallength ┆ sepalwidth ┆ petallength ┆ petalwidth ┆ class          │\n",
      "│ ---         ┆ ---        ┆ ---         ┆ ---        ┆ ---            │\n",
      "│ f64         ┆ f64        ┆ f64         ┆ f64        ┆ str            │\n",
      "╞═════════════╪════════════╪═════════════╪════════════╪════════════════╡\n",
      "│ 5.1         ┆ 3.5        ┆ 1.4         ┆ 0.2        ┆ Iris-setosa    │\n",
      "│ 4.9         ┆ 3.0        ┆ 1.4         ┆ 0.2        ┆ Iris-setosa    │\n",
      "│ 4.7         ┆ 3.2        ┆ 1.3         ┆ 0.2        ┆ Iris-setosa    │\n",
      "│ 4.6         ┆ 3.1        ┆ 1.5         ┆ 0.2        ┆ Iris-setosa    │\n",
      "│ …           ┆ …          ┆ …           ┆ …          ┆ …              │\n",
      "│ 6.3         ┆ 2.5        ┆ 5.0         ┆ 1.9        ┆ Iris-virginica │\n",
      "│ 6.5         ┆ 3.0        ┆ 5.2         ┆ 2.0        ┆ Iris-virginica │\n",
      "│ 6.2         ┆ 3.4        ┆ 5.4         ┆ 2.3        ┆ Iris-virginica │\n",
      "│ 5.9         ┆ 3.0        ┆ 5.1         ┆ 1.8        ┆ Iris-virginica │\n",
      "└─────────────┴────────────┴─────────────┴────────────┴────────────────┘\n"
     ]
    }
   ],
   "source": [
    "df = pl.read_csv(\"iris.csv\")\n",
    "print(df)"
   ]
  },
  {
   "cell_type": "markdown",
   "id": "359e6f2c",
   "metadata": {},
   "source": [
    "- <font size = 4.8> **Head** </font>  \n",
    "Es una función que se utiliza para obtener las primeras filas de un *DataFrame*. Por defecto, devuelve las primeras 5 filas, pero se puede especificar el número de filas que se desea obtener. "
   ]
  },
  {
   "cell_type": "code",
   "execution_count": 4,
   "id": "abf2eb95",
   "metadata": {},
   "outputs": [
    {
     "name": "stdout",
     "output_type": "stream",
     "text": [
      "shape: (3, 5)\n",
      "┌─────────────┬────────────┬─────────────┬────────────┬─────────────┐\n",
      "│ sepallength ┆ sepalwidth ┆ petallength ┆ petalwidth ┆ class       │\n",
      "│ ---         ┆ ---        ┆ ---         ┆ ---        ┆ ---         │\n",
      "│ f64         ┆ f64        ┆ f64         ┆ f64        ┆ str         │\n",
      "╞═════════════╪════════════╪═════════════╪════════════╪═════════════╡\n",
      "│ 5.1         ┆ 3.5        ┆ 1.4         ┆ 0.2        ┆ Iris-setosa │\n",
      "│ 4.9         ┆ 3.0        ┆ 1.4         ┆ 0.2        ┆ Iris-setosa │\n",
      "│ 4.7         ┆ 3.2        ┆ 1.3         ┆ 0.2        ┆ Iris-setosa │\n",
      "└─────────────┴────────────┴─────────────┴────────────┴─────────────┘\n"
     ]
    }
   ],
   "source": [
    "print(df.head(3))"
   ]
  },
  {
   "cell_type": "markdown",
   "id": "9ccb51fc",
   "metadata": {},
   "source": [
    "- <font size = 4.8> **Tail** </font>  \n",
    "Es una función que se utiliza para obtener las últimas filas de un *DataFrame*. Por defecto, muestra las últimas 5 filas, pero se puede especificar el número de filas que se desea ver."
   ]
  },
  {
   "cell_type": "code",
   "execution_count": 5,
   "id": "6057776f",
   "metadata": {},
   "outputs": [
    {
     "name": "stdout",
     "output_type": "stream",
     "text": [
      "shape: (3, 5)\n",
      "┌─────────────┬────────────┬─────────────┬────────────┬────────────────┐\n",
      "│ sepallength ┆ sepalwidth ┆ petallength ┆ petalwidth ┆ class          │\n",
      "│ ---         ┆ ---        ┆ ---         ┆ ---        ┆ ---            │\n",
      "│ f64         ┆ f64        ┆ f64         ┆ f64        ┆ str            │\n",
      "╞═════════════╪════════════╪═════════════╪════════════╪════════════════╡\n",
      "│ 6.5         ┆ 3.0        ┆ 5.2         ┆ 2.0        ┆ Iris-virginica │\n",
      "│ 6.2         ┆ 3.4        ┆ 5.4         ┆ 2.3        ┆ Iris-virginica │\n",
      "│ 5.9         ┆ 3.0        ┆ 5.1         ┆ 1.8        ┆ Iris-virginica │\n",
      "└─────────────┴────────────┴─────────────┴────────────┴────────────────┘\n"
     ]
    }
   ],
   "source": [
    "print(df.tail(3))"
   ]
  },
  {
   "cell_type": "markdown",
   "id": "e6fec93a",
   "metadata": {},
   "source": [
    "- <font size = 4.8> **Sample** </font>    \n",
    "Permite tomar una muestra aleatoria de filas de un *DataFrame*.  "
   ]
  },
  {
   "cell_type": "code",
   "execution_count": 6,
   "id": "c544ae0c",
   "metadata": {},
   "outputs": [
    {
     "name": "stdout",
     "output_type": "stream",
     "text": [
      "shape: (2, 5)\n",
      "┌─────────────┬────────────┬─────────────┬────────────┬────────────────┐\n",
      "│ sepallength ┆ sepalwidth ┆ petallength ┆ petalwidth ┆ class          │\n",
      "│ ---         ┆ ---        ┆ ---         ┆ ---        ┆ ---            │\n",
      "│ f64         ┆ f64        ┆ f64         ┆ f64        ┆ str            │\n",
      "╞═════════════╪════════════╪═════════════╪════════════╪════════════════╡\n",
      "│ 4.6         ┆ 3.4        ┆ 1.4         ┆ 0.3        ┆ Iris-setosa    │\n",
      "│ 6.8         ┆ 3.2        ┆ 5.9         ┆ 2.3        ┆ Iris-virginica │\n",
      "└─────────────┴────────────┴─────────────┴────────────┴────────────────┘\n"
     ]
    }
   ],
   "source": [
    "print(df.sample(2))"
   ]
  },
  {
   "cell_type": "markdown",
   "id": "948d216d",
   "metadata": {},
   "source": [
    "- <font size = 4.8> **Describe** </font>  \n",
    "Proporciona estadísticas descriptivas para todas las columnas numéricas de un *DataFrame*, como la media, la desviación estándar, el mínimo y el máximo. También proporciona el número de valores no nulos en cada columna."
   ]
  },
  {
   "cell_type": "code",
   "execution_count": 7,
   "id": "fc64d7ed",
   "metadata": {},
   "outputs": [
    {
     "name": "stdout",
     "output_type": "stream",
     "text": [
      "shape: (9, 6)\n",
      "┌────────────┬─────────────┬────────────┬─────────────┬────────────┬────────────────┐\n",
      "│ describe   ┆ sepallength ┆ sepalwidth ┆ petallength ┆ petalwidth ┆ class          │\n",
      "│ ---        ┆ ---         ┆ ---        ┆ ---         ┆ ---        ┆ ---            │\n",
      "│ str        ┆ f64         ┆ f64        ┆ f64         ┆ f64        ┆ str            │\n",
      "╞════════════╪═════════════╪════════════╪═════════════╪════════════╪════════════════╡\n",
      "│ count      ┆ 150.0       ┆ 150.0      ┆ 150.0       ┆ 150.0      ┆ 150            │\n",
      "│ null_count ┆ 0.0         ┆ 0.0        ┆ 0.0         ┆ 0.0        ┆ 0              │\n",
      "│ mean       ┆ 5.843333    ┆ 3.054      ┆ 3.758667    ┆ 1.198667   ┆ null           │\n",
      "│ std        ┆ 0.828066    ┆ 0.433594   ┆ 1.76442     ┆ 0.763161   ┆ null           │\n",
      "│ min        ┆ 4.3         ┆ 2.0        ┆ 1.0         ┆ 0.1        ┆ Iris-setosa    │\n",
      "│ max        ┆ 7.9         ┆ 4.4        ┆ 6.9         ┆ 2.5        ┆ Iris-virginica │\n",
      "│ median     ┆ 5.8         ┆ 3.0        ┆ 4.35        ┆ 1.3        ┆ null           │\n",
      "│ 25%        ┆ 5.1         ┆ 2.8        ┆ 1.6         ┆ 0.3        ┆ null           │\n",
      "│ 75%        ┆ 6.4         ┆ 3.3        ┆ 5.1         ┆ 1.8        ┆ null           │\n",
      "└────────────┴─────────────┴────────────┴─────────────┴────────────┴────────────────┘\n"
     ]
    }
   ],
   "source": [
    "print(df.describe())"
   ]
  },
  {
   "cell_type": "markdown",
   "id": "546fda46",
   "metadata": {},
   "source": [
    "# <font color=\"#CD0000\">Contextos </font> \n",
    "Se refiere a la configuración y ajuste de los parámetros que afectan el rendimiento y el comportamiento de la biblioteca.En general, el contexto de Polars es una herramienta útil para optimizar el rendimiento y la eficiencia de las operaciones de procesamiento de datos.  \n"
   ]
  },
  {
   "cell_type": "markdown",
   "id": "dd6612ff",
   "metadata": {},
   "source": [
    "- <font size = 4.8> **Select** </font>   \n",
    "Se usa para seleccionar las variables de un *DataFrame*, en la cual se puede implemntar combinandola con otras funciones como **head()**, **sum()**,**mean()** y muchas otras funciones para obtener un mejor análisis de nuestros datos.  \n",
    "Se tiene en cuenta que una selección puede producir nuevas columnas que son agregaciones, combinaciones de expresiones o literales."
   ]
  },
  {
   "cell_type": "code",
   "execution_count": 8,
   "id": "a0f9d68f",
   "metadata": {},
   "outputs": [
    {
     "name": "stdout",
     "output_type": "stream",
     "text": [
      "shape: (1, 2)\n",
      "┌─────────────┬────────────┐\n",
      "│ petallength ┆ petalwidth │\n",
      "│ ---         ┆ ---        │\n",
      "│ f64         ┆ f64        │\n",
      "╞═════════════╪════════════╡\n",
      "│ 563.8       ┆ 179.8      │\n",
      "└─────────────┴────────────┘\n",
      "shape: (1, 8)\n",
      "┌──────────┬─────────┬───────┬─────┬─────┬───────────┬─────────┬──────────┐\n",
      "│ media    ┆ mediana ┆ sum   ┆ min ┆ max ┆ other_max ┆ std_dev ┆ varianza │\n",
      "│ ---      ┆ ---     ┆ ---   ┆ --- ┆ --- ┆ ---       ┆ ---     ┆ ---      │\n",
      "│ f64      ┆ f64     ┆ f64   ┆ f64 ┆ f64 ┆ f64       ┆ f64     ┆ f64      │\n",
      "╞══════════╪═════════╪═══════╪═════╪═════╪═══════════╪═════════╪══════════╡\n",
      "│ 3.758667 ┆ 4.35    ┆ 563.8 ┆ 1.0 ┆ 6.9 ┆ 6.9       ┆ 1.76442 ┆ 3.113179 │\n",
      "└──────────┴─────────┴───────┴─────┴─────┴───────────┴─────────┴──────────┘\n"
     ]
    }
   ],
   "source": [
    "print(df.select([pl.col([\"petallength\",\"petalwidth\"])]).sum())\n",
    "##\n",
    "longitud_petalo =  df.select([\n",
    "    pl.mean(\"petallength\").alias(\"media\"),\n",
    "    pl.median(\"petallength\").alias(\"mediana\"),\n",
    "    pl.sum(\"petallength\").alias(\"sum\"),\n",
    "    pl.min(\"petallength\").alias(\"min\"),\n",
    "    pl.max(\"petallength\").alias(\"max\"),\n",
    "    pl.col(\"petallength\").max().alias(\"other_max\"),\n",
    "    pl.std(\"petallength\").alias(\"std_dev\"),\n",
    "    pl.var(\"petallength\").alias(\"varianza\"),\n",
    "    \n",
    "])\n",
    "print(longitud_petalo)"
   ]
  },
  {
   "cell_type": "markdown",
   "id": "ca87ce92",
   "metadata": {},
   "source": [
    "De manera similar a *select* también existe **with_columns** que también es una entrada al contexto de selección. La principal diferencia es que **with_columns** conserva las columnas originales y agrega otras nuevas mientras selectelimina las columnas originales.\n"
   ]
  },
  {
   "cell_type": "code",
   "execution_count": 9,
   "id": "991935a0",
   "metadata": {},
   "outputs": [
    {
     "name": "stdout",
     "output_type": "stream",
     "text": [
      "shape: (150, 7)\n",
      "┌─────────────┬────────────┬─────────────┬────────────┬────────────────┬───────────────────┬────────┐\n",
      "│ sepallength ┆ sepalwidth ┆ petallength ┆ petalwidth ┆ class          ┆ suma_ancho_petalo ┆ contar │\n",
      "│ ---         ┆ ---        ┆ ---         ┆ ---        ┆ ---            ┆ ---               ┆ ---    │\n",
      "│ f64         ┆ f64        ┆ f64         ┆ f64        ┆ str            ┆ f64               ┆ u32    │\n",
      "╞═════════════╪════════════╪═════════════╪════════════╪════════════════╪═══════════════════╪════════╡\n",
      "│ 5.1         ┆ 3.5        ┆ 1.4         ┆ 0.2        ┆ Iris-setosa    ┆ 179.8             ┆ 150    │\n",
      "│ 4.9         ┆ 3.0        ┆ 1.4         ┆ 0.2        ┆ Iris-setosa    ┆ 179.8             ┆ 150    │\n",
      "│ 4.7         ┆ 3.2        ┆ 1.3         ┆ 0.2        ┆ Iris-setosa    ┆ 179.8             ┆ 150    │\n",
      "│ 4.6         ┆ 3.1        ┆ 1.5         ┆ 0.2        ┆ Iris-setosa    ┆ 179.8             ┆ 150    │\n",
      "│ …           ┆ …          ┆ …           ┆ …          ┆ …              ┆ …                 ┆ …      │\n",
      "│ 6.3         ┆ 2.5        ┆ 5.0         ┆ 1.9        ┆ Iris-virginica ┆ 179.8             ┆ 150    │\n",
      "│ 6.5         ┆ 3.0        ┆ 5.2         ┆ 2.0        ┆ Iris-virginica ┆ 179.8             ┆ 150    │\n",
      "│ 6.2         ┆ 3.4        ┆ 5.4         ┆ 2.3        ┆ Iris-virginica ┆ 179.8             ┆ 150    │\n",
      "│ 5.9         ┆ 3.0        ┆ 5.1         ┆ 1.8        ┆ Iris-virginica ┆ 179.8             ┆ 150    │\n",
      "└─────────────┴────────────┴─────────────┴────────────┴────────────────┴───────────────────┴────────┘\n"
     ]
    }
   ],
   "source": [
    "wc =df.with_columns([\n",
    "    pl.sum(\"petalwidth\").alias(\"suma_ancho_petalo\"),\n",
    "    pl.col(\"class\").count().alias(\"contar\"),\n",
    "])\n",
    "print(wc)"
   ]
  },
  {
   "cell_type": "markdown",
   "id": "84b485d6",
   "metadata": {},
   "source": [
    "- <font size = 4.8> **Filter** </font>  \n",
    "Se utiliza para filtrar las filas de un *DataFrame* según una condición determinada. Toma una función de filtro como argumento y devuelve un nuevo DataFrame que contiene solo las filas que cumplen la condición.  \n"
   ]
  },
  {
   "cell_type": "code",
   "execution_count": 10,
   "id": "91646f78",
   "metadata": {},
   "outputs": [
    {
     "name": "stdout",
     "output_type": "stream",
     "text": [
      "shape: (20, 5)\n",
      "┌─────────────┬────────────┬─────────────┬────────────┬─────────────┐\n",
      "│ sepallength ┆ sepalwidth ┆ petallength ┆ petalwidth ┆ class       │\n",
      "│ ---         ┆ ---        ┆ ---         ┆ ---        ┆ ---         │\n",
      "│ f64         ┆ f64        ┆ f64         ┆ f64        ┆ str         │\n",
      "╞═════════════╪════════════╪═════════════╪════════════╪═════════════╡\n",
      "│ 4.9         ┆ 3.0        ┆ 1.4         ┆ 0.2        ┆ Iris-setosa │\n",
      "│ 4.7         ┆ 3.2        ┆ 1.3         ┆ 0.2        ┆ Iris-setosa │\n",
      "│ 4.6         ┆ 3.1        ┆ 1.5         ┆ 0.2        ┆ Iris-setosa │\n",
      "│ 4.6         ┆ 3.4        ┆ 1.4         ┆ 0.3        ┆ Iris-setosa │\n",
      "│ …           ┆ …          ┆ …           ┆ …          ┆ …           │\n",
      "│ 4.5         ┆ 2.3        ┆ 1.3         ┆ 0.3        ┆ Iris-setosa │\n",
      "│ 4.4         ┆ 3.2        ┆ 1.3         ┆ 0.2        ┆ Iris-setosa │\n",
      "│ 4.8         ┆ 3.0        ┆ 1.4         ┆ 0.3        ┆ Iris-setosa │\n",
      "│ 4.6         ┆ 3.2        ┆ 1.4         ┆ 0.2        ┆ Iris-setosa │\n",
      "└─────────────┴────────────┴─────────────┴────────────┴─────────────┘\n"
     ]
    }
   ],
   "source": [
    "fil = df.filter(\n",
    "    (pl.col(\"sepallength\")<5)&(pl.col(\"class\")==\"Iris-setosa\")\n",
    ")\n",
    "print(fil)"
   ]
  },
  {
   "cell_type": "markdown",
   "id": "b47d4187",
   "metadata": {},
   "source": [
    "- <font size = 4.8> **Groupby / Aggregation** </font>  \n",
    "Se utiliza para agrupar fila de un *DataFrame* en función de una o varias columnas y realizar cálculos agregados en esas agrupaciones, pueden producir resultados de cualquier longitud.  "
   ]
  },
  {
   "cell_type": "code",
   "execution_count": 11,
   "id": "24c2ae33",
   "metadata": {},
   "outputs": [
    {
     "name": "stdout",
     "output_type": "stream",
     "text": [
      "shape: (3, 5)\n",
      "┌─────────────────┬─────────────┬────────────┬─────────────┬────────────┐\n",
      "│ class           ┆ sepallength ┆ sepalwidth ┆ petallength ┆ petalwidth │\n",
      "│ ---             ┆ ---         ┆ ---        ┆ ---         ┆ ---        │\n",
      "│ str             ┆ f64         ┆ f64        ┆ f64         ┆ f64        │\n",
      "╞═════════════════╪═════════════╪════════════╪═════════════╪════════════╡\n",
      "│ Iris-versicolor ┆ 5.936       ┆ 2.77       ┆ 4.26        ┆ 1.326      │\n",
      "│ Iris-virginica  ┆ 6.588       ┆ 2.974      ┆ 5.552       ┆ 2.026      │\n",
      "│ Iris-setosa     ┆ 5.006       ┆ 3.418      ┆ 1.464       ┆ 0.244      │\n",
      "└─────────────────┴─────────────┴────────────┴─────────────┴────────────┘\n",
      "shape: (3, 5)\n",
      "┌─────────────────┬─────────────┬────────────┬─────────────┬────────────┐\n",
      "│ class           ┆ sepallength ┆ sepalwidth ┆ petallength ┆ petalwidth │\n",
      "│ ---             ┆ ---         ┆ ---        ┆ ---         ┆ ---        │\n",
      "│ str             ┆ f64         ┆ f64        ┆ f64         ┆ f64        │\n",
      "╞═════════════════╪═════════════╪════════════╪═════════════╪════════════╡\n",
      "│ Iris-virginica  ┆ 329.4       ┆ 148.7      ┆ 277.6       ┆ 101.3      │\n",
      "│ Iris-versicolor ┆ 296.8       ┆ 138.5      ┆ 213.0       ┆ 66.3       │\n",
      "│ Iris-setosa     ┆ 250.3       ┆ 170.9      ┆ 73.2        ┆ 12.2       │\n",
      "└─────────────────┴─────────────┴────────────┴─────────────┴────────────┘\n",
      "shape: (3, 5)\n",
      "┌─────────────────┬─────────────┬────────────┬─────────────┬────────────┐\n",
      "│ class           ┆ sepallength ┆ sepalwidth ┆ petallength ┆ petalwidth │\n",
      "│ ---             ┆ ---         ┆ ---        ┆ ---         ┆ ---        │\n",
      "│ str             ┆ f64         ┆ f64        ┆ f64         ┆ f64        │\n",
      "╞═════════════════╪═════════════╪════════════╪═════════════╪════════════╡\n",
      "│ Iris-virginica  ┆ 7.9         ┆ 3.8        ┆ 6.9         ┆ 2.5        │\n",
      "│ Iris-setosa     ┆ 5.8         ┆ 4.4        ┆ 1.9         ┆ 0.6        │\n",
      "│ Iris-versicolor ┆ 7.0         ┆ 3.4        ┆ 5.1         ┆ 1.8        │\n",
      "└─────────────────┴─────────────┴────────────┴─────────────┴────────────┘\n"
     ]
    }
   ],
   "source": [
    "group1 = df.groupby('class')\n",
    "print(group1.mean())\n",
    "\n",
    "group2 = df.groupby('class')\n",
    "print(group2.sum())\n",
    "\n",
    "group3 = df.groupby('class')\n",
    "print(group3.max())"
   ]
  },
  {
   "cell_type": "markdown",
   "id": "3ddae17a",
   "metadata": {},
   "source": [
    "# <font color=\"#CD0000\">API </font>   \n",
    "\n",
    "## Lazy / Eager API   \n",
    "Se utiliza para operaciones de transformación de datos que se realizan en memoria y se ejecutan de forma sincrónica. Con esta API, las operaciones se realizan de manera perezosa (lazy) o ansiosa (eager). Las operaciones perezosas son aquellas que no se ejecutan inmediatamente y se retrasan hasta que sea necesario, mientras que las operaciones ansiosas se ejecutan inmediatamente y devuelven los resultados en el momento de la llamada.A pesar de eso,esperar a la ejecución hasta el último minuto puede tener importantes ventajas de rendimiento, por lo que se prefiere la **lazy API** en la mayoría de los casos.\n",
    "\n",
    "### Eager\n",
    "En este ejemplo, usaremos **eager API** para:\n",
    "- Leer el conjunto de datos iris .\n",
    "- Filtrar el conjunto de datos según la longitud del sépalo.\n",
    "- Calcular la media del ancho del sépalo por especie .\n",
    "\n",
    "Cada paso se ejecuta inmediatamente devolviendo los resultados intermedios. Esto puede ser muy derrochador, ya que podríamos trabajar o cargar datos adicionales que no se están utilizando. Si, en cambio, usamos la **lazy API**y esperamos la ejecución hasta que se definan todos los pasos, entonces el planificador de consultas podría realizar varias optimizaciones."
   ]
  },
  {
   "cell_type": "code",
   "execution_count": 12,
   "id": "9e1f284d",
   "metadata": {},
   "outputs": [
    {
     "name": "stdout",
     "output_type": "stream",
     "text": [
      "shape: (3, 2)\n",
      "┌─────────────────┬────────────┐\n",
      "│ class           ┆ sepalwidth │\n",
      "│ ---             ┆ ---        │\n",
      "│ str             ┆ f64        │\n",
      "╞═════════════════╪════════════╡\n",
      "│ Iris-setosa     ┆ 3.713636   │\n",
      "│ Iris-virginica  ┆ 2.983673   │\n",
      "│ Iris-versicolor ┆ 2.804255   │\n",
      "└─────────────────┴────────────┘\n"
     ]
    }
   ],
   "source": [
    "df_small = df.filter(pl.col(\"sepallength\") > 5)\n",
    "df_agg = df_small.groupby(\"class\").agg(pl.col(\"sepalwidth\").mean())\n",
    "print(df_agg)"
   ]
  },
  {
   "cell_type": "markdown",
   "id": "a5996890",
   "metadata": {},
   "source": [
    "### Lazy  \n",
    "En este caso:\n",
    "\n",
    "- Empuje de predicado: aplica filtros lo antes posible mientras lee el conjunto de datos, por lo tanto, solo lee filas con una longitud de sépalo superior a 5.\n",
    "- Desplazamiento de proyección: selecciona solo las columnas que se necesitan mientras lee el conjunto de datos, eliminando así la necesidad de cargar columnas adicionales (por ejemplo, longitud de pétalo y ancho de pétalo).   \n",
    "\n",
    "Estos reducira significativamente la carga en la memoria , lo que le permitirá colocar conjuntos de datos más grandes en la memoria y procesarlos más rápido."
   ]
  },
  {
   "cell_type": "code",
   "execution_count": 14,
   "id": "6721dfeb",
   "metadata": {},
   "outputs": [
    {
     "name": "stdout",
     "output_type": "stream",
     "text": [
      "shape: (3, 2)\n",
      "┌─────────────────┬────────────┐\n",
      "│ class           ┆ sepalwidth │\n",
      "│ ---             ┆ ---        │\n",
      "│ str             ┆ f64        │\n",
      "╞═════════════════╪════════════╡\n",
      "│ Iris-virginica  ┆ 2.983673   │\n",
      "│ Iris-setosa     ┆ 3.713636   │\n",
      "│ Iris-versicolor ┆ 2.804255   │\n",
      "└─────────────────┴────────────┘\n"
     ]
    }
   ],
   "source": [
    "q1 = (\n",
    "    pl.scan_csv(\"iris.csv\")\n",
    "    .filter(pl.col(\"sepallength\") > 5)\n",
    "    .groupby(\"class\")\n",
    "    .agg(pl.col(\"sepalwidth\").mean())\n",
    ")\n",
    "\n",
    "df_lazy = q1.collect()#collect() informa a Polars que quiere ejecutarla\n",
    "print(df_lazy)"
   ]
  },
  {
   "cell_type": "markdown",
   "id": "912ef193",
   "metadata": {},
   "source": [
    "**¿Cómo saber cuál usar?**  \n",
    "En general, si los datos caben en la memoria, es posible que se pueda utilizar la **Eager API**. Si trabajas con grandes conjuntos de datos o se realiza operaciones complejas, es posible que se necesite utilizar la  **Lazy API**."
   ]
  },
  {
   "cell_type": "markdown",
   "id": "12b44a4b",
   "metadata": {},
   "source": [
    "## Streaming API   \n",
    "Se utiliza para operaciones que se realizan en un flujo continuo de datos. Esta API se basa en un modelo push, en el que los datos se transmiten de forma asincrónica a través de un flujo de datos. En lugar de procesar todos los datos de una vez, se procesan los datos en pequeños fragmentos a medida que se van recibiendo. Esto hace que la **streaming API** sea adecuada para el procesamiento de datos en tiempo real y para el manejo de grandes volúmenes de datos que no caben en memoria.  \n",
    "Para decirle a Polars que queremos ejecutar una consulta en modo streaming le pasamos el **streaming=True** argumento a collect."
   ]
  },
  {
   "cell_type": "code",
   "execution_count": 15,
   "id": "a2bffb16",
   "metadata": {},
   "outputs": [
    {
     "name": "stdout",
     "output_type": "stream",
     "text": [
      "shape: (3, 2)\n",
      "┌─────────────────┬────────────┐\n",
      "│ class           ┆ sepalwidth │\n",
      "│ ---             ┆ ---        │\n",
      "│ str             ┆ f64        │\n",
      "╞═════════════════╪════════════╡\n",
      "│ Iris-virginica  ┆ 2.983673   │\n",
      "│ Iris-versicolor ┆ 2.804255   │\n",
      "│ Iris-setosa     ┆ 3.713636   │\n",
      "└─────────────────┴────────────┘\n"
     ]
    }
   ],
   "source": [
    "q2 = (\n",
    "    pl.scan_csv(\"iris.csv\")\n",
    "    .filter(pl.col(\"sepallength\") > 5)\n",
    "    .groupby(\"class\")\n",
    "    .agg(pl.col(\"sepalwidth\").mean())\n",
    ")\n",
    "\n",
    "df_streaming = q2.collect(streaming=True)\n",
    "print(df_streaming)"
   ]
  },
  {
   "cell_type": "markdown",
   "id": "77b2b23d",
   "metadata": {},
   "source": [
    "# Expresiones  \n",
    "# <font color=\"#CD0000\">Operadores básicos   </font>  "
   ]
  },
  {
   "cell_type": "markdown",
   "id": "32cc8d31",
   "metadata": {},
   "source": [
    "## Numerical  "
   ]
  },
  {
   "cell_type": "code",
   "execution_count": 59,
   "id": "5e902071",
   "metadata": {},
   "outputs": [
    {
     "name": "stdout",
     "output_type": "stream",
     "text": [
      "shape: (150, 4)\n",
      "┌─────────────────┬─────────────────┬──────────────────────────┬──────────────────────────┐\n",
      "│ sepallength + 5 ┆ sepallength - 5 ┆ sepallength * sepalwidth ┆ sepallength / sepalwidth │\n",
      "│ ---             ┆ ---             ┆ ---                      ┆ ---                      │\n",
      "│ f64             ┆ f64             ┆ f64                      ┆ f64                      │\n",
      "╞═════════════════╪═════════════════╪══════════════════════════╪══════════════════════════╡\n",
      "│ 10.1            ┆ 0.1             ┆ 17.85                    ┆ 1.457143                 │\n",
      "│ 9.9             ┆ -0.1            ┆ 14.7                     ┆ 1.633333                 │\n",
      "│ 9.7             ┆ -0.3            ┆ 15.04                    ┆ 1.46875                  │\n",
      "│ 9.6             ┆ -0.4            ┆ 14.26                    ┆ 1.483871                 │\n",
      "│ …               ┆ …               ┆ …                        ┆ …                        │\n",
      "│ 11.3            ┆ 1.3             ┆ 15.75                    ┆ 2.52                     │\n",
      "│ 11.5            ┆ 1.5             ┆ 19.5                     ┆ 2.166667                 │\n",
      "│ 11.2            ┆ 1.2             ┆ 21.08                    ┆ 1.823529                 │\n",
      "│ 10.9            ┆ 0.9             ┆ 17.7                     ┆ 1.966667                 │\n",
      "└─────────────────┴─────────────────┴──────────────────────────┴──────────────────────────┘\n"
     ]
    }
   ],
   "source": [
    "df_numerical = df.select([\n",
    "    \n",
    "        (pl.col(\"sepallength\") + 5).alias(\"sepallength + 5\"), #longitud de sepalo +5\n",
    "        (pl.col(\"sepallength\") - 5).alias(\"sepallength - 5\"),#longitud de sepalo -5\n",
    "        (pl.col(\"sepallength\") * pl.col(\"sepalwidth\")).alias(\"sepallength * sepalwidth\"),#longitud por ancho del sepalo\n",
    "        (pl.col(\"sepallength\") / pl.col(\"sepalwidth\")).alias(\"sepallength / sepalwidth\"),#longitud entre el ancho del sepalo\n",
    "    ])\n",
    "\n",
    "print(df_numerical)"
   ]
  },
  {
   "cell_type": "markdown",
   "id": "9e07fa38",
   "metadata": {},
   "source": [
    "## Logical   \n",
    "Devuelve **true** o **false**."
   ]
  },
  {
   "cell_type": "code",
   "execution_count": 18,
   "id": "90a0efef",
   "metadata": {},
   "outputs": [
    {
     "name": "stdout",
     "output_type": "stream",
     "text": [
      "shape: (150, 5)\n",
      "┌──────────────────┬──────────────────┬──────────────────┬──────────┬─────────┐\n",
      "│ sepalwidth < 0.5 ┆ sepallength != 1 ┆ sepallength == 1 ┆ and_expr ┆ or_expr │\n",
      "│ ---              ┆ ---              ┆ ---              ┆ ---      ┆ ---     │\n",
      "│ bool             ┆ bool             ┆ bool             ┆ bool     ┆ bool    │\n",
      "╞══════════════════╪══════════════════╪══════════════════╪══════════╪═════════╡\n",
      "│ false            ┆ true             ┆ false            ┆ false    ┆ true    │\n",
      "│ false            ┆ true             ┆ false            ┆ false    ┆ true    │\n",
      "│ false            ┆ true             ┆ false            ┆ false    ┆ true    │\n",
      "│ false            ┆ true             ┆ false            ┆ false    ┆ true    │\n",
      "│ …                ┆ …                ┆ …                ┆ …        ┆ …       │\n",
      "│ false            ┆ true             ┆ false            ┆ false    ┆ true    │\n",
      "│ false            ┆ true             ┆ false            ┆ false    ┆ true    │\n",
      "│ false            ┆ true             ┆ false            ┆ false    ┆ true    │\n",
      "│ false            ┆ true             ┆ false            ┆ false    ┆ true    │\n",
      "└──────────────────┴──────────────────┴──────────────────┴──────────┴─────────┘\n"
     ]
    }
   ],
   "source": [
    "df_logical = df.select([\n",
    "    \n",
    "        (pl.col(\"sepalwidth\") <= 0.5).alias(\"sepalwidth < 0.5\"),\n",
    "        (pl.col(\"sepalwidth\") != 1).alias(\"sepallength != 1\"),\n",
    "        (pl.col(\"sepallength\") == 1).alias(\"sepallength == 1\"),\n",
    "        ((pl.col(\"sepalwidth\") <= 0.5) & (pl.col(\"sepallength\") > 1)).alias(\"and_expr\"),  # and\n",
    "        ((pl.col(\"sepalwidth\") <= 0.5) | (pl.col(\"sepallength\") > 1)).alias(\"or_expr\"),  # or\n",
    "    ])\n",
    "\n",
    "print(df_logical)"
   ]
  },
  {
   "cell_type": "markdown",
   "id": "a4e0ea97",
   "metadata": {},
   "source": [
    "# <font color=\"#CD0000\">Funciones </font> \n",
    "Las expresiones tienen una gran cantidad de funciones integradas, estos le permiten crear consultas complejas sin necesidad de funciones definidas por el usuario. "
   ]
  },
  {
   "cell_type": "markdown",
   "id": "7063e446",
   "metadata": {},
   "source": [
    "## Selección columna \n",
    "<font color=\"#474747\">**SELECCIONA TODAS LAS COLUMNAS**</font> \n"
   ]
  },
  {
   "cell_type": "code",
   "execution_count": 19,
   "id": "4fce6341",
   "metadata": {},
   "outputs": [
    {
     "name": "stdout",
     "output_type": "stream",
     "text": [
      "shape: (150, 5)\n",
      "┌─────────────┬────────────┬─────────────┬────────────┬────────────────┐\n",
      "│ sepallength ┆ sepalwidth ┆ petallength ┆ petalwidth ┆ class          │\n",
      "│ ---         ┆ ---        ┆ ---         ┆ ---        ┆ ---            │\n",
      "│ f64         ┆ f64        ┆ f64         ┆ f64        ┆ str            │\n",
      "╞═════════════╪════════════╪═════════════╪════════════╪════════════════╡\n",
      "│ 5.1         ┆ 3.5        ┆ 1.4         ┆ 0.2        ┆ Iris-setosa    │\n",
      "│ 4.9         ┆ 3.0        ┆ 1.4         ┆ 0.2        ┆ Iris-setosa    │\n",
      "│ 4.7         ┆ 3.2        ┆ 1.3         ┆ 0.2        ┆ Iris-setosa    │\n",
      "│ 4.6         ┆ 3.1        ┆ 1.5         ┆ 0.2        ┆ Iris-setosa    │\n",
      "│ …           ┆ …          ┆ …           ┆ …          ┆ …              │\n",
      "│ 6.3         ┆ 2.5        ┆ 5.0         ┆ 1.9        ┆ Iris-virginica │\n",
      "│ 6.5         ┆ 3.0        ┆ 5.2         ┆ 2.0        ┆ Iris-virginica │\n",
      "│ 6.2         ┆ 3.4        ┆ 5.4         ┆ 2.3        ┆ Iris-virginica │\n",
      "│ 5.9         ┆ 3.0        ┆ 5.1         ┆ 1.8        ┆ Iris-virginica │\n",
      "└─────────────┴────────────┴─────────────┴────────────┴────────────────┘\n"
     ]
    }
   ],
   "source": [
    "##all\n",
    "df_all = df.select([pl.col(\"*\")])\n",
    "\n",
    "##Es equivalente a\n",
    "df_all = df.select([pl.all()])\n",
    "print(df_all)"
   ]
  },
  {
   "cell_type": "markdown",
   "id": "e9d83e18",
   "metadata": {},
   "source": [
    "<font color=\"#474747\">**SELECCIONA TODAS LAS COLUMNAS EXCEPTO**</font> "
   ]
  },
  {
   "cell_type": "code",
   "execution_count": 60,
   "id": "c198bdbf",
   "metadata": {},
   "outputs": [
    {
     "name": "stdout",
     "output_type": "stream",
     "text": [
      "shape: (150, 4)\n",
      "┌─────────────┬────────────┬─────────────┬────────────┐\n",
      "│ sepallength ┆ sepalwidth ┆ petallength ┆ petalwidth │\n",
      "│ ---         ┆ ---        ┆ ---         ┆ ---        │\n",
      "│ f64         ┆ f64        ┆ f64         ┆ f64        │\n",
      "╞═════════════╪════════════╪═════════════╪════════════╡\n",
      "│ 5.1         ┆ 3.5        ┆ 1.4         ┆ 0.2        │\n",
      "│ 4.9         ┆ 3.0        ┆ 1.4         ┆ 0.2        │\n",
      "│ 4.7         ┆ 3.2        ┆ 1.3         ┆ 0.2        │\n",
      "│ 4.6         ┆ 3.1        ┆ 1.5         ┆ 0.2        │\n",
      "│ …           ┆ …          ┆ …           ┆ …          │\n",
      "│ 6.3         ┆ 2.5        ┆ 5.0         ┆ 1.9        │\n",
      "│ 6.5         ┆ 3.0        ┆ 5.2         ┆ 2.0        │\n",
      "│ 6.2         ┆ 3.4        ┆ 5.4         ┆ 2.3        │\n",
      "│ 5.9         ┆ 3.0        ┆ 5.1         ┆ 1.8        │\n",
      "└─────────────┴────────────┴─────────────┴────────────┘\n"
     ]
    }
   ],
   "source": [
    "##exclude  \n",
    "df_exclu = df.select([pl.exclude(\"class\")])#excluye la columna \"class\"\n",
    "print(df_exclu)"
   ]
  },
  {
   "cell_type": "markdown",
   "id": "12001008",
   "metadata": {},
   "source": [
    "## Nomenclatura de columnas   \n",
    "Renombra a las columnas en un *DataFrame* con **alias( )**. En Polars, los nombres de columna deben ser únicos y no pueden contener espacios ni caracteres especiales, excepto guiones bajos y puntos."
   ]
  },
  {
   "cell_type": "code",
   "execution_count": 21,
   "id": "597fbbe3",
   "metadata": {},
   "outputs": [
    {
     "name": "stdout",
     "output_type": "stream",
     "text": [
      "shape: (150, 2)\n",
      "┌────────────────┬────────────────┐\n",
      "│ sepalwidth + 5 ┆ sepalwidth - 5 │\n",
      "│ ---            ┆ ---            │\n",
      "│ f64            ┆ f64            │\n",
      "╞════════════════╪════════════════╡\n",
      "│ 8.5            ┆ -1.5           │\n",
      "│ 8.0            ┆ -2.0           │\n",
      "│ 8.2            ┆ -1.8           │\n",
      "│ 8.1            ┆ -1.9           │\n",
      "│ …              ┆ …              │\n",
      "│ 7.5            ┆ -2.5           │\n",
      "│ 8.0            ┆ -2.0           │\n",
      "│ 8.4            ┆ -1.6           │\n",
      "│ 8.0            ┆ -2.0           │\n",
      "└────────────────┴────────────────┘\n"
     ]
    }
   ],
   "source": [
    "## alias modifica el nombre de la columna\n",
    "df_alias = df.select(\n",
    "    [\n",
    "        (pl.col(\"sepalwidth\") + 5).alias(\"sepalwidth + 5\"),\n",
    "        (pl.col(\"sepalwidth\") - 5).alias(\"sepalwidth - 5\"),\n",
    "    ]\n",
    ")\n",
    "print(df_alias)"
   ]
  },
  {
   "cell_type": "markdown",
   "id": "5e4f197b",
   "metadata": {},
   "source": [
    "En caso de que se desee agregar un sufijo **(suffix( ))** o un prefijo **(prefix( ))**."
   ]
  },
  {
   "cell_type": "code",
   "execution_count": 22,
   "id": "0106ff3a",
   "metadata": {},
   "outputs": [
    {
     "name": "stdout",
     "output_type": "stream",
     "text": [
      "shape: (5, 2)\n",
      "┌────────────┬────────────────┐\n",
      "│ sepalwidth ┆ sepalwidth_sum │\n",
      "│ ---        ┆ ---            │\n",
      "│ f64        ┆ f64            │\n",
      "╞════════════╪════════════════╡\n",
      "│ 3.5        ┆ 458.1          │\n",
      "│ 3.0        ┆ 458.1          │\n",
      "│ 3.2        ┆ 458.1          │\n",
      "│ 3.1        ┆ 458.1          │\n",
      "│ 3.6        ┆ 458.1          │\n",
      "└────────────┴────────────────┘ shape: (5, 2)\n",
      "┌─────────────┬──────────────────┐\n",
      "│ sepallength ┆ mean_sepallength │\n",
      "│ ---         ┆ ---              │\n",
      "│ f64         ┆ f64              │\n",
      "╞═════════════╪══════════════════╡\n",
      "│ 5.1         ┆ 5.843333         │\n",
      "│ 4.9         ┆ 5.843333         │\n",
      "│ 4.7         ┆ 5.843333         │\n",
      "│ 4.6         ┆ 5.843333         │\n",
      "│ 5.0         ┆ 5.843333         │\n",
      "└─────────────┴──────────────────┘\n"
     ]
    }
   ],
   "source": [
    "#sufijo\n",
    "df_su =df.select([\n",
    "       pl.col(\"sepalwidth\"),\n",
    "        pl.col(\"sepalwidth\").sum().suffix(\"_sum\")]).head()\n",
    "\n",
    "#prefijo\n",
    "df_pref = df.select([\n",
    "          pl.col(\"sepallength\"),\n",
    "          pl.col(\"sepallength\").mean().prefix(\"mean_\")]).head()\n",
    "\n",
    "print(df_su,df_pref)"
   ]
  },
  {
   "cell_type": "markdown",
   "id": "17925ef3",
   "metadata": {},
   "source": [
    "## Contar valores únicos   \n",
    "Dos formas de contar valores únicos por aproximación **(aprox_unique( ))** o metodología exacta **(n_unique( ))** ."
   ]
  },
  {
   "cell_type": "code",
   "execution_count": 23,
   "id": "23aa5a11",
   "metadata": {},
   "outputs": [
    {
     "name": "stdout",
     "output_type": "stream",
     "text": [
      "shape: (1, 2)\n",
      "┌────────────────────┬─────────────────────┐\n",
      "│ unique_petallength ┆ unique_approx_clase │\n",
      "│ ---                ┆ ---                 │\n",
      "│ u32                ┆ u32                 │\n",
      "╞════════════════════╪═════════════════════╡\n",
      "│ 43                 ┆ 3                   │\n",
      "└────────────────────┴─────────────────────┘ shape: (1, 2)\n",
      "┌─────────────────┬───────┐\n",
      "│ longitud_petalo ┆ clase │\n",
      "│ ---             ┆ ---   │\n",
      "│ u32             ┆ u32   │\n",
      "╞═════════════════╪═══════╡\n",
      "│ 43              ┆ 3     │\n",
      "└─────────────────┴───────┘\n"
     ]
    }
   ],
   "source": [
    "#cuantos tipos de 'class' y 'petallength' existen\n",
    "##approx_unique( ) \n",
    "df_aprox = df.select([\n",
    "    \n",
    "        pl.approx_unique(\"petallength\").alias(\"unique_petallength\"),\n",
    "        pl.approx_unique(\"class\").alias(\"unique_approx_clase\"),  ])\n",
    "  \n",
    "\n",
    "\n",
    "##n_unique( ) \n",
    "df_uni = df.select([\n",
    "    pl.col(\"petallength\").n_unique().alias(\"longitud_petalo\"),\n",
    "    pl.col(\"class\").n_unique().alias(\"clase\"),])\n",
    "    \n",
    "print(df_aprox,df_uni)"
   ]
  },
  {
   "cell_type": "markdown",
   "id": "e337a170",
   "metadata": {},
   "source": [
    "## Condicionales  \n",
    "Polars admite condiciones similares a if en expresión con la sintaxis **when**, **then**, **otherwise**.    \n",
    "\n",
    "El predicado se coloca en **when** y cuando se evalúa como **true** se usa la expresión **then** y en **false** se usa **otherwise**."
   ]
  },
  {
   "cell_type": "code",
   "execution_count": 61,
   "id": "cb1c4000",
   "metadata": {},
   "outputs": [
    {
     "name": "stdout",
     "output_type": "stream",
     "text": [
      "shape: (150, 2)\n",
      "┌────────────┬─────────────┐\n",
      "│ sepalwidth ┆ conditional │\n",
      "│ ---        ┆ ---         │\n",
      "│ f64        ┆ bool        │\n",
      "╞════════════╪═════════════╡\n",
      "│ 3.5        ┆ true        │\n",
      "│ 3.0        ┆ false       │\n",
      "│ 3.2        ┆ true        │\n",
      "│ 3.1        ┆ false       │\n",
      "│ …          ┆ …           │\n",
      "│ 2.5        ┆ false       │\n",
      "│ 3.0        ┆ false       │\n",
      "│ 3.4        ┆ true        │\n",
      "│ 3.0        ┆ false       │\n",
      "└────────────┴─────────────┘\n"
     ]
    }
   ],
   "source": [
    "df_condicional = df.select([\n",
    "        pl.col(\"sepalwidth\"),\n",
    "        pl.when(pl.col(\"sepalwidth\") > 3.1)#condición\n",
    "        .then(pl.lit(True))\n",
    "        .otherwise(pl.lit(False))\n",
    "        .alias(\"conditional\"),\n",
    "    ])\n",
    "print(df_condicional)"
   ]
  },
  {
   "cell_type": "markdown",
   "id": "c15152bf",
   "metadata": {},
   "source": [
    "# <font color=\"#CD0000\">Fundición </font>\n",
    "La fundición en Polars se refiere a la conversión de datos de una columna a otro tipo de datos.  \n",
    "\n",
    "Si se encuentra un valor que no se puede convertir, el comportamiento predeterminado es **\"strict=True\"**, lo que significa que se generará un error. Pero si se establece en **\"strict=False\"**, los valores que no se puedan convertir se convertirán silenciosamente a \"null\".   \n",
    "\n",
    "## Numerics  \n",
    "Se invoca a la función **cast( )**.  \n"
   ]
  },
  {
   "cell_type": "code",
   "execution_count": 62,
   "id": "951ae6e2",
   "metadata": {},
   "outputs": [
    {
     "name": "stdout",
     "output_type": "stream",
     "text": [
      "shape: (5, 3)\n",
      "┌──────────┬───────────┬────────┐\n",
      "│ integers ┆ character ┆ floats │\n",
      "│ ---      ┆ ---       ┆ ---    │\n",
      "│ i64      ┆ str       ┆ f64    │\n",
      "╞══════════╪═══════════╪════════╡\n",
      "│ 1        ┆ rojo      ┆ 4.3    │\n",
      "│ 2        ┆ azul      ┆ 5.4    │\n",
      "│ 3        ┆ amarillo  ┆ 6.7    │\n",
      "│ 4        ┆ verde     ┆ 7.2    │\n",
      "│ 5        ┆ blanco    ┆ 8.0    │\n",
      "└──────────┴───────────┴────────┘\n",
      "shape: (5, 3)\n",
      "┌────────────────────┬────────────────────┬───────────────────────┐\n",
      "│ integers_as_floats ┆ floats_as_integers ┆ character_as_integers │\n",
      "│ ---                ┆ ---                ┆ ---                   │\n",
      "│ f32                ┆ i32                ┆ i16                   │\n",
      "╞════════════════════╪════════════════════╪═══════════════════════╡\n",
      "│ 1.0                ┆ 4                  ┆ null                  │\n",
      "│ 2.0                ┆ 5                  ┆ null                  │\n",
      "│ 3.0                ┆ 6                  ┆ null                  │\n",
      "│ 4.0                ┆ 7                  ┆ null                  │\n",
      "│ 5.0                ┆ 8                  ┆ null                  │\n",
      "└────────────────────┴────────────────────┴───────────────────────┘\n"
     ]
    }
   ],
   "source": [
    "#EJEMPLO 1\n",
    "ct1 = pl.DataFrame({\n",
    "    \n",
    "        \"integers\": [1, 2, 3, 4, 5],\n",
    "        \"character\": [\"rojo\", \"azul\", \"amarillo\", \"verde\", \"blanco\"],\n",
    "        \"floats\": [4.3, 5.4, 6.7, 7.2, 8.0],   })\n",
    "\n",
    "\n",
    "print(ct1)\n",
    "#conversión de datos con 'cast( )'\n",
    "#Los valores decimales se redoondean hacia abajo\n",
    "out1 = ct1.select(\n",
    "    [\n",
    "        pl.col(\"integers\").cast(pl.Float32).alias(\"integers_as_floats\"),\n",
    "        pl.col(\"floats\").cast(pl.Int32).alias(\"floats_as_integers\"),\n",
    "        pl.col(\"character\").cast(pl.Int16, strict=False).alias(\"character_as_integers\")\n",
    "    ])\n",
    "print(out1)"
   ]
  },
  {
   "cell_type": "markdown",
   "id": "76705790",
   "metadata": {},
   "source": [
    "## Booleanos   \n",
    "Los booleanos se pueden expresar como **1 ( True)** o **0 ( False)**. Es posible realizar operaciones de conversión entre un numérico *DataType* y un booleano, y viceversa. Sin embargo, tenga en cuenta que no se permite la conversión de una cadena **(Utf8)** a un booleano."
   ]
  },
  {
   "cell_type": "code",
   "execution_count": 63,
   "id": "49691554",
   "metadata": {},
   "outputs": [
    {
     "name": "stdout",
     "output_type": "stream",
     "text": [
      "shape: (5, 2)\n",
      "┌──────────┬────────┐\n",
      "│ integers ┆ floats │\n",
      "│ ---      ┆ ---    │\n",
      "│ bool     ┆ bool   │\n",
      "╞══════════╪════════╡\n",
      "│ true     ┆ false  │\n",
      "│ false    ┆ true   │\n",
      "│ true     ┆ true   │\n",
      "│ true     ┆ true   │\n",
      "│ true     ┆ true   │\n",
      "└──────────┴────────┘\n"
     ]
    }
   ],
   "source": [
    "#EJEMPLO 2\n",
    "##cast(pl.Boolean)\n",
    "ct2 = pl.DataFrame({\n",
    "    \n",
    "        \"integers\": [-1, 0, 2, 3, 4],\n",
    "        \"floats\": [0.0, 1.0, 2.0, 3.0, 4.0],})\n",
    "        \n",
    "\n",
    "\n",
    "out2 = ct2.select([\n",
    "    \n",
    "        pl.col(\"integers\").cast(pl.Boolean),\n",
    "        pl.col(\"floats\").cast(pl.Boolean),])\n",
    " \n",
    "print(out2)"
   ]
  },
  {
   "cell_type": "markdown",
   "id": "3878bd50",
   "metadata": {},
   "source": [
    "## Date  \n",
    "Los tipos de datos temporales como **Date** o **Datetime** se representan como el número de días (**Date**) y microsegundos (**Datetime**) desde la época. "
   ]
  },
  {
   "cell_type": "code",
   "execution_count": 64,
   "id": "4f852b47",
   "metadata": {},
   "outputs": [
    {
     "name": "stdout",
     "output_type": "stream",
     "text": [
      "shape: (1_465, 2)\n",
      "┌───────┬──────────────────┐\n",
      "│ date  ┆ datetime         │\n",
      "│ ---   ┆ ---              │\n",
      "│ i64   ┆ i64              │\n",
      "╞═══════╪══════════════════╡\n",
      "│ 11329 ┆ 978825600000000  │\n",
      "│ 11330 ┆ 978912000000000  │\n",
      "│ 11331 ┆ 978998400000000  │\n",
      "│ 11332 ┆ 979084800000000  │\n",
      "│ …     ┆ …                │\n",
      "│ 12790 ┆ 1105056000000000 │\n",
      "│ 12791 ┆ 1105142400000000 │\n",
      "│ 12792 ┆ 1105228800000000 │\n",
      "│ 12793 ┆ 1105315200000000 │\n",
      "└───────┴──────────────────┘\n"
     ]
    }
   ],
   "source": [
    "#EJEMPLO 3\n",
    "from datetime import date, datetime\n",
    "\n",
    "ct3 = pl.DataFrame({\n",
    "    \n",
    "        \"date\": pl.date_range(date(2001,1, 7), date(2005, 1, 10), eager=True),\n",
    "        \"datetime\": pl.date_range(datetime(2001,1, 7), datetime(2005, 1, 10), eager=True),\n",
    "         })\n",
    "\n",
    "out3 = ct3.select([pl.col(\"date\").cast(pl.Int64), pl.col(\"datetime\").cast(pl.Int64)])\n",
    "print(out3)"
   ]
  },
  {
   "cell_type": "markdown",
   "id": "bb9cd205",
   "metadata": {},
   "source": [
    "Para realizar operaciones de conversión entre *cadenas* y *Dates*/ *Datetimes*, *strftime* y *strptime* se utilizan. Polars adopta la sintaxis de formato crono al formatear. Vale la pena señalar que *strptime* presenta opciones adicionales que admiten la funcionalidad de la zona horaria. Consulte la documentación de la API para obtener más información."
   ]
  },
  {
   "cell_type": "code",
   "execution_count": 65,
   "id": "824a2900",
   "metadata": {},
   "outputs": [
    {
     "name": "stdout",
     "output_type": "stream",
     "text": [
      "shape: (5, 2)\n",
      "┌────────────┬─────────────────────┐\n",
      "│ date       ┆ string              │\n",
      "│ ---        ┆ ---                 │\n",
      "│ str        ┆ datetime[μs]        │\n",
      "╞════════════╪═════════════════════╡\n",
      "│ 2022-01-01 ┆ 2022-01-01 00:00:00 │\n",
      "│ 2022-01-02 ┆ 2022-01-02 00:00:00 │\n",
      "│ 2022-01-03 ┆ 2022-01-03 00:00:00 │\n",
      "│ 2022-01-04 ┆ 2022-01-04 00:00:00 │\n",
      "│ 2022-01-05 ┆ 2022-01-05 00:00:00 │\n",
      "└────────────┴─────────────────────┘\n"
     ]
    }
   ],
   "source": [
    "##strftime y strptime\n",
    "ct4 = pl.DataFrame({\n",
    "    \n",
    "        \"date\": pl.date_range(date(2022, 1, 1), date(2022, 1, 5), eager=True),\n",
    "        \"string\": [\n",
    "            \"2022-01-01\",\n",
    "            \"2022-01-02\",\n",
    "            \"2022-01-03\",\n",
    "            \"2022-01-04\",\n",
    "            \"2022-01-05\",\n",
    "        ],})\n",
    "    \n",
    "\n",
    "\n",
    "out4 = ct4.select([\n",
    "    \n",
    "        pl.col(\"date\").dt.strftime(\"%Y-%m-%d\"),\n",
    "        pl.col(\"string\").str.strptime(pl.Datetime, \"%Y-%m-%d\"),\n",
    "    ])\n",
    "\n",
    "print(out4)"
   ]
  },
  {
   "cell_type": "markdown",
   "id": "40301d7d",
   "metadata": {},
   "source": [
    "# <font color=\"#CD0000\">Strings </font>\n",
    "Las operaciones realizadas en cadenas *Utf8* .\n",
    "\n",
    "<font color=\"#474747\">**ACCESO AL ESPACIO DE NOMBRES DE CADENA**</font>  \n",
    "**str** se puede acceder al espacio de nombres a través del **.str** atributo de una columna con *Utf8* tipo de datos.\n"
   ]
  },
  {
   "cell_type": "code",
   "execution_count": 29,
   "id": "37bf5eed",
   "metadata": {},
   "outputs": [
    {
     "name": "stdout",
     "output_type": "stream",
     "text": [
      "shape: (150, 2)\n",
      "┌────────────┬──────────────┐\n",
      "│ byte_count ┆ letter_count │\n",
      "│ ---        ┆ ---          │\n",
      "│ u32        ┆ u32          │\n",
      "╞════════════╪══════════════╡\n",
      "│ 11         ┆ 11           │\n",
      "│ 11         ┆ 11           │\n",
      "│ 11         ┆ 11           │\n",
      "│ 11         ┆ 11           │\n",
      "│ …          ┆ …            │\n",
      "│ 14         ┆ 14           │\n",
      "│ 14         ┆ 14           │\n",
      "│ 14         ┆ 14           │\n",
      "│ 14         ┆ 14           │\n",
      "└────────────┴──────────────┘\n"
     ]
    }
   ],
   "source": [
    "#lengths y n_chars\n",
    "df_len = df.select(\n",
    "    [\n",
    "        pl.col(\"class\").str.lengths().alias(\"byte_count\"),#recuento de bytes\n",
    "        pl.col(\"class\").str.n_chars().alias(\"letter_count\"),#recuento de letras\n",
    "    ]\n",
    ")\n",
    "print(df_len)"
   ]
  },
  {
   "cell_type": "markdown",
   "id": "e4ae2cc4",
   "metadata": {},
   "source": [
    "<font color=\"#474747\">**COMPROBAR LA EXISTENCIA DE UN PATRÓN**</font>   \n",
    "El **contains** es un método que acepta un patron de expresión regular.\n",
    "Si la subcadena buscada se encuentra al inicio se usa **starts_with** y para el final **ends_with**.\n"
   ]
  },
  {
   "cell_type": "code",
   "execution_count": 30,
   "id": "b6da1c84",
   "metadata": {},
   "outputs": [
    {
     "name": "stdout",
     "output_type": "stream",
     "text": [
      "shape: (150, 4)\n",
      "┌────────────────┬─────────────┬───────────────┬──────────────┐\n",
      "│ class          ┆ subcadea_is ┆ subcadea_Iris ┆ subcadea_osa │\n",
      "│ ---            ┆ ---         ┆ ---           ┆ ---          │\n",
      "│ str            ┆ bool        ┆ bool          ┆ bool         │\n",
      "╞════════════════╪═════════════╪═══════════════╪══════════════╡\n",
      "│ Iris-setosa    ┆ false       ┆ true          ┆ true         │\n",
      "│ Iris-setosa    ┆ false       ┆ true          ┆ true         │\n",
      "│ Iris-setosa    ┆ false       ┆ true          ┆ true         │\n",
      "│ Iris-setosa    ┆ false       ┆ true          ┆ true         │\n",
      "│ …              ┆ …           ┆ …             ┆ …            │\n",
      "│ Iris-virginica ┆ true        ┆ true          ┆ false        │\n",
      "│ Iris-virginica ┆ true        ┆ true          ┆ false        │\n",
      "│ Iris-virginica ┆ true        ┆ true          ┆ false        │\n",
      "│ Iris-virginica ┆ true        ┆ true          ┆ false        │\n",
      "└────────────────┴─────────────┴───────────────┴──────────────┘\n"
     ]
    }
   ],
   "source": [
    "df_patron = df.select([\n",
    "        pl.col(\"class\"),\n",
    "        pl.col(\"class\").str.contains(\"nica\").alias(\"subcadea_is\"),\n",
    "        pl.col(\"class\").str.starts_with(\"Iris\").alias(\"subcadea_Iris\"),#inicio\n",
    "        pl.col(\"class\").str.ends_with(\"osa\").alias(\"subcadea_osa\"),#fin\n",
    "    ])\n",
    "print(df_patron)"
   ]
  },
  {
   "cell_type": "markdown",
   "id": "a5d3ba20",
   "metadata": {},
   "source": [
    "<font color=\"#474747\">**EXTRAER UN PATRÓN**</font>   \n",
    "El **extract** método nos permite extraer un patrón de una cadena específica.\n"
   ]
  },
  {
   "cell_type": "code",
   "execution_count": 31,
   "id": "829da1fc",
   "metadata": {},
   "outputs": [
    {
     "name": "stdout",
     "output_type": "stream",
     "text": [
      "shape: (150, 1)\n",
      "┌────────┐\n",
      "│ class  │\n",
      "│ ---    │\n",
      "│ str    │\n",
      "╞════════╡\n",
      "│ setosa │\n",
      "│ setosa │\n",
      "│ setosa │\n",
      "│ setosa │\n",
      "│ …      │\n",
      "│ null   │\n",
      "│ null   │\n",
      "│ null   │\n",
      "│ null   │\n",
      "└────────┘\n"
     ]
    }
   ],
   "source": [
    "#group_index=1 se utiliza para especificar que se extraiga el primer grupo de coincidencias del patrón (el patrón completo en este caso).\n",
    "df_extract = df.select(pl.col(\"class\").str.extract(r\"setosa\", group_index=0))\n",
    "\n",
    "print(df_extract)"
   ]
  },
  {
   "cell_type": "markdown",
   "id": "8b644a5c",
   "metadata": {},
   "source": [
    "El método **extract_all** extrae todas las ocurrencia. "
   ]
  },
  {
   "cell_type": "code",
   "execution_count": 32,
   "id": "72d07554",
   "metadata": {},
   "outputs": [
    {
     "name": "stdout",
     "output_type": "stream",
     "text": [
      "shape: (150, 1)\n",
      "┌───────────────┐\n",
      "│ class         │\n",
      "│ ---           │\n",
      "│ list[str]     │\n",
      "╞═══════════════╡\n",
      "│ [\"setosa\"]    │\n",
      "│ [\"setosa\"]    │\n",
      "│ [\"setosa\"]    │\n",
      "│ [\"setosa\"]    │\n",
      "│ …             │\n",
      "│ [\"virginica\"] │\n",
      "│ [\"virginica\"] │\n",
      "│ [\"virginica\"] │\n",
      "│ [\"virginica\"] │\n",
      "└───────────────┘\n"
     ]
    }
   ],
   "source": [
    "df_extract_all = df.select(pl.col(\"class\").str.extract_all(r\"(setosa|versicolor|virginica)\"))\n",
    "\n",
    "print(df_extract_all)"
   ]
  },
  {
   "cell_type": "markdown",
   "id": "a12389d5",
   "metadata": {},
   "source": [
    "<font color=\"#474747\">**REEMPLAZAR UN PATRÓN**</font>   \n",
    "Polars proporciona los métodos **replace** y **replace_all**, ambas reemplazan patrones."
   ]
  },
  {
   "cell_type": "code",
   "execution_count": 33,
   "id": "af55958d",
   "metadata": {},
   "outputs": [
    {
     "name": "stdout",
     "output_type": "stream",
     "text": [
      "shape: (150, 2)\n",
      "┌────────────────┬──────────────────┐\n",
      "│ class          ┆ remplazo_de_Iris │\n",
      "│ ---            ┆ ---              │\n",
      "│ str            ┆ str              │\n",
      "╞════════════════╪══════════════════╡\n",
      "│ Iris-foo       ┆ flor-setosa      │\n",
      "│ Iris-foo       ┆ flor-setosa      │\n",
      "│ Iris-foo       ┆ flor-setosa      │\n",
      "│ Iris-foo       ┆ flor-setosa      │\n",
      "│ …              ┆ …                │\n",
      "│ Iris-virginica ┆ flor-virginica   │\n",
      "│ Iris-virginica ┆ flor-virginica   │\n",
      "│ Iris-virginica ┆ flor-virginica   │\n",
      "│ Iris-virginica ┆ flor-virginica   │\n",
      "└────────────────┴──────────────────┘\n"
     ]
    }
   ],
   "source": [
    "df_replace = df.select(pl.col(\"class\").str.replace(r\"setosa\", \"foo\"),\n",
    "                      pl.col(\"class\").str.replace_all(\"Iris\", \"flor\", literal=True).alias(\"remplazo_de_Iris\"),)\n",
    "\n",
    "print(df_replace)"
   ]
  },
  {
   "cell_type": "markdown",
   "id": "5aa2f454",
   "metadata": {},
   "source": [
    "# <font color=\"#CD0000\">Agregación </font> \n",
    "Usando **groupby**.\n",
    "## Agregaciones básicas  \n",
    "Se puede hacer cualquier tipo de combinación con las diferentes expresiones.  \n"
   ]
  },
  {
   "cell_type": "code",
   "execution_count": 34,
   "id": "2f4127db",
   "metadata": {},
   "outputs": [
    {
     "name": "stdout",
     "output_type": "stream",
     "text": [
      "shape: (3, 4)\n",
      "┌─────────────────┬───────┬───────────────────┬────────────┐\n",
      "│ class           ┆ count ┆ petallength       ┆ petalwidth │\n",
      "│ ---             ┆ ---   ┆ ---               ┆ ---        │\n",
      "│ str             ┆ u32   ┆ list[f64]         ┆ f64        │\n",
      "╞═════════════════╪═══════╪═══════════════════╪════════════╡\n",
      "│ Iris-virginica  ┆ 50    ┆ [6.0, 5.1, … 5.1] ┆ 2.5        │\n",
      "│ Iris-versicolor ┆ 50    ┆ [4.7, 4.5, … 4.1] ┆ 1.4        │\n",
      "│ Iris-setosa     ┆ 50    ┆ [1.4, 1.4, … 1.4] ┆ 0.2        │\n",
      "└─────────────────┴───────┴───────────────────┴────────────┘\n"
     ]
    }
   ],
   "source": [
    "a = (df.lazy().groupby(\"class\").agg\n",
    "     ([pl.count(),\n",
    "          pl.col(\"petallength\"),\n",
    "          pl.first(\"petalwidth\"),  ]).sort(\"count\", descending=True).limit(5))\n",
    "\n",
    "\n",
    "df_aggre = a.collect()\n",
    "print(df_aggre)"
   ]
  },
  {
   "cell_type": "markdown",
   "id": "e4ce0607",
   "metadata": {},
   "source": [
    "## Condicionales "
   ]
  },
  {
   "cell_type": "code",
   "execution_count": 35,
   "id": "1989dea2",
   "metadata": {},
   "outputs": [
    {
     "name": "stdout",
     "output_type": "stream",
     "text": [
      "shape: (3, 2)\n",
      "┌─────────────────┬─────────────┐\n",
      "│ class           ┆ sepallength │\n",
      "│ ---             ┆ ---         │\n",
      "│ str             ┆ f64         │\n",
      "╞═════════════════╪═════════════╡\n",
      "│ Iris-virginica  ┆ 329.4       │\n",
      "│ Iris-versicolor ┆ 296.8       │\n",
      "│ Iris-setosa     ┆ 250.3       │\n",
      "└─────────────────┴─────────────┘\n"
     ]
    }
   ],
   "source": [
    "#agg es una función que agrega una columna\n",
    "#la función lazy ayuda a agrupar\n",
    "df_1 = (df.lazy().groupby(\"class\").agg([pl.col(\"sepallength\").sum()])).collect()\n",
    "print(df_1)"
   ]
  },
  {
   "cell_type": "markdown",
   "id": "d1772572",
   "metadata": {},
   "source": [
    "## Filtración  \n",
    "Se puede filtrar en grupos con **filter()**."
   ]
  },
  {
   "cell_type": "code",
   "execution_count": 36,
   "id": "a5890daf",
   "metadata": {},
   "outputs": [
    {
     "name": "stdout",
     "output_type": "stream",
     "text": [
      "shape: (11, 5)\n",
      "┌─────────────┬────────────┬─────────────┬────────────┬─────────────────┐\n",
      "│ sepallength ┆ sepalwidth ┆ petallength ┆ petalwidth ┆ class           │\n",
      "│ ---         ┆ ---        ┆ ---         ┆ ---        ┆ ---             │\n",
      "│ f64         ┆ f64        ┆ f64         ┆ f64        ┆ str             │\n",
      "╞═════════════╪════════════╪═════════════╪════════════╪═════════════════╡\n",
      "│ 4.9         ┆ 2.4        ┆ 3.3         ┆ 1.0        ┆ Iris-versicolor │\n",
      "│ 5.2         ┆ 2.7        ┆ 3.9         ┆ 1.4        ┆ Iris-versicolor │\n",
      "│ 5.0         ┆ 2.0        ┆ 3.5         ┆ 1.0        ┆ Iris-versicolor │\n",
      "│ 5.6         ┆ 2.9        ┆ 3.6         ┆ 1.3        ┆ Iris-versicolor │\n",
      "│ …           ┆ …          ┆ …           ┆ …          ┆ …               │\n",
      "│ 5.5         ┆ 2.4        ┆ 3.7         ┆ 1.0        ┆ Iris-versicolor │\n",
      "│ 5.8         ┆ 2.7        ┆ 3.9         ┆ 1.2        ┆ Iris-versicolor │\n",
      "│ 5.0         ┆ 2.3        ┆ 3.3         ┆ 1.0        ┆ Iris-versicolor │\n",
      "│ 5.1         ┆ 2.5        ┆ 3.0         ┆ 1.1        ┆ Iris-versicolor │\n",
      "└─────────────┴────────────┴─────────────┴────────────┴─────────────────┘\n"
     ]
    }
   ],
   "source": [
    "df_filtrar =df.filter((pl.col(\"petallength\")<4)&(pl.col(\"class\")==\"Iris-versicolor\")) \n",
    "print(df_filtrar)"
   ]
  },
  {
   "cell_type": "markdown",
   "id": "b8a0a0e4",
   "metadata": {},
   "source": [
    "## Clasificación   \n",
    "Ordenar **sort()** y agrupar **groupby()**."
   ]
  },
  {
   "cell_type": "code",
   "execution_count": 37,
   "id": "990369e0",
   "metadata": {},
   "outputs": [
    {
     "name": "stdout",
     "output_type": "stream",
     "text": [
      "shape: (3, 5)\n",
      "┌─────────────────┬─────────────┬────────────┬─────────────┬────────────┐\n",
      "│ class           ┆ sepallength ┆ sepalwidth ┆ petallength ┆ petalwidth │\n",
      "│ ---             ┆ ---         ┆ ---        ┆ ---         ┆ ---        │\n",
      "│ str             ┆ f64         ┆ f64        ┆ f64         ┆ f64        │\n",
      "╞═════════════════╪═════════════╪════════════╪═════════════╪════════════╡\n",
      "│ Iris-versicolor ┆ 5.936       ┆ 2.77       ┆ 4.26        ┆ 1.326      │\n",
      "│ Iris-virginica  ┆ 6.588       ┆ 2.974      ┆ 5.552       ┆ 2.026      │\n",
      "│ Iris-setosa     ┆ 5.006       ┆ 3.418      ┆ 1.464       ┆ 0.244      │\n",
      "└─────────────────┴─────────────┴────────────┴─────────────┴────────────┘\n",
      "shape: (150, 5)\n",
      "┌─────────────┬────────────┬─────────────┬────────────┬─────────────────┐\n",
      "│ sepallength ┆ sepalwidth ┆ petallength ┆ petalwidth ┆ class           │\n",
      "│ ---         ┆ ---        ┆ ---         ┆ ---        ┆ ---             │\n",
      "│ f64         ┆ f64        ┆ f64         ┆ f64        ┆ str             │\n",
      "╞═════════════╪════════════╪═════════════╪════════════╪═════════════════╡\n",
      "│ 5.0         ┆ 2.0        ┆ 3.5         ┆ 1.0        ┆ Iris-versicolor │\n",
      "│ 6.0         ┆ 2.2        ┆ 4.0         ┆ 1.0        ┆ Iris-versicolor │\n",
      "│ 6.2         ┆ 2.2        ┆ 4.5         ┆ 1.5        ┆ Iris-versicolor │\n",
      "│ 6.0         ┆ 2.2        ┆ 5.0         ┆ 1.5        ┆ Iris-virginica  │\n",
      "│ …           ┆ …          ┆ …           ┆ …          ┆ …               │\n",
      "│ 5.8         ┆ 4.0        ┆ 1.2         ┆ 0.2        ┆ Iris-setosa     │\n",
      "│ 5.2         ┆ 4.1        ┆ 1.5         ┆ 0.1        ┆ Iris-setosa     │\n",
      "│ 5.5         ┆ 4.2        ┆ 1.4         ┆ 0.2        ┆ Iris-setosa     │\n",
      "│ 5.7         ┆ 4.4        ┆ 1.5         ┆ 0.4        ┆ Iris-setosa     │\n",
      "└─────────────┴────────────┴─────────────┴────────────┴─────────────────┘\n"
     ]
    }
   ],
   "source": [
    "grupo = df.groupby(\"class\").mean() \n",
    "print(grupo)\n",
    "\n",
    "orden = df.sort(\"sepalwidth\")#por defecto de menor a mayor\n",
    "print(orden)"
   ]
  },
  {
   "cell_type": "markdown",
   "id": "51e2e419",
   "metadata": {},
   "source": [
    "# <font color=\"#CD0000\">Datos perdidos </font> \n",
    "## null  \n",
    "Los datos que faltan se representan en Arrows y Polars con un null,este **null** valor faltante se aplica a todos los tipos de datos, incluidos los valores numéricos.  \n"
   ]
  },
  {
   "cell_type": "code",
   "execution_count": 38,
   "id": "1752f750",
   "metadata": {},
   "outputs": [
    {
     "name": "stdout",
     "output_type": "stream",
     "text": [
      "shape: (3, 3)\n",
      "┌──────┬──────┬─────────┐\n",
      "│ col1 ┆ col2 ┆ col3    │\n",
      "│ ---  ┆ ---  ┆ ---     │\n",
      "│ i64  ┆ i64  ┆ str     │\n",
      "╞══════╪══════╪═════════╡\n",
      "│ 1    ┆ 16   ┆ manzana │\n",
      "│ 2    ┆ null ┆ fresa   │\n",
      "│ 3    ┆ 48   ┆ uva     │\n",
      "└──────┴──────┴─────────┘\n"
     ]
    }
   ],
   "source": [
    "#EJEMPLO 4\n",
    "EJ4 = pl.DataFrame({\n",
    "        \"col1\": [1, 2, 3],\n",
    "        \"col2\": [16, None, 48],\n",
    "        \"col3\":[\"manzana\",\"fresa \",\"uva\"]\n",
    "    },)\n",
    "print(EJ4)"
   ]
  },
  {
   "cell_type": "markdown",
   "id": "5519d023",
   "metadata": {},
   "source": [
    "### <font color=\"#474747\">Filtrar con is_null y is_not_null</font> "
   ]
  },
  {
   "cell_type": "code",
   "execution_count": 39,
   "id": "6785d868",
   "metadata": {},
   "outputs": [
    {
     "name": "stdout",
     "output_type": "stream",
     "text": [
      "shape: (1, 3)\n",
      "┌──────┬──────┬────────┐\n",
      "│ col1 ┆ col2 ┆ col3   │\n",
      "│ ---  ┆ ---  ┆ ---    │\n",
      "│ i64  ┆ i64  ┆ str    │\n",
      "╞══════╪══════╪════════╡\n",
      "│ 2    ┆ null ┆ fresa  │\n",
      "└──────┴──────┴────────┘\n",
      "shape: (2, 3)\n",
      "┌──────┬──────┬─────────┐\n",
      "│ col1 ┆ col2 ┆ col3    │\n",
      "│ ---  ┆ ---  ┆ ---     │\n",
      "│ i64  ┆ i64  ┆ str     │\n",
      "╞══════╪══════╪═════════╡\n",
      "│ 1    ┆ 16   ┆ manzana │\n",
      "│ 3    ┆ 48   ┆ uva     │\n",
      "└──────┴──────┴─────────┘\n"
     ]
    }
   ],
   "source": [
    "##is_null\n",
    "EJ4_isnull = EJ4.filter(pl.col(\"col2\").is_null())\n",
    "print(EJ4_isnull)#filtra la filas con datos nulos\n",
    "\n",
    "##is_not_null\n",
    "EJ4_isnot = EJ4.filter(pl.col(\"col2\").is_not_null())\n",
    "print(EJ4_isnot)#filtra todas las filas sin datos nulos "
   ]
  },
  {
   "cell_type": "markdown",
   "id": "e091760f",
   "metadata": {},
   "source": [
    "### <font color=\"#474747\">Rellenar datos faltantes </font> \n",
    "Usando **fill_null( )**."
   ]
  },
  {
   "cell_type": "markdown",
   "id": "ee770d21",
   "metadata": {},
   "source": [
    "- **Rellenar con un valor específico**\n",
    "Usando **pl.lit( )** ."
   ]
  },
  {
   "cell_type": "code",
   "execution_count": 40,
   "id": "38eea95e",
   "metadata": {},
   "outputs": [
    {
     "name": "stdout",
     "output_type": "stream",
     "text": [
      "shape: (3, 3)\n",
      "┌──────┬──────┬─────────┐\n",
      "│ col1 ┆ col2 ┆ col3    │\n",
      "│ ---  ┆ ---  ┆ ---     │\n",
      "│ i64  ┆ i64  ┆ str     │\n",
      "╞══════╪══════╪═════════╡\n",
      "│ 1    ┆ 16   ┆ manzana │\n",
      "│ 2    ┆ 32   ┆ fresa   │\n",
      "│ 3    ┆ 48   ┆ uva     │\n",
      "└──────┴──────┴─────────┘\n"
     ]
    }
   ],
   "source": [
    "valor = EJ4.with_columns(pl.col(\"col2\").fill_null(pl.lit(32)))\n",
    "print(valor)"
   ]
  },
  {
   "cell_type": "markdown",
   "id": "e8a2800e",
   "metadata": {},
   "source": [
    "- **Rellenar con una expresión**   "
   ]
  },
  {
   "cell_type": "code",
   "execution_count": 41,
   "id": "a4d3eaed",
   "metadata": {},
   "outputs": [
    {
     "name": "stdout",
     "output_type": "stream",
     "text": [
      "shape: (3, 3)\n",
      "┌──────┬──────┬─────────┐\n",
      "│ col1 ┆ col2 ┆ col3    │\n",
      "│ ---  ┆ ---  ┆ ---     │\n",
      "│ i64  ┆ i64  ┆ str     │\n",
      "╞══════╪══════╪═════════╡\n",
      "│ 1    ┆ 16   ┆ manzana │\n",
      "│ 2    ┆ 64   ┆ fresa   │\n",
      "│ 3    ┆ 48   ┆ uva     │\n",
      "└──────┴──────┴─────────┘\n"
     ]
    }
   ],
   "source": [
    "exp = EJ4.with_columns(pl.col(\"col2\").fill_null(pl.sum(\"col2\")))\n",
    "print(exp)"
   ]
  },
  {
   "cell_type": "markdown",
   "id": "05649e00",
   "metadata": {},
   "source": [
    "- **Rellenar con interpolación**   \n",
    "Usando **interpolate( )**."
   ]
  },
  {
   "cell_type": "code",
   "execution_count": 42,
   "id": "7abf1adb",
   "metadata": {},
   "outputs": [
    {
     "name": "stdout",
     "output_type": "stream",
     "text": [
      "shape: (3, 3)\n",
      "┌──────┬──────┬─────────┐\n",
      "│ col1 ┆ col2 ┆ col3    │\n",
      "│ ---  ┆ ---  ┆ ---     │\n",
      "│ i64  ┆ i64  ┆ str     │\n",
      "╞══════╪══════╪═════════╡\n",
      "│ 1    ┆ 16   ┆ manzana │\n",
      "│ 2    ┆ 32   ┆ fresa   │\n",
      "│ 3    ┆ 48   ┆ uva     │\n",
      "└──────┴──────┴─────────┘\n"
     ]
    }
   ],
   "source": [
    "polacion = EJ4.with_columns(\"col2\").interpolate()\n",
    "print(polacion)"
   ]
  },
  {
   "cell_type": "markdown",
   "id": "f1c858d7",
   "metadata": {},
   "source": [
    "## NotaNumbero NaN valores\n",
    "Polars también permite **NotaNumber** o **NaN** valores para columnas flotantes,en Polars no se consideran datos faltantes. \n",
    " \n"
   ]
  },
  {
   "cell_type": "code",
   "execution_count": 43,
   "id": "6e2fd504",
   "metadata": {},
   "outputs": [
    {
     "name": "stdout",
     "output_type": "stream",
     "text": [
      "shape: (4, 1)\n",
      "┌───────┐\n",
      "│ valor │\n",
      "│ ---   │\n",
      "│ f64   │\n",
      "╞═══════╡\n",
      "│ 1.0   │\n",
      "│ NaN   │\n",
      "│ NaN   │\n",
      "│ 21.0  │\n",
      "└───────┘\n"
     ]
    }
   ],
   "source": [
    "import numpy as np\n",
    "\n",
    "#EJEMPLO 5\n",
    "EJ5 = pl.DataFrame({\"valor\":[1.0,np.NaN,float(\"nan\"),21]})\n",
    "print(EJ5)"
   ]
  },
  {
   "cell_type": "markdown",
   "id": "9fe498c4",
   "metadata": {},
   "source": [
    "Tienen las funciones de **is_nan( )** y **fill_nan( )**."
   ]
  },
  {
   "cell_type": "code",
   "execution_count": 44,
   "id": "ced33571",
   "metadata": {},
   "outputs": [
    {
     "name": "stdout",
     "output_type": "stream",
     "text": [
      "shape: (1, 1)\n",
      "┌───────┐\n",
      "│ valor │\n",
      "│ ---   │\n",
      "│ f64   │\n",
      "╞═══════╡\n",
      "│ 11.0  │\n",
      "└───────┘\n",
      "shape: (4, 1)\n",
      "┌───────┐\n",
      "│ valor │\n",
      "│ ---   │\n",
      "│ bool  │\n",
      "╞═══════╡\n",
      "│ false │\n",
      "│ true  │\n",
      "│ true  │\n",
      "│ false │\n",
      "└───────┘\n"
     ]
    }
   ],
   "source": [
    "#fill_nan\n",
    "fill_nan = EJ5.with_columns(pl.col(\"valor\").fill_nan(None)).mean()\n",
    "print(fill_nan)#saca la media de los valores que no sean \"NaN\"\n",
    "\n",
    "#is_nan\n",
    "is_nan = EJ5.with_columns(pl.col(\"valor\").is_nan())\n",
    "print(is_nan)#todos los datos NaN "
   ]
  },
  {
   "cell_type": "markdown",
   "id": "f0bf7cd3",
   "metadata": {},
   "source": [
    "# <font color=\"#CD0000\">Folds </font> \n",
    "Polars permite dividir un *DataFrame* en un número específico de pliegues(folds).Luego se puede aplicar una función específica a cada pliegue en paralelo para acelerar el procesamiento.  \n",
    "\n"
   ]
  },
  {
   "cell_type": "code",
   "execution_count": 46,
   "id": "cd6755a3",
   "metadata": {},
   "outputs": [
    {
     "name": "stdout",
     "output_type": "stream",
     "text": [
      "shape: (3, 3)\n",
      "┌──────┬──────┬──────┐\n",
      "│ col1 ┆ col2 ┆ col3 │\n",
      "│ ---  ┆ ---  ┆ ---  │\n",
      "│ i64  ┆ i64  ┆ i64  │\n",
      "╞══════╪══════╪══════╡\n",
      "│ 1    ┆ 10   ┆ 5    │\n",
      "│ 2    ┆ 20   ┆ 15   │\n",
      "│ 3    ┆ 30   ┆ 25   │\n",
      "└──────┴──────┴──────┘\n"
     ]
    }
   ],
   "source": [
    "#EJEMPLO 6\n",
    "EJ6 = pl.DataFrame({\"col1\":[1,2,3],\n",
    "                   \"col2\":[10,20,30],\n",
    "                   \"col3\":[5,15,25]})\n",
    "print(EJ6)"
   ]
  },
  {
   "cell_type": "markdown",
   "id": "29e6881f",
   "metadata": {},
   "source": [
    "## Suma manual  \n",
    "Usando **sum( )** y **fold( )**."
   ]
  },
  {
   "cell_type": "code",
   "execution_count": 47,
   "id": "c410545a",
   "metadata": {},
   "outputs": [
    {
     "name": "stdout",
     "output_type": "stream",
     "text": [
      "shape: (3, 1)\n",
      "┌─────┐\n",
      "│ sum │\n",
      "│ --- │\n",
      "│ i64 │\n",
      "╞═════╡\n",
      "│ 16  │\n",
      "│ 37  │\n",
      "│ 58  │\n",
      "└─────┘\n"
     ]
    }
   ],
   "source": [
    "#se hace una suma por filas\n",
    "sum_manu = EJ6.select(\n",
    "    pl.fold(acc=pl.lit(0), function=lambda acc, x: acc + x, exprs=pl.all())\n",
    "    .alias(\"sum\"),)\n",
    "\n",
    "print(sum_manu)"
   ]
  },
  {
   "cell_type": "markdown",
   "id": "763c856d",
   "metadata": {},
   "source": [
    "## Condicional"
   ]
  },
  {
   "cell_type": "code",
   "execution_count": 48,
   "id": "8624f3f0",
   "metadata": {},
   "outputs": [
    {
     "name": "stdout",
     "output_type": "stream",
     "text": [
      "shape: (1, 3)\n",
      "┌──────┬──────┬──────┐\n",
      "│ col1 ┆ col2 ┆ col3 │\n",
      "│ ---  ┆ ---  ┆ ---  │\n",
      "│ i64  ┆ i64  ┆ i64  │\n",
      "╞══════╪══════╪══════╡\n",
      "│ 3    ┆ 30   ┆ 25   │\n",
      "└──────┴──────┴──────┘\n"
     ]
    }
   ],
   "source": [
    "#filtra la(s) donde todos sus elementos cumplan con la condición\n",
    "condicional = EJ6.filter(\n",
    "    pl.fold(acc=pl.lit(True),function=lambda acc, x: acc & x,\n",
    "            exprs=pl.col(\"*\") > 2,))#condición\n",
    "\n",
    "print(condicional)"
   ]
  },
  {
   "cell_type": "markdown",
   "id": "6bced5a8",
   "metadata": {},
   "source": [
    "## Datos de pliegues y cuerdas  \n",
    "Usando **concat_str( ).** "
   ]
  },
  {
   "cell_type": "code",
   "execution_count": 49,
   "id": "223fb7cc",
   "metadata": {},
   "outputs": [
    {
     "name": "stdout",
     "output_type": "stream",
     "text": [
      "shape: (3, 1)\n",
      "┌───────────────┐\n",
      "│ concatenación │\n",
      "│ ---           │\n",
      "│ str           │\n",
      "╞═══════════════╡\n",
      "│ 1105          │\n",
      "│ 22015         │\n",
      "│ 33025         │\n",
      "└───────────────┘\n"
     ]
    }
   ],
   "source": [
    "#Concatenación por filas\n",
    "fs = EJ6.select([pl.concat_str([\"col1\",\"col2\",\"col3\"]).alias(\"concatenación\"), ])\n",
    "\n",
    "print(fs)"
   ]
  },
  {
   "cell_type": "markdown",
   "id": "3bd0a239",
   "metadata": {},
   "source": [
    "# <font color=\"#CD0000\">Listas </font> \n"
   ]
  },
  {
   "cell_type": "code",
   "execution_count": 50,
   "id": "605e4c3d",
   "metadata": {},
   "outputs": [
    {
     "name": "stdout",
     "output_type": "stream",
     "text": [
      "shape: (4, 4)\n",
      "┌─────────┬────────────┬─────────┬────────────┐\n",
      "│ alumnos ┆ aritmetica ┆ quimica ┆ literatura │\n",
      "│ ---     ┆ ---        ┆ ---     ┆ ---        │\n",
      "│ str     ┆ i64        ┆ i64     ┆ i64        │\n",
      "╞═════════╪════════════╪═════════╪════════════╡\n",
      "│ Ivan    ┆ 14         ┆ 15      ┆ 14         │\n",
      "│ Ariana  ┆ 12         ┆ 13      ┆ 18         │\n",
      "│ Frank   ┆ 17         ┆ 18      ┆ 16         │\n",
      "│ Angie   ┆ 15         ┆ 14      ┆ 17         │\n",
      "└─────────┴────────────┴─────────┴────────────┘\n"
     ]
    }
   ],
   "source": [
    "#EJEMPLO 7\n",
    "EJ7 = pl.DataFrame({\n",
    "        \"alumnos\":[\"Ivan\",\"Ariana\",\"Frank\",\"Angie\"],\n",
    "        \"aritmetica\":[14,12,17,15],\n",
    "        \"quimica\":[15,13,18,14],\n",
    "        \"literatura\":[14,18,16,17],\n",
    "})\n",
    "print(EJ7)"
   ]
  },
  {
   "cell_type": "markdown",
   "id": "f289eb00",
   "metadata": {},
   "source": [
    "## Calculos en filas  \n",
    "Las operaciones de lista se pueden realizar utilizando el espacio de nombres **pl.list**, que proporciona varias funciones útiles para trabajar con 'listas', como 'flatten', 'unique', 'slice', 'length', entre otras.\n",
    "También existe **concat_list** ."
   ]
  },
  {
   "cell_type": "code",
   "execution_count": 51,
   "id": "fc4d3b48",
   "metadata": {},
   "outputs": [
    {
     "name": "stdout",
     "output_type": "stream",
     "text": [
      "shape: (4, 1)\n",
      "┌────────────────┐\n",
      "│ calificaciones │\n",
      "│ ---            │\n",
      "│ list[i64]      │\n",
      "╞════════════════╡\n",
      "│ [14, 15, 14]   │\n",
      "│ [12, 13, 18]   │\n",
      "│ [17, 18, 16]   │\n",
      "│ [15, 14, 17]   │\n",
      "└────────────────┘\n"
     ]
    }
   ],
   "source": [
    "#se excluye la columna alumnos y se forma una columna llamada \"calificaciones\" \n",
    "#con las notas de los alumnos en listas\n",
    "\n",
    "listas =EJ7.select([pl.concat_list(pl.all().exclude(\"alumnos\"))\n",
    "                    .alias(\"calificaciones\")])\n",
    "print(listas)"
   ]
  },
  {
   "cell_type": "markdown",
   "id": "0b7efe35",
   "metadata": {},
   "source": [
    "# <font color=\"#CD0000\">Funciones definidas por el usuario </font> \n"
   ]
  },
  {
   "cell_type": "code",
   "execution_count": 52,
   "id": "47bfcf50",
   "metadata": {},
   "outputs": [
    {
     "name": "stdout",
     "output_type": "stream",
     "text": [
      "shape: (3, 2)\n",
      "┌──────┬────────┐\n",
      "│ keys ┆ values │\n",
      "│ ---  ┆ ---    │\n",
      "│ str  ┆ i64    │\n",
      "╞══════╪════════╡\n",
      "│ a    ┆ 14     │\n",
      "│ c    ┆ 25     │\n",
      "│ c    ┆ 36     │\n",
      "└──────┴────────┘\n"
     ]
    }
   ],
   "source": [
    "#Ejemplo 8\n",
    "EJ8 = pl.DataFrame({\n",
    "    \"keys\":[\"a\",\"c\",\"c\"],\n",
    "    \"values\":[14,25,36],\n",
    "})\n",
    "\n",
    "print(EJ8)"
   ]
  },
  {
   "cell_type": "code",
   "execution_count": 66,
   "id": "2b4db649",
   "metadata": {},
   "outputs": [
    {
     "name": "stdout",
     "output_type": "stream",
     "text": [
      "shape: (2, 3)\n",
      "┌──────┬───────────┬──────────────────┐\n",
      "│ keys ┆ shift_map ┆ shift_expression │\n",
      "│ ---  ┆ ---       ┆ ---              │\n",
      "│ str  ┆ list[i64] ┆ list[i64]        │\n",
      "╞══════╪═══════════╪══════════════════╡\n",
      "│ a    ┆ [null]    ┆ [null]           │\n",
      "│ c    ┆ [14, 25]  ┆ [null, 25]       │\n",
      "└──────┴───────────┴──────────────────┘\n"
     ]
    }
   ],
   "source": [
    "#ejericio 1\n",
    "out5 = EJ8.groupby(\"keys\", maintain_order=True).agg(\n",
    "    [\n",
    "        pl.col(\"values\").map(lambda s: s.shift()).alias(\"shift_map\"),\n",
    "        pl.col(\"values\").shift().alias(\"shift_expression\"),\n",
    "    ]\n",
    ")\n",
    "print(out5)"
   ]
  },
  {
   "cell_type": "markdown",
   "id": "6cb5d21c",
   "metadata": {},
   "source": [
    "Se puede comprobar que los resultados en el ejercicio 1 no son los correctos ya que c tiene valores de a.\n",
    "Ahora se arreglara el ejercicio 1."
   ]
  },
  {
   "cell_type": "code",
   "execution_count": 67,
   "id": "ea5251ed",
   "metadata": {},
   "outputs": [
    {
     "name": "stdout",
     "output_type": "stream",
     "text": [
      "shape: (2, 3)\n",
      "┌──────┬────────────┬──────────────────┐\n",
      "│ keys ┆ shift_map  ┆ shift_expression │\n",
      "│ ---  ┆ ---        ┆ ---              │\n",
      "│ str  ┆ list[i64]  ┆ list[i64]        │\n",
      "╞══════╪════════════╪══════════════════╡\n",
      "│ a    ┆ [null]     ┆ [null]           │\n",
      "│ c    ┆ [null, 25] ┆ [null, 25]       │\n",
      "└──────┴────────────┴──────────────────┘\n"
     ]
    }
   ],
   "source": [
    "out6 = EJ8.groupby(\"keys\", maintain_order=True).agg(\n",
    "    [\n",
    "        pl.col(\"values\").apply(lambda s: s.shift()).alias(\"shift_map\"),\n",
    "        pl.col(\"values\").shift().alias(\"shift_expression\"),\n",
    "    ]\n",
    ")\n",
    "print(out6)"
   ]
  },
  {
   "cell_type": "markdown",
   "id": "276ef0c6",
   "metadata": {},
   "source": [
    "# <font color=\"#CD0000\">Numpy </font>  \n",
    "Polars admite alguna funciones *Numpy* ."
   ]
  },
  {
   "cell_type": "code",
   "execution_count": 56,
   "id": "20097410",
   "metadata": {},
   "outputs": [
    {
     "name": "stdout",
     "output_type": "stream",
     "text": [
      "shape: (150, 4)\n",
      "┌─────────────────┬────────────────┬─────────────────┬────────────────┐\n",
      "│ sepallength_log ┆ sepalwidth_log ┆ petallength_log ┆ petalwidth_log │\n",
      "│ ---             ┆ ---            ┆ ---             ┆ ---            │\n",
      "│ f64             ┆ f64            ┆ f64             ┆ f64            │\n",
      "╞═════════════════╪════════════════╪═════════════════╪════════════════╡\n",
      "│ 1.629241        ┆ 1.252763       ┆ 0.336472        ┆ -1.609438      │\n",
      "│ 1.589235        ┆ 1.098612       ┆ 0.336472        ┆ -1.609438      │\n",
      "│ 1.547563        ┆ 1.163151       ┆ 0.262364        ┆ -1.609438      │\n",
      "│ 1.526056        ┆ 1.131402       ┆ 0.405465        ┆ -1.609438      │\n",
      "│ …               ┆ …              ┆ …               ┆ …              │\n",
      "│ 1.84055         ┆ 0.916291       ┆ 1.609438        ┆ 0.641854       │\n",
      "│ 1.871802        ┆ 1.098612       ┆ 1.648659        ┆ 0.693147       │\n",
      "│ 1.824549        ┆ 1.223775       ┆ 1.686399        ┆ 0.832909       │\n",
      "│ 1.774952        ┆ 1.098612       ┆ 1.629241        ┆ 0.587787       │\n",
      "└─────────────────┴────────────────┴─────────────────┴────────────────┘\n"
     ]
    }
   ],
   "source": [
    "import numpy as np  \n",
    "#Excluimos la columna 'class' por no tener datos numericos\n",
    "df_sinclass = df.select([\n",
    "    pl.exclude(\"class\")])#usando numpy\n",
    "  \n",
    "#Ahora todas las otras columnas son reemplazadas por sus logaritmos\n",
    "df_su = df_sinclass.select( [\n",
    "        np.log(pl.all()).suffix(\"_log\"),])#usando polars\n",
    "\n",
    "print(df_su)"
   ]
  },
  {
   "cell_type": "markdown",
   "id": "ec3758d2",
   "metadata": {},
   "source": [
    "### OTRAS FUNCIONES NUMPY EN POLARS \n",
    "**np.exp()**: Esta función devuelve el exponencial de un número. Es decir, eleva el número a la constante matemática e, que es aproximadamente 2.718.\n"
   ]
  },
  {
   "cell_type": "code",
   "execution_count": 68,
   "id": "c0b33b6a",
   "metadata": {},
   "outputs": [
    {
     "name": "stdout",
     "output_type": "stream",
     "text": [
      "shape: (150, 1)\n",
      "┌────────────┐\n",
      "│ exp        │\n",
      "│ ---        │\n",
      "│ f64        │\n",
      "╞════════════╡\n",
      "│ 164.021907 │\n",
      "│ 134.28978  │\n",
      "│ 109.947172 │\n",
      "│ 99.484316  │\n",
      "│ …          │\n",
      "│ 544.57191  │\n",
      "│ 665.141633 │\n",
      "│ 492.749041 │\n",
      "│ 365.037468 │\n",
      "└────────────┘\n"
     ]
    }
   ],
   "source": [
    "# Aplicar función np.exp() a la columna \"sepallength\"\n",
    "out7 = df.select(pl.col(\"sepallength\").apply(lambda x: np.exp(x)).alias(\"exp\"))\n",
    "\n",
    "print(out7)"
   ]
  },
  {
   "cell_type": "markdown",
   "id": "60b84afd",
   "metadata": {},
   "source": [
    "**np.cos()**: Esta función devuelve el coseno de un número. El coseno es una función trigonométrica que devuelve el cociente de la longitud del cateto adyacente y la hipotenusa de un triángulo rectángulo."
   ]
  },
  {
   "cell_type": "code",
   "execution_count": 69,
   "id": "fa9ad8d4",
   "metadata": {},
   "outputs": [
    {
     "name": "stdout",
     "output_type": "stream",
     "text": [
      "shape: (150, 1)\n",
      "┌───────────┐\n",
      "│ cos       │\n",
      "│ ---       │\n",
      "│ f64       │\n",
      "╞═══════════╡\n",
      "│ 0.377978  │\n",
      "│ 0.186512  │\n",
      "│ -0.012389 │\n",
      "│ -0.112153 │\n",
      "│ …         │\n",
      "│ 0.999859  │\n",
      "│ 0.976588  │\n",
      "│ 0.996542  │\n",
      "│ 0.927478  │\n",
      "└───────────┘\n"
     ]
    }
   ],
   "source": [
    "# Aplicar función np.cos() a la columna \"sepal_length\"\n",
    "out8 = df.select(pl.col(\"sepallength\").apply(lambda x: np.cos(x)).alias(\"cos\"))\n",
    "\n",
    "print(out8)"
   ]
  },
  {
   "cell_type": "code",
   "execution_count": null,
   "id": "93ffaf8c",
   "metadata": {},
   "outputs": [],
   "source": []
  }
 ],
 "metadata": {
  "kernelspec": {
   "display_name": "Python 3 (ipykernel)",
   "language": "python",
   "name": "python3"
  },
  "language_info": {
   "codemirror_mode": {
    "name": "ipython",
    "version": 3
   },
   "file_extension": ".py",
   "mimetype": "text/x-python",
   "name": "python",
   "nbconvert_exporter": "python",
   "pygments_lexer": "ipython3",
   "version": "3.9.13"
  }
 },
 "nbformat": 4,
 "nbformat_minor": 5
}
