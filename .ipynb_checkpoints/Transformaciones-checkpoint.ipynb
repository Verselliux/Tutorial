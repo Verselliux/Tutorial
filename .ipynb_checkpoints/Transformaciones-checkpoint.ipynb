{
 "cells": [
  {
   "cell_type": "markdown",
   "id": "2dce49a9",
   "metadata": {},
   "source": [
    "# Transformaciones\n"
   ]
  },
  {
   "cell_type": "markdown",
   "id": "e7b11602",
   "metadata": {},
   "source": [
    "## Joins\n",
    "<b>Los joins son una serie de sentencias las cuales tienen como objetivo el combinar 2 tablas de datos. Dependiendo del objetivo del usuario estas pueden separarse en:</b>\n",
    "\n",
    "- Inner join\n",
    "- Left join\n",
    "- Outer join\n",
    "- Cross join\n",
    "- Semi join\n",
    "- Anti join\n",
    "- Asof join\n",
    "\n",
    "\n",
    "![joins](https://help.pyramidanalytics.com/content/root/MainClient/apps/Model/Model%20Pro/Data%20Flow/Joins/Images/UnionDiagram.png)"
   ]
  },
  {
   "cell_type": "markdown",
   "id": "5c7136f9",
   "metadata": {},
   "source": [
    "Con el proposito de presentar mejor cada función, crearemos 2 data frames, el primero llamado 'Estudiantes', el cual tendra como atributos: 'ID_Estudiante','Nombre', 'Edad', 'Carrera' y 'Sexo'. Y el segundo llamado 'Notas', el cual tendra como atributos:'ID_Notas', 'ID_Estudiante' y 'Nota'. La llave foranea (es decir la columna que unira a ambos data frames) sera 'ID_Estudiante'."
   ]
  },
  {
   "cell_type": "code",
   "execution_count": 34,
   "id": "ca3a5efb",
   "metadata": {},
   "outputs": [
    {
     "name": "stdout",
     "output_type": "stream",
     "text": [
      "shape: (6, 5)\n",
      "┌───────────────┬──────────┬──────┬─────────────────────────┬──────┐\n",
      "│ ID_Estudiante ┆ Nombre   ┆ Edad ┆ Carrera                 ┆ Sexo │\n",
      "│ ---           ┆ ---      ┆ ---  ┆ ---                     ┆ ---  │\n",
      "│ i64           ┆ str      ┆ i64  ┆ str                     ┆ str  │\n",
      "╞═══════════════╪══════════╪══════╪═════════════════════════╪══════╡\n",
      "│ 1001          ┆ Juliana  ┆ 21   ┆ Estadistica Informatica ┆ F    │\n",
      "│ 1002          ┆ Fernando ┆ 19   ┆ Economia                ┆ M    │\n",
      "│ 1003          ┆ Lucero   ┆ 19   ┆ Gestion                 ┆ F    │\n",
      "│ 1004          ┆ Josselyn ┆ 20   ┆ Gestion                 ┆ F    │\n",
      "│ 1005          ┆ Ismael   ┆ 29   ┆ Economia                ┆ M    │\n",
      "│ 1006          ┆ Ximena   ┆ 20   ┆ Estadistica Informatica ┆ F    │\n",
      "└───────────────┴──────────┴──────┴─────────────────────────┴──────┘\n",
      "shape: (5, 3)\n",
      "┌──────────┬───────────────┬──────┐\n",
      "│ ID_Notas ┆ ID_Estudiante ┆ Nota │\n",
      "│ ---      ┆ ---           ┆ ---  │\n",
      "│ i64      ┆ i64           ┆ i64  │\n",
      "╞══════════╪═══════════════╪══════╡\n",
      "│ 2001     ┆ 1001          ┆ 18   │\n",
      "│ 2002     ┆ 1002          ┆ 0    │\n",
      "│ 2003     ┆ 1003          ┆ 10   │\n",
      "│ 2004     ┆ 1004          ┆ 17   │\n",
      "│ 2005     ┆ 1005          ┆ 20   │\n",
      "└──────────┴───────────────┴──────┘\n"
     ]
    }
   ],
   "source": [
    "import polars as pl\n",
    "from datetime import datetime\n",
    "\n",
    "Estudiantes = pl.DataFrame({\"ID_Estudiante\":[1001,1002,1003,1004,1005,1006]\n",
    "                            ,\"Nombre\":[\"Juliana\",\"Fernando\",\"Lucero\",\"Josselyn\",\"Ismael\",\"Ximena\"]\n",
    "                     , \"Edad\":[21,19,19,20,29,20], \"Carrera\":[\"Estadistica Informatica\",\"Economia\",\"Gestion\",\"Gestion\",\"Economia\",\"Estadistica Informatica\"]\n",
    "                     , \"Sexo\":[\"F\",\"M\",\"F\",\"F\",\"M\",\"F\"]})\n",
    "\n",
    "Notas = pl.DataFrame({\"ID_Notas\":[2001,2002,2003,2004,2005], \"ID_Estudiante\":[1001,1002,1003,1004,1005],\"Nota\":[18,0,10,17,20]})\n",
    "\n",
    "print(Estudiantes)\n",
    "print(Notas)\n"
   ]
  },
  {
   "cell_type": "markdown",
   "id": "1e5f6e99",
   "metadata": {},
   "source": [
    "### Inner join:\n",
    "<b>La función 'inner join' une aquellas filas de ambas tablas que tengan un parametro en comun el cual sera definido por 'on', es decir que generara un data frame con la interseccion de ambas tablas.</b>"
   ]
  },
  {
   "cell_type": "code",
   "execution_count": 35,
   "id": "6f083f12",
   "metadata": {},
   "outputs": [
    {
     "name": "stdout",
     "output_type": "stream",
     "text": [
      "shape: (5, 7)\n",
      "┌───────────────┬──────────┬──────┬─────────────────────────┬──────┬──────────┬──────┐\n",
      "│ ID_Estudiante ┆ Nombre   ┆ Edad ┆ Carrera                 ┆ Sexo ┆ ID_Notas ┆ Nota │\n",
      "│ ---           ┆ ---      ┆ ---  ┆ ---                     ┆ ---  ┆ ---      ┆ ---  │\n",
      "│ i64           ┆ str      ┆ i64  ┆ str                     ┆ str  ┆ i64      ┆ i64  │\n",
      "╞═══════════════╪══════════╪══════╪═════════════════════════╪══════╪══════════╪══════╡\n",
      "│ 1001          ┆ Juliana  ┆ 21   ┆ Estadistica Informatica ┆ F    ┆ 2001     ┆ 18   │\n",
      "│ 1002          ┆ Fernando ┆ 19   ┆ Economia                ┆ M    ┆ 2002     ┆ 0    │\n",
      "│ 1003          ┆ Lucero   ┆ 19   ┆ Gestion                 ┆ F    ┆ 2003     ┆ 10   │\n",
      "│ 1004          ┆ Josselyn ┆ 20   ┆ Gestion                 ┆ F    ┆ 2004     ┆ 17   │\n",
      "│ 1005          ┆ Ismael   ┆ 29   ┆ Economia                ┆ M    ┆ 2005     ┆ 20   │\n",
      "└───────────────┴──────────┴──────┴─────────────────────────┴──────┴──────────┴──────┘\n"
     ]
    }
   ],
   "source": [
    "inner_join = Estudiantes.join(Notas,how=\"inner\",on=\"ID_Estudiante\")\n",
    "\n",
    "print(inner_join)"
   ]
  },
  {
   "cell_type": "markdown",
   "id": "dba190f0",
   "metadata": {},
   "source": [
    "### Left join:\n",
    "<b>La función 'left join' une aquellas filas de la segunda tabla que tengan un parametro en comun con la primera tabla, manteniendo esta ultima.</b>"
   ]
  },
  {
   "cell_type": "code",
   "execution_count": 36,
   "id": "4b6f5120",
   "metadata": {},
   "outputs": [
    {
     "name": "stdout",
     "output_type": "stream",
     "text": [
      "shape: (6, 7)\n",
      "┌───────────────┬──────────┬──────┬─────────────────────────┬──────┬──────────┬──────┐\n",
      "│ ID_Estudiante ┆ Nombre   ┆ Edad ┆ Carrera                 ┆ Sexo ┆ ID_Notas ┆ Nota │\n",
      "│ ---           ┆ ---      ┆ ---  ┆ ---                     ┆ ---  ┆ ---      ┆ ---  │\n",
      "│ i64           ┆ str      ┆ i64  ┆ str                     ┆ str  ┆ i64      ┆ i64  │\n",
      "╞═══════════════╪══════════╪══════╪═════════════════════════╪══════╪══════════╪══════╡\n",
      "│ 1001          ┆ Juliana  ┆ 21   ┆ Estadistica Informatica ┆ F    ┆ 2001     ┆ 18   │\n",
      "│ 1002          ┆ Fernando ┆ 19   ┆ Economia                ┆ M    ┆ 2002     ┆ 0    │\n",
      "│ 1003          ┆ Lucero   ┆ 19   ┆ Gestion                 ┆ F    ┆ 2003     ┆ 10   │\n",
      "│ 1004          ┆ Josselyn ┆ 20   ┆ Gestion                 ┆ F    ┆ 2004     ┆ 17   │\n",
      "│ 1005          ┆ Ismael   ┆ 29   ┆ Economia                ┆ M    ┆ 2005     ┆ 20   │\n",
      "│ 1006          ┆ Ximena   ┆ 20   ┆ Estadistica Informatica ┆ F    ┆ null     ┆ null │\n",
      "└───────────────┴──────────┴──────┴─────────────────────────┴──────┴──────────┴──────┘\n",
      "shape: (5, 7)\n",
      "┌──────────┬───────────────┬──────┬──────────┬──────┬─────────────────────────┬──────┐\n",
      "│ ID_Notas ┆ ID_Estudiante ┆ Nota ┆ Nombre   ┆ Edad ┆ Carrera                 ┆ Sexo │\n",
      "│ ---      ┆ ---           ┆ ---  ┆ ---      ┆ ---  ┆ ---                     ┆ ---  │\n",
      "│ i64      ┆ i64           ┆ i64  ┆ str      ┆ i64  ┆ str                     ┆ str  │\n",
      "╞══════════╪═══════════════╪══════╪══════════╪══════╪═════════════════════════╪══════╡\n",
      "│ 2001     ┆ 1001          ┆ 18   ┆ Juliana  ┆ 21   ┆ Estadistica Informatica ┆ F    │\n",
      "│ 2002     ┆ 1002          ┆ 0    ┆ Fernando ┆ 19   ┆ Economia                ┆ M    │\n",
      "│ 2003     ┆ 1003          ┆ 10   ┆ Lucero   ┆ 19   ┆ Gestion                 ┆ F    │\n",
      "│ 2004     ┆ 1004          ┆ 17   ┆ Josselyn ┆ 20   ┆ Gestion                 ┆ F    │\n",
      "│ 2005     ┆ 1005          ┆ 20   ┆ Ismael   ┆ 29   ┆ Economia                ┆ M    │\n",
      "└──────────┴───────────────┴──────┴──────────┴──────┴─────────────────────────┴──────┘\n"
     ]
    }
   ],
   "source": [
    "left_join_1 = Estudiantes.join(Notas,how=\"left\",on=\"ID_Estudiante\")\n",
    "\n",
    "left_join_2 = Notas.join(Estudiantes,how=\"left\",on=\"ID_Estudiante\")\n",
    "\n",
    "print(left_join_1)\n",
    "print(left_join_2)\n"
   ]
  },
  {
   "cell_type": "markdown",
   "id": "89f6dc96",
   "metadata": {},
   "source": [
    "### Outer join:\n",
    "<b>La función 'outer join' que genera un data frame con las filas de ambos data frames ingresados, ademas pueden existir columnas nulas si la clave foranea no existe en la segunda tabla.</b>"
   ]
  },
  {
   "cell_type": "code",
   "execution_count": 37,
   "id": "08a25da8",
   "metadata": {},
   "outputs": [
    {
     "name": "stdout",
     "output_type": "stream",
     "text": [
      "shape: (6, 7)\n",
      "┌───────────────┬──────────┬──────┬─────────────────────────┬──────┬──────────┬──────┐\n",
      "│ ID_Estudiante ┆ Nombre   ┆ Edad ┆ Carrera                 ┆ Sexo ┆ ID_Notas ┆ Nota │\n",
      "│ ---           ┆ ---      ┆ ---  ┆ ---                     ┆ ---  ┆ ---      ┆ ---  │\n",
      "│ i64           ┆ str      ┆ i64  ┆ str                     ┆ str  ┆ i64      ┆ i64  │\n",
      "╞═══════════════╪══════════╪══════╪═════════════════════════╪══════╪══════════╪══════╡\n",
      "│ 1001          ┆ Juliana  ┆ 21   ┆ Estadistica Informatica ┆ F    ┆ 2001     ┆ 18   │\n",
      "│ 1002          ┆ Fernando ┆ 19   ┆ Economia                ┆ M    ┆ 2002     ┆ 0    │\n",
      "│ 1003          ┆ Lucero   ┆ 19   ┆ Gestion                 ┆ F    ┆ 2003     ┆ 10   │\n",
      "│ 1004          ┆ Josselyn ┆ 20   ┆ Gestion                 ┆ F    ┆ 2004     ┆ 17   │\n",
      "│ 1005          ┆ Ismael   ┆ 29   ┆ Economia                ┆ M    ┆ 2005     ┆ 20   │\n",
      "│ 1006          ┆ Ximena   ┆ 20   ┆ Estadistica Informatica ┆ F    ┆ null     ┆ null │\n",
      "└───────────────┴──────────┴──────┴─────────────────────────┴──────┴──────────┴──────┘\n",
      "shape: (6, 7)\n",
      "┌──────────┬───────────────┬──────┬──────────┬──────┬─────────────────────────┬──────┐\n",
      "│ ID_Notas ┆ ID_Estudiante ┆ Nota ┆ Nombre   ┆ Edad ┆ Carrera                 ┆ Sexo │\n",
      "│ ---      ┆ ---           ┆ ---  ┆ ---      ┆ ---  ┆ ---                     ┆ ---  │\n",
      "│ i64      ┆ i64           ┆ i64  ┆ str      ┆ i64  ┆ str                     ┆ str  │\n",
      "╞══════════╪═══════════════╪══════╪══════════╪══════╪═════════════════════════╪══════╡\n",
      "│ 2001     ┆ 1001          ┆ 18   ┆ Juliana  ┆ 21   ┆ Estadistica Informatica ┆ F    │\n",
      "│ 2002     ┆ 1002          ┆ 0    ┆ Fernando ┆ 19   ┆ Economia                ┆ M    │\n",
      "│ 2003     ┆ 1003          ┆ 10   ┆ Lucero   ┆ 19   ┆ Gestion                 ┆ F    │\n",
      "│ 2004     ┆ 1004          ┆ 17   ┆ Josselyn ┆ 20   ┆ Gestion                 ┆ F    │\n",
      "│ 2005     ┆ 1005          ┆ 20   ┆ Ismael   ┆ 29   ┆ Economia                ┆ M    │\n",
      "│ null     ┆ 1006          ┆ null ┆ Ximena   ┆ 20   ┆ Estadistica Informatica ┆ F    │\n",
      "└──────────┴───────────────┴──────┴──────────┴──────┴─────────────────────────┴──────┘\n"
     ]
    }
   ],
   "source": [
    "outer_join_1 = Estudiantes.join(Notas,on = \"ID_Estudiante\",how=\"outer\")\n",
    "\n",
    "outer_join_2 = Notas.join(Estudiantes, on = \"ID_Estudiante\",how= \"outer\")\n",
    "\n",
    "print(outer_join_1)\n",
    "print(outer_join_2)"
   ]
  },
  {
   "cell_type": "markdown",
   "id": "9919a32f",
   "metadata": {},
   "source": [
    "### Cross join:\n",
    "<b>La función 'cross join' genera un data frame con todas las posibles combinaciones de filas entre los 2 data frame ingresados.</b>\n"
   ]
  },
  {
   "cell_type": "markdown",
   "id": "2e423ba2",
   "metadata": {},
   "source": [
    "En este ejemplo queremos obtener todas las maneras diferentes en que podemos vestir a una persona, para ello, creamos 2 data frames, el primero llamado 'camisas' el cual tendra como atributos 'camisa_color' con los posibles colores de camisas y 'Marca_camisa' con las respectivas marcas de camisas, el segundo data frame contendra 'pantalon_color' con los posibles colores de pantalones y 'Marca_pantalon' con las respetivas marcas de pantalones."
   ]
  },
  {
   "cell_type": "code",
   "execution_count": 38,
   "id": "e772754c",
   "metadata": {},
   "outputs": [
    {
     "name": "stdout",
     "output_type": "stream",
     "text": [
      "shape: (3, 2)\n",
      "┌──────────────┬──────────────┐\n",
      "│ Camisa_Color ┆ Marca_Camisa │\n",
      "│ ---          ┆ ---          │\n",
      "│ str          ┆ str          │\n",
      "╞══════════════╪══════════════╡\n",
      "│ Rojo         ┆ Charvet      │\n",
      "│ Azul         ┆ Lorenzini    │\n",
      "│ Negro        ┆ Kabbaz       │\n",
      "└──────────────┴──────────────┘\n",
      "shape: (3, 2)\n",
      "┌────────────────┬────────────────┐\n",
      "│ Pantalon_Color ┆ Marca_pantalon │\n",
      "│ ---            ┆ ---            │\n",
      "│ str            ┆ str            │\n",
      "╞════════════════╪════════════════╡\n",
      "│ Negro          ┆ Levis          │\n",
      "│ Marron         ┆ The brand      │\n",
      "│ Azul           ┆ AJ             │\n",
      "└────────────────┴────────────────┘\n"
     ]
    }
   ],
   "source": [
    "Camisas = pl.DataFrame({\"Camisa_Color\":[\"Rojo\",\"Azul\",\"Negro\"], \"Marca_Camisa\":[\"Charvet\",\"Lorenzini\",\"Kabbaz\"]})\n",
    "\n",
    "Pantalones = pl.DataFrame({\"Pantalon_Color\":[\"Negro\",\"Marron\",\"Azul\"], \"Marca_pantalon\":[\"Levis\",\"The brand\",\"AJ\"]})\n",
    "\n",
    "print(Camisas)\n",
    "print(Pantalones)"
   ]
  },
  {
   "cell_type": "code",
   "execution_count": 39,
   "id": "b96dca20",
   "metadata": {},
   "outputs": [
    {
     "name": "stdout",
     "output_type": "stream",
     "text": [
      "shape: (9, 4)\n",
      "┌──────────────┬──────────────┬────────────────┬────────────────┐\n",
      "│ Camisa_Color ┆ Marca_Camisa ┆ Pantalon_Color ┆ Marca_pantalon │\n",
      "│ ---          ┆ ---          ┆ ---            ┆ ---            │\n",
      "│ str          ┆ str          ┆ str            ┆ str            │\n",
      "╞══════════════╪══════════════╪════════════════╪════════════════╡\n",
      "│ Rojo         ┆ Charvet      ┆ Negro          ┆ Levis          │\n",
      "│ Rojo         ┆ Charvet      ┆ Marron         ┆ The brand      │\n",
      "│ Rojo         ┆ Charvet      ┆ Azul           ┆ AJ             │\n",
      "│ Azul         ┆ Lorenzini    ┆ Negro          ┆ Levis          │\n",
      "│ Azul         ┆ Lorenzini    ┆ Marron         ┆ The brand      │\n",
      "│ Azul         ┆ Lorenzini    ┆ Azul           ┆ AJ             │\n",
      "│ Negro        ┆ Kabbaz       ┆ Negro          ┆ Levis          │\n",
      "│ Negro        ┆ Kabbaz       ┆ Marron         ┆ The brand      │\n",
      "│ Negro        ┆ Kabbaz       ┆ Azul           ┆ AJ             │\n",
      "└──────────────┴──────────────┴────────────────┴────────────────┘\n"
     ]
    }
   ],
   "source": [
    "Cross_join = Camisas.join(Pantalones,how=\"cross\")\n",
    "print(Cross_join)"
   ]
  },
  {
   "cell_type": "markdown",
   "id": "38f15794",
   "metadata": {},
   "source": [
    "### Semi join:\n",
    "<b>La función 'semi join' tiene como objetivo generar un data frame con los mismos atributos de la primera tabla pero manteniendo solo aquellas filas las cuales tenian una llave foranea que aparecia tambien en la segunda tabla.</b>"
   ]
  },
  {
   "cell_type": "code",
   "execution_count": 40,
   "id": "5013c7bd",
   "metadata": {},
   "outputs": [
    {
     "name": "stdout",
     "output_type": "stream",
     "text": [
      "shape: (5, 5)\n",
      "┌───────────────┬──────────┬──────┬─────────────────────────┬──────┐\n",
      "│ ID_Estudiante ┆ Nombre   ┆ Edad ┆ Carrera                 ┆ Sexo │\n",
      "│ ---           ┆ ---      ┆ ---  ┆ ---                     ┆ ---  │\n",
      "│ i64           ┆ str      ┆ i64  ┆ str                     ┆ str  │\n",
      "╞═══════════════╪══════════╪══════╪═════════════════════════╪══════╡\n",
      "│ 1001          ┆ Juliana  ┆ 21   ┆ Estadistica Informatica ┆ F    │\n",
      "│ 1002          ┆ Fernando ┆ 19   ┆ Economia                ┆ M    │\n",
      "│ 1003          ┆ Lucero   ┆ 19   ┆ Gestion                 ┆ F    │\n",
      "│ 1004          ┆ Josselyn ┆ 20   ┆ Gestion                 ┆ F    │\n",
      "│ 1005          ┆ Ismael   ┆ 29   ┆ Economia                ┆ M    │\n",
      "└───────────────┴──────────┴──────┴─────────────────────────┴──────┘\n",
      "shape: (5, 3)\n",
      "┌──────────┬───────────────┬──────┐\n",
      "│ ID_Notas ┆ ID_Estudiante ┆ Nota │\n",
      "│ ---      ┆ ---           ┆ ---  │\n",
      "│ i64      ┆ i64           ┆ i64  │\n",
      "╞══════════╪═══════════════╪══════╡\n",
      "│ 2001     ┆ 1001          ┆ 18   │\n",
      "│ 2002     ┆ 1002          ┆ 0    │\n",
      "│ 2003     ┆ 1003          ┆ 10   │\n",
      "│ 2004     ┆ 1004          ┆ 17   │\n",
      "│ 2005     ┆ 1005          ┆ 20   │\n",
      "└──────────┴───────────────┴──────┘\n"
     ]
    }
   ],
   "source": [
    "semi_join_1 = Estudiantes.join(Notas,how=\"semi\",on=\"ID_Estudiante\")\n",
    "print(semi_join_1)\n",
    "\n",
    "semi_join_2 = Notas.join(Estudiantes,how=\"semi\",on=\"ID_Estudiante\")\n",
    "print(semi_join_2)\n"
   ]
  },
  {
   "cell_type": "markdown",
   "id": "d5203b31",
   "metadata": {},
   "source": [
    "### Anti join:\n",
    "<b>La función 'anti join' tiene como objetivo el devolver un data frame con los mismos atributos de la primera tabla pero manteniendo solo aquellas filas las cuales NO tenian una llave foranea que aparecia tambien en la segunda tabla.</b>"
   ]
  },
  {
   "cell_type": "markdown",
   "id": "d1c21084",
   "metadata": {},
   "source": [
    "Para explicar mejor esta y la función que sigue crearemos unos nuevos data frames, los cuales seran, 'Vendedores' con atributos: 'ID_Vendedor' y 'Nombre'. Y 'Ventas' con atributos: 'ID_Venta', 'Monto', 'ID_Vendedor' y 'Fecha y hora'. En las que el atributo 'ID_Vendedor' estara designada como llave foranea."
   ]
  },
  {
   "cell_type": "code",
   "execution_count": 33,
   "id": "c00db699",
   "metadata": {},
   "outputs": [
    {
     "name": "stdout",
     "output_type": "stream",
     "text": [
      "shape: (4, 2)\n",
      "┌─────────────┬─────────┐\n",
      "│ ID_Vendedor ┆ Nombre  │\n",
      "│ ---         ┆ ---     │\n",
      "│ i64         ┆ str     │\n",
      "╞═════════════╪═════════╡\n",
      "│ 2001        ┆ Luigi   │\n",
      "│ 2002        ┆ Antonio │\n",
      "│ 2003        ┆ Ismael  │\n",
      "│ 2004        ┆ Diego   │\n",
      "└─────────────┴─────────┘\n",
      "shape: (7, 4)\n",
      "┌──────────┬───────┬─────────────┬─────────────────────┐\n",
      "│ ID_Venta ┆ Monto ┆ ID_Vendedor ┆ Fecha y hora        │\n",
      "│ ---      ┆ ---   ┆ ---         ┆ ---                 │\n",
      "│ i64      ┆ i64   ┆ i64         ┆ datetime[μs]        │\n",
      "╞══════════╪═══════╪═════════════╪═════════════════════╡\n",
      "│ 1        ┆ 150   ┆ 2001        ┆ 2023-01-01 08:35:00 │\n",
      "│ 2        ┆ 200   ┆ 2004        ┆ 2023-01-01 09:35:00 │\n",
      "│ 3        ┆ 70    ┆ 2001        ┆ 2023-01-01 10:35:00 │\n",
      "│ 4        ┆ 97    ┆ 2004        ┆ 2023-01-01 08:20:00 │\n",
      "│ 5        ┆ 500   ┆ 2001        ┆ 2023-01-01 10:15:00 │\n",
      "│ 6        ┆ 466   ┆ 2001        ┆ 2023-01-01 13:35:00 │\n",
      "│ 7        ┆ 500   ┆ 2001        ┆ 2023-01-01 15:35:00 │\n",
      "└──────────┴───────┴─────────────┴─────────────────────┘\n"
     ]
    }
   ],
   "source": [
    "Vendedores = pl.DataFrame({\"ID_Vendedor\":[2001,2002,2003,2004], \"Nombre\":[\"Luigi\",\"Antonio\",\"Ismael\",\"Diego\"]})\n",
    "\n",
    "Ventas = pl.DataFrame({\"ID_Venta\":[1,2,3,4,5,6,7], \"Monto\":[150,200,70,97,500,466,500],\n",
    "                       \"ID_Vendedor\":[2001,2004,2001,2004,2001,2001,2001],\n",
    "                      \"Fecha y hora\":[datetime(2023,1,1,8,35,0),datetime(2023,1,1,9,35,0),datetime(2023,1,1,10,35,0),\n",
    "                                      datetime(2023,1,1,8,20,0),datetime(2023,1,1,10,15,0),datetime(2023,1,1,13,35,0),\n",
    "                                      datetime(2023,1,1,15,35,0)]})\n",
    "print(Vendedores)\n",
    "print(Ventas)"
   ]
  },
  {
   "cell_type": "code",
   "execution_count": 32,
   "id": "9cf1260e",
   "metadata": {},
   "outputs": [
    {
     "name": "stdout",
     "output_type": "stream",
     "text": [
      "shape: (2, 2)\n",
      "┌─────────────┬─────────┐\n",
      "│ ID_Vendedor ┆ Nombre  │\n",
      "│ ---         ┆ ---     │\n",
      "│ i64         ┆ str     │\n",
      "╞═════════════╪═════════╡\n",
      "│ 2002        ┆ Antonio │\n",
      "│ 2003        ┆ Ismael  │\n",
      "└─────────────┴─────────┘\n",
      "shape: (0, 4)\n",
      "┌──────────┬───────┬─────────────┬──────────────┐\n",
      "│ ID_Venta ┆ Monto ┆ ID_Vendedor ┆ Fecha y hora │\n",
      "│ ---      ┆ ---   ┆ ---         ┆ ---          │\n",
      "│ i64      ┆ i64   ┆ i64         ┆ datetime[μs] │\n",
      "╞══════════╪═══════╪═════════════╪══════════════╡\n",
      "└──────────┴───────┴─────────────┴──────────────┘\n"
     ]
    }
   ],
   "source": [
    "anti_join_1 = Vendedores.join(Ventas,how=\"anti\",on=\"ID_Vendedor\")\n",
    "anti_join_2 = Ventas.join(Vendedores,how=\"anti\",on=\"ID_Vendedor\")\n",
    "print(anti_join_1)\n",
    "print(anti_join_2)"
   ]
  },
  {
   "cell_type": "markdown",
   "id": "e41ac009",
   "metadata": {},
   "source": [
    "### Asof join:"
   ]
  },
  {
   "cell_type": "code",
   "execution_count": 20,
   "id": "39ce6596",
   "metadata": {},
   "outputs": [
    {
     "ename": "ValueError",
     "evalue": "how must be one of {'inner', 'left', 'outer', 'semi', 'anti', 'cross'}, got asof",
     "output_type": "error",
     "traceback": [
      "\u001b[1;31m---------------------------------------------------------------------------\u001b[0m",
      "\u001b[1;31mValueError\u001b[0m                                Traceback (most recent call last)",
      "\u001b[1;32m~\\AppData\\Local\\Temp\\ipykernel_17176\\743612884.py\u001b[0m in \u001b[0;36m<module>\u001b[1;34m\u001b[0m\n\u001b[1;32m----> 1\u001b[1;33m \u001b[0mAsof_join\u001b[0m\u001b[1;33m=\u001b[0m \u001b[0mVendedores\u001b[0m\u001b[1;33m.\u001b[0m\u001b[0mjoin\u001b[0m\u001b[1;33m(\u001b[0m\u001b[0mVentas\u001b[0m\u001b[1;33m,\u001b[0m\u001b[0mhow\u001b[0m\u001b[1;33m=\u001b[0m\u001b[1;34m\"asof\"\u001b[0m\u001b[1;33m,\u001b[0m\u001b[0mon\u001b[0m\u001b[1;33m=\u001b[0m\u001b[1;34m\"ID_Vendedor\"\u001b[0m\u001b[1;33m)\u001b[0m\u001b[1;33m\u001b[0m\u001b[1;33m\u001b[0m\u001b[0m\n\u001b[0m",
      "\u001b[1;32m~\\anaconda3\\lib\\site-packages\\polars\\dataframe\\frame.py\u001b[0m in \u001b[0;36mjoin\u001b[1;34m(self, other, on, how, left_on, right_on, suffix)\u001b[0m\n\u001b[0;32m   5405\u001b[0m \u001b[1;33m\u001b[0m\u001b[0m\n\u001b[0;32m   5406\u001b[0m         return self._from_pydf(\n\u001b[1;32m-> 5407\u001b[1;33m             \u001b[0mself\u001b[0m\u001b[1;33m.\u001b[0m\u001b[0mlazy\u001b[0m\u001b[1;33m(\u001b[0m\u001b[1;33m)\u001b[0m\u001b[1;33m\u001b[0m\u001b[1;33m\u001b[0m\u001b[0m\n\u001b[0m\u001b[0;32m   5408\u001b[0m             .join(\n\u001b[0;32m   5409\u001b[0m                 \u001b[0mother\u001b[0m\u001b[1;33m=\u001b[0m\u001b[0mother\u001b[0m\u001b[1;33m.\u001b[0m\u001b[0mlazy\u001b[0m\u001b[1;33m(\u001b[0m\u001b[1;33m)\u001b[0m\u001b[1;33m,\u001b[0m\u001b[1;33m\u001b[0m\u001b[1;33m\u001b[0m\u001b[0m\n",
      "\u001b[1;32m~\\anaconda3\\lib\\site-packages\\polars\\lazyframe\\frame.py\u001b[0m in \u001b[0;36mjoin\u001b[1;34m(self, other, on, how, left_on, right_on, suffix, allow_parallel, force_parallel)\u001b[0m\n\u001b[0;32m   3013\u001b[0m \u001b[1;33m\u001b[0m\u001b[0m\n\u001b[0;32m   3014\u001b[0m         return self._from_pyldf(\n\u001b[1;32m-> 3015\u001b[1;33m             self._ldf.join(\n\u001b[0m\u001b[0;32m   3016\u001b[0m                 \u001b[0mother\u001b[0m\u001b[1;33m.\u001b[0m\u001b[0m_ldf\u001b[0m\u001b[1;33m,\u001b[0m\u001b[1;33m\u001b[0m\u001b[1;33m\u001b[0m\u001b[0m\n\u001b[0;32m   3017\u001b[0m                 \u001b[0mpyexprs_left\u001b[0m\u001b[1;33m,\u001b[0m\u001b[1;33m\u001b[0m\u001b[1;33m\u001b[0m\u001b[0m\n",
      "\u001b[1;31mValueError\u001b[0m: how must be one of {'inner', 'left', 'outer', 'semi', 'anti', 'cross'}, got asof"
     ]
    }
   ],
   "source": [
    "\n",
    "Asof_join= Vendedores.join_asof(Ventas,how=\"asof\",on=\"ID_Vendedor\")"
   ]
  },
  {
   "cell_type": "markdown",
   "id": "573c291e",
   "metadata": {},
   "source": [
    "## Concatenación\n",
    "<b>Se hace referencia a juntar o unir 2 data frames separados, para ello se utiliza la función 'concat'.</b>\n",
    "\n",
    "![imagen2](https://4.bp.blogspot.com/-FF1BB_1Nmuk/WHf7Nd7t0nI/AAAAAAAAC_c/t-aI-S-w2JMcaGk9VCoq3iqVdoFuNZ6jwCLcB/s1600/tabulate.png)"
   ]
  },
  {
   "cell_type": "markdown",
   "id": "34112ee3",
   "metadata": {},
   "source": [
    "### Concatenación vertical (how = vertical):\n",
    "<b>Tiene como función concatenar todos los data frames de una lista en el orden en que fueron escritos en esta, uno encima de otro, de modo que todos los data frames tengan las mismas columnas.</b>"
   ]
  },
  {
   "cell_type": "markdown",
   "id": "891d05ff",
   "metadata": {},
   "source": [
    "Para este ejemplo creamos 3 data frames los cuales como condición importante es que deben tener el mismo número y nombre de columnas:"
   ]
  },
  {
   "cell_type": "code",
   "execution_count": 51,
   "id": "bde7f118",
   "metadata": {},
   "outputs": [
    {
     "name": "stdout",
     "output_type": "stream",
     "text": [
      "shape: (4, 2)\n",
      "┌─────┬─────┐\n",
      "│ a   ┆ b   │\n",
      "│ --- ┆ --- │\n",
      "│ i64 ┆ i64 │\n",
      "╞═════╪═════╡\n",
      "│ 1   ┆ 3   │\n",
      "│ 2   ┆ 2   │\n",
      "│ 5   ┆ 7   │\n",
      "│ 9   ┆ 11  │\n",
      "└─────┴─────┘\n"
     ]
    }
   ],
   "source": [
    "tabla1 = pl.DataFrame({\"a\":[1,2],\"b\":[3,2]})\n",
    "tabla2 = pl.DataFrame({\"a\":[5],\"b\":[7]})\n",
    "tabla3 = pl.DataFrame({\"a\":[9],\"b\":[11]})\n",
    "\n",
    "concatenacion_vertical = pl.concat([tabla1,tabla2,tabla3],how=\"vertical\",)\n",
    "print(concatenacion_vertical)"
   ]
  },
  {
   "cell_type": "markdown",
   "id": "ccc48b7b",
   "metadata": {},
   "source": [
    "## Concatenación horizontal:\n",
    "<b>Tiene como función concatenar todos los data frames de una lista en el orden en que fueron escritos en esta, uno al costado de otro, de manera que todos tengan el mismo número de filas.</b>"
   ]
  },
  {
   "cell_type": "markdown",
   "id": "a976e97d",
   "metadata": {},
   "source": [
    "Para este ejemplo creamos 3 data frames los cuales como unica condición es que deben tener el mismo numero de filas:"
   ]
  },
  {
   "cell_type": "code",
   "execution_count": 55,
   "id": "34a57635",
   "metadata": {},
   "outputs": [
    {
     "name": "stdout",
     "output_type": "stream",
     "text": [
      "shape: (3, 9)\n",
      "┌─────┬─────┬─────┬─────┬───┬─────┬─────┬─────┬─────┐\n",
      "│ a   ┆ b   ┆ c   ┆ d   ┆ … ┆ f   ┆ g   ┆ h   ┆ i   │\n",
      "│ --- ┆ --- ┆ --- ┆ --- ┆   ┆ --- ┆ --- ┆ --- ┆ --- │\n",
      "│ i64 ┆ i64 ┆ i64 ┆ i64 ┆   ┆ i64 ┆ i64 ┆ i64 ┆ i64 │\n",
      "╞═════╪═════╪═════╪═════╪═══╪═════╪═════╪═════╪═════╡\n",
      "│ 1   ┆ 3   ┆ 3   ┆ 5   ┆ … ┆ 2   ┆ 9   ┆ 11  ┆ 4   │\n",
      "│ 2   ┆ 0   ┆ 5   ┆ 4   ┆ … ┆ 5   ┆ 47  ┆ 5   ┆ 5   │\n",
      "│ 5   ┆ 2   ┆ 6   ┆ 5   ┆ … ┆ 6   ┆ 4   ┆ 7   ┆ 6   │\n",
      "└─────┴─────┴─────┴─────┴───┴─────┴─────┴─────┴─────┘\n"
     ]
    }
   ],
   "source": [
    "tabla1 = pl.DataFrame({\"a\":[1,2,5],\"b\":[3,0,2],\"c\":[3,5,6]})\n",
    "tabla2 = pl.DataFrame({\"d\":[5,4,5],\"e\":[7,100,0],\"f\":[2,5,6]})\n",
    "tabla3 = pl.DataFrame({\"g\":[9,47,4],\"h\":[11,5,7],\"i\":[4,5,6]})\n",
    "\n",
    "concatenacion_horizontal = pl.concat([tabla1,tabla2,tabla3],how=\"horizontal\")\n",
    "print(concatenacion_horizontal)"
   ]
  },
  {
   "cell_type": "markdown",
   "id": "7a56b9aa",
   "metadata": {},
   "source": [
    "## Concatenación diagonal\n",
    "<b>Tiene com funcion concatenar todos los data frames de una lista en el orden en que fueron escritos, sin embargo a diferencia de las anteriores aplicaciones, aqui no existe restricciones de filas ni de columnas, ya que en caso de faltar datos los autocompletara con null.</b>"
   ]
  },
  {
   "cell_type": "markdown",
   "id": "ff0b0620",
   "metadata": {},
   "source": [
    "Para este ejemplo"
   ]
  }
 ],
 "metadata": {
  "kernelspec": {
   "display_name": "Python 3 (ipykernel)",
   "language": "python",
   "name": "python3"
  },
  "language_info": {
   "codemirror_mode": {
    "name": "ipython",
    "version": 3
   },
   "file_extension": ".py",
   "mimetype": "text/x-python",
   "name": "python",
   "nbconvert_exporter": "python",
   "pygments_lexer": "ipython3",
   "version": "3.9.13"
  }
 },
 "nbformat": 4,
 "nbformat_minor": 5
}
