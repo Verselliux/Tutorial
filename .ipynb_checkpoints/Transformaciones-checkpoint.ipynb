{
 "cells": [
  {
   "cell_type": "markdown",
   "id": "2dce49a9",
   "metadata": {},
   "source": [
    "# Transformaciones\n",
    "Creamos un data frame con "
   ]
  },
  {
   "cell_type": "code",
   "execution_count": 21,
   "id": "ca3a5efb",
   "metadata": {},
   "outputs": [
    {
     "name": "stdout",
     "output_type": "stream",
     "text": [
      "shape: (6, 5)\n",
      "┌───────────────┬──────────┬──────┬─────────────────────────┬──────┐\n",
      "│ ID_Estudiante ┆ Nombre   ┆ Edad ┆ Carrera                 ┆ Sexo │\n",
      "│ ---           ┆ ---      ┆ ---  ┆ ---                     ┆ ---  │\n",
      "│ i64           ┆ str      ┆ i64  ┆ str                     ┆ str  │\n",
      "╞═══════════════╪══════════╪══════╪═════════════════════════╪══════╡\n",
      "│ 1001          ┆ Juliana  ┆ 21   ┆ Estadistica Informatica ┆ F    │\n",
      "│ 1002          ┆ Fernando ┆ 19   ┆ Economia                ┆ M    │\n",
      "│ 1003          ┆ Lucero   ┆ 19   ┆ Gestion                 ┆ F    │\n",
      "│ 1004          ┆ Josselyn ┆ 20   ┆ Gestion                 ┆ F    │\n",
      "│ 1005          ┆ Ismael   ┆ 29   ┆ Economia                ┆ M    │\n",
      "│ 1006          ┆ Ximena   ┆ 20   ┆ Estadistica Informatica ┆ F    │\n",
      "└───────────────┴──────────┴──────┴─────────────────────────┴──────┘\n"
     ]
    }
   ],
   "source": [
    "import polars as pl\n",
    "\n",
    "Estudiantes = pl.DataFrame({\"ID_Estudiante\":[1001,1002,1003,1004,1005,1006],\"Nombre\":[\"Juliana\",\"Fernando\",\"Lucero\",\"Josselyn\",\"Ismael\",\"Ximena\"]\n",
    "                     , \"Edad\":[21,19,19,20,29,20], \"Carrera\":[\"Estadistica Informatica\",\"Economia\",\"Gestion\",\"Gestion\",\"Economia\",\"Estadistica Informatica\"]\n",
    "                     , \"Sexo\":[\"F\",\"M\",\"F\",\"F\",\"M\",\"F\"]})\n",
    "\n",
    "print(Estudiantes)"
   ]
  },
  {
   "cell_type": "code",
   "execution_count": 22,
   "id": "f0fe27b6",
   "metadata": {},
   "outputs": [
    {
     "name": "stdout",
     "output_type": "stream",
     "text": [
      "shape: (5, 3)\n",
      "┌──────────┬───────────────┬──────┐\n",
      "│ ID_Notas ┆ ID_Estudiante ┆ Nota │\n",
      "│ ---      ┆ ---           ┆ ---  │\n",
      "│ i64      ┆ i64           ┆ i64  │\n",
      "╞══════════╪═══════════════╪══════╡\n",
      "│ 2001     ┆ 1001          ┆ 18   │\n",
      "│ 2002     ┆ 1002          ┆ 0    │\n",
      "│ 2003     ┆ 1003          ┆ 10   │\n",
      "│ 2004     ┆ 1004          ┆ 17   │\n",
      "│ 2005     ┆ 1005          ┆ 20   │\n",
      "└──────────┴───────────────┴──────┘\n"
     ]
    }
   ],
   "source": [
    "Notas = pl.DataFrame({\"ID_Notas\":[2001,2002,2003,2004,2005], \"ID_Estudiante\":[1001,1002,1003,1004,1005],\"Nota\":[18,0,10,17,20]})\n",
    "print(Notas)"
   ]
  },
  {
   "cell_type": "markdown",
   "id": "1e5f6e99",
   "metadata": {},
   "source": [
    "### Inner join:\n",
    "La función 'inner join' une aquellas filas de ambas tablas que tengan un parametro en comun el cual sera definido por 'on'."
   ]
  },
  {
   "cell_type": "code",
   "execution_count": 23,
   "id": "6f083f12",
   "metadata": {},
   "outputs": [
    {
     "name": "stdout",
     "output_type": "stream",
     "text": [
      "shape: (5, 7)\n",
      "┌───────────────┬──────────┬──────┬─────────────────────────┬──────┬──────────┬──────┐\n",
      "│ ID_Estudiante ┆ Nombre   ┆ Edad ┆ Carrera                 ┆ Sexo ┆ ID_Notas ┆ Nota │\n",
      "│ ---           ┆ ---      ┆ ---  ┆ ---                     ┆ ---  ┆ ---      ┆ ---  │\n",
      "│ i64           ┆ str      ┆ i64  ┆ str                     ┆ str  ┆ i64      ┆ i64  │\n",
      "╞═══════════════╪══════════╪══════╪═════════════════════════╪══════╪══════════╪══════╡\n",
      "│ 1001          ┆ Juliana  ┆ 21   ┆ Estadistica Informatica ┆ F    ┆ 2001     ┆ 18   │\n",
      "│ 1002          ┆ Fernando ┆ 19   ┆ Economia                ┆ M    ┆ 2002     ┆ 0    │\n",
      "│ 1003          ┆ Lucero   ┆ 19   ┆ Gestion                 ┆ F    ┆ 2003     ┆ 10   │\n",
      "│ 1004          ┆ Josselyn ┆ 20   ┆ Gestion                 ┆ F    ┆ 2004     ┆ 17   │\n",
      "│ 1005          ┆ Ismael   ┆ 29   ┆ Economia                ┆ M    ┆ 2005     ┆ 20   │\n",
      "└───────────────┴──────────┴──────┴─────────────────────────┴──────┴──────────┴──────┘\n"
     ]
    }
   ],
   "source": [
    "inner_join = Estudiantes.join(Notas,how=\"inner\",on=\"ID_Estudiante\")\n",
    "print(inner_join)"
   ]
  },
  {
   "cell_type": "markdown",
   "id": "dba190f0",
   "metadata": {},
   "source": [
    "### Left join:\n",
    "La función 'left join' une aquellas filas de la segunda tabla que tengan un parametro en comun con la primera tabla, manteniendo esta ultima."
   ]
  },
  {
   "cell_type": "code",
   "execution_count": 28,
   "id": "4b6f5120",
   "metadata": {},
   "outputs": [
    {
     "name": "stdout",
     "output_type": "stream",
     "text": [
      "shape: (6, 7)\n",
      "┌───────────────┬──────────┬──────┬─────────────────────────┬──────┬──────────┬──────┐\n",
      "│ ID_Estudiante ┆ Nombre   ┆ Edad ┆ Carrera                 ┆ Sexo ┆ ID_Notas ┆ Nota │\n",
      "│ ---           ┆ ---      ┆ ---  ┆ ---                     ┆ ---  ┆ ---      ┆ ---  │\n",
      "│ i64           ┆ str      ┆ i64  ┆ str                     ┆ str  ┆ i64      ┆ i64  │\n",
      "╞═══════════════╪══════════╪══════╪═════════════════════════╪══════╪══════════╪══════╡\n",
      "│ 1001          ┆ Juliana  ┆ 21   ┆ Estadistica Informatica ┆ F    ┆ 2001     ┆ 18   │\n",
      "│ 1002          ┆ Fernando ┆ 19   ┆ Economia                ┆ M    ┆ 2002     ┆ 0    │\n",
      "│ 1003          ┆ Lucero   ┆ 19   ┆ Gestion                 ┆ F    ┆ 2003     ┆ 10   │\n",
      "│ 1004          ┆ Josselyn ┆ 20   ┆ Gestion                 ┆ F    ┆ 2004     ┆ 17   │\n",
      "│ 1005          ┆ Ismael   ┆ 29   ┆ Economia                ┆ M    ┆ 2005     ┆ 20   │\n",
      "│ 1006          ┆ Ximena   ┆ 20   ┆ Estadistica Informatica ┆ F    ┆ null     ┆ null │\n",
      "└───────────────┴──────────┴──────┴─────────────────────────┴──────┴──────────┴──────┘\n",
      "shape: (5, 7)\n",
      "┌──────────┬───────────────┬──────┬──────────┬──────┬─────────────────────────┬──────┐\n",
      "│ ID_Notas ┆ ID_Estudiante ┆ Nota ┆ Nombre   ┆ Edad ┆ Carrera                 ┆ Sexo │\n",
      "│ ---      ┆ ---           ┆ ---  ┆ ---      ┆ ---  ┆ ---                     ┆ ---  │\n",
      "│ i64      ┆ i64           ┆ i64  ┆ str      ┆ i64  ┆ str                     ┆ str  │\n",
      "╞══════════╪═══════════════╪══════╪══════════╪══════╪═════════════════════════╪══════╡\n",
      "│ 2001     ┆ 1001          ┆ 18   ┆ Juliana  ┆ 21   ┆ Estadistica Informatica ┆ F    │\n",
      "│ 2002     ┆ 1002          ┆ 0    ┆ Fernando ┆ 19   ┆ Economia                ┆ M    │\n",
      "│ 2003     ┆ 1003          ┆ 10   ┆ Lucero   ┆ 19   ┆ Gestion                 ┆ F    │\n",
      "│ 2004     ┆ 1004          ┆ 17   ┆ Josselyn ┆ 20   ┆ Gestion                 ┆ F    │\n",
      "│ 2005     ┆ 1005          ┆ 20   ┆ Ismael   ┆ 29   ┆ Economia                ┆ M    │\n",
      "└──────────┴───────────────┴──────┴──────────┴──────┴─────────────────────────┴──────┘\n"
     ]
    }
   ],
   "source": [
    "left_join_1 = Estudiantes.join(Notas,how=\"left\",on=\"ID_Estudiante\")\n",
    "left_join_2 = Notas.join(Estudiantes,how=\"left\",on=\"ID_Estudiante\")\n",
    "print(left_join_1)\n",
    "print(left_join_2)\n"
   ]
  },
  {
   "cell_type": "markdown",
   "id": "89f6dc96",
   "metadata": {},
   "source": [
    "### Outer join:\n",
    "La función 'outer join' "
   ]
  },
  {
   "cell_type": "code",
   "execution_count": 30,
   "id": "08a25da8",
   "metadata": {},
   "outputs": [
    {
     "name": "stdout",
     "output_type": "stream",
     "text": [
      "shape: (6, 7)\n",
      "┌───────────────┬──────────┬──────┬─────────────────────────┬──────┬──────────┬──────┐\n",
      "│ ID_Estudiante ┆ Nombre   ┆ Edad ┆ Carrera                 ┆ Sexo ┆ ID_Notas ┆ Nota │\n",
      "│ ---           ┆ ---      ┆ ---  ┆ ---                     ┆ ---  ┆ ---      ┆ ---  │\n",
      "│ i64           ┆ str      ┆ i64  ┆ str                     ┆ str  ┆ i64      ┆ i64  │\n",
      "╞═══════════════╪══════════╪══════╪═════════════════════════╪══════╪══════════╪══════╡\n",
      "│ 1001          ┆ Juliana  ┆ 21   ┆ Estadistica Informatica ┆ F    ┆ 2001     ┆ 18   │\n",
      "│ 1002          ┆ Fernando ┆ 19   ┆ Economia                ┆ M    ┆ 2002     ┆ 0    │\n",
      "│ 1003          ┆ Lucero   ┆ 19   ┆ Gestion                 ┆ F    ┆ 2003     ┆ 10   │\n",
      "│ 1004          ┆ Josselyn ┆ 20   ┆ Gestion                 ┆ F    ┆ 2004     ┆ 17   │\n",
      "│ 1005          ┆ Ismael   ┆ 29   ┆ Economia                ┆ M    ┆ 2005     ┆ 20   │\n",
      "│ 1006          ┆ Ximena   ┆ 20   ┆ Estadistica Informatica ┆ F    ┆ null     ┆ null │\n",
      "└───────────────┴──────────┴──────┴─────────────────────────┴──────┴──────────┴──────┘\n",
      "shape: (6, 7)\n",
      "┌──────────┬───────────────┬──────┬──────────┬──────┬─────────────────────────┬──────┐\n",
      "│ ID_Notas ┆ ID_Estudiante ┆ Nota ┆ Nombre   ┆ Edad ┆ Carrera                 ┆ Sexo │\n",
      "│ ---      ┆ ---           ┆ ---  ┆ ---      ┆ ---  ┆ ---                     ┆ ---  │\n",
      "│ i64      ┆ i64           ┆ i64  ┆ str      ┆ i64  ┆ str                     ┆ str  │\n",
      "╞══════════╪═══════════════╪══════╪══════════╪══════╪═════════════════════════╪══════╡\n",
      "│ 2001     ┆ 1001          ┆ 18   ┆ Juliana  ┆ 21   ┆ Estadistica Informatica ┆ F    │\n",
      "│ 2002     ┆ 1002          ┆ 0    ┆ Fernando ┆ 19   ┆ Economia                ┆ M    │\n",
      "│ 2003     ┆ 1003          ┆ 10   ┆ Lucero   ┆ 19   ┆ Gestion                 ┆ F    │\n",
      "│ 2004     ┆ 1004          ┆ 17   ┆ Josselyn ┆ 20   ┆ Gestion                 ┆ F    │\n",
      "│ 2005     ┆ 1005          ┆ 20   ┆ Ismael   ┆ 29   ┆ Economia                ┆ M    │\n",
      "│ null     ┆ 1006          ┆ null ┆ Ximena   ┆ 20   ┆ Estadistica Informatica ┆ F    │\n",
      "└──────────┴───────────────┴──────┴──────────┴──────┴─────────────────────────┴──────┘\n"
     ]
    }
   ],
   "source": [
    "outer_join_1 = Estudiantes.join(Notas,on = \"ID_Estudiante\",how=\"outer\")\n",
    "outer_join_2 = Notas.join(Estudiantes, on = \"ID_Estudiante\",how= \"outer\")\n",
    "print(outer_join_1)\n",
    "print(outer_join_2)"
   ]
  },
  {
   "cell_type": "markdown",
   "id": "9919a32f",
   "metadata": {},
   "source": [
    "### Cross join:\n"
   ]
  },
  {
   "cell_type": "code",
   "execution_count": 31,
   "id": "e772754c",
   "metadata": {},
   "outputs": [
    {
     "name": "stdout",
     "output_type": "stream",
     "text": [
      "shape: (3, 2)\n",
      "┌──────────────┬──────────────┐\n",
      "│ Camisa_Color ┆ Marca_Camisa │\n",
      "│ ---          ┆ ---          │\n",
      "│ str          ┆ str          │\n",
      "╞══════════════╪══════════════╡\n",
      "│ Rojo         ┆ Charvet      │\n",
      "│ Azul         ┆ Lorenzini    │\n",
      "│ Negro        ┆ Kabbaz       │\n",
      "└──────────────┴──────────────┘\n",
      "shape: (3, 2)\n",
      "┌────────────────┬────────────────┐\n",
      "│ Pantalon_Color ┆ Marca_pantalon │\n",
      "│ ---            ┆ ---            │\n",
      "│ str            ┆ str            │\n",
      "╞════════════════╪════════════════╡\n",
      "│ Negro          ┆ Levis          │\n",
      "│ Marron         ┆ The brand      │\n",
      "│ Azul           ┆ AJ             │\n",
      "└────────────────┴────────────────┘\n"
     ]
    }
   ],
   "source": [
    "Camisas = pl.DataFrame({\"Camisa_Color\":[\"Rojo\",\"Azul\",\"Negro\"], \"Marca_Camisa\":[\"Charvet\",\"Lorenzini\",\"Kabbaz\"]})\n",
    "Pantalones = pl.DataFrame({\"Pantalon_Color\":[\"Negro\",\"Marron\",\"Azul\"], \"Marca_pantalon\":[\"Levis\",\"The brand\",\"AJ\"]})\n",
    "print(Camisas)\n",
    "print(Pantalones)"
   ]
  },
  {
   "cell_type": "code",
   "execution_count": 32,
   "id": "b96dca20",
   "metadata": {},
   "outputs": [
    {
     "name": "stdout",
     "output_type": "stream",
     "text": [
      "shape: (9, 4)\n",
      "┌──────────────┬──────────────┬────────────────┬────────────────┐\n",
      "│ Camisa_Color ┆ Marca_Camisa ┆ Pantalon_Color ┆ Marca_pantalon │\n",
      "│ ---          ┆ ---          ┆ ---            ┆ ---            │\n",
      "│ str          ┆ str          ┆ str            ┆ str            │\n",
      "╞══════════════╪══════════════╪════════════════╪════════════════╡\n",
      "│ Rojo         ┆ Charvet      ┆ Negro          ┆ Levis          │\n",
      "│ Rojo         ┆ Charvet      ┆ Marron         ┆ The brand      │\n",
      "│ Rojo         ┆ Charvet      ┆ Azul           ┆ AJ             │\n",
      "│ Azul         ┆ Lorenzini    ┆ Negro          ┆ Levis          │\n",
      "│ Azul         ┆ Lorenzini    ┆ Marron         ┆ The brand      │\n",
      "│ Azul         ┆ Lorenzini    ┆ Azul           ┆ AJ             │\n",
      "│ Negro        ┆ Kabbaz       ┆ Negro          ┆ Levis          │\n",
      "│ Negro        ┆ Kabbaz       ┆ Marron         ┆ The brand      │\n",
      "│ Negro        ┆ Kabbaz       ┆ Azul           ┆ AJ             │\n",
      "└──────────────┴──────────────┴────────────────┴────────────────┘\n"
     ]
    }
   ],
   "source": [
    "Cross_join = Camisas.join(Pantalones,how=\"cross\")\n",
    "print(Cross_join)"
   ]
  },
  {
   "cell_type": "markdown",
   "id": "38f15794",
   "metadata": {},
   "source": [
    "### Semi join:\n"
   ]
  },
  {
   "cell_type": "code",
   "execution_count": null,
   "id": "5013c7bd",
   "metadata": {},
   "outputs": [],
   "source": [
    "semi_join = Estudiantes.join(Notas,how=\"semi\",)"
   ]
  }
 ],
 "metadata": {
  "kernelspec": {
   "display_name": "Python 3 (ipykernel)",
   "language": "python",
   "name": "python3"
  },
  "language_info": {
   "codemirror_mode": {
    "name": "ipython",
    "version": 3
   },
   "file_extension": ".py",
   "mimetype": "text/x-python",
   "name": "python",
   "nbconvert_exporter": "python",
   "pygments_lexer": "ipython3",
   "version": "3.9.13"
  }
 },
 "nbformat": 4,
 "nbformat_minor": 5
}
